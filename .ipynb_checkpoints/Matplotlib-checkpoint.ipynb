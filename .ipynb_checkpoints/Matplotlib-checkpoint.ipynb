{
 "cells": [
  {
   "cell_type": "markdown",
   "id": "b6099995-cffe-4eca-9d63-c12a9e9e72e6",
   "metadata": {},
   "source": [
    "# Loading Libraries "
   ]
  },
  {
   "cell_type": "code",
   "execution_count": null,
   "id": "7bb1ed86-0c2a-4171-8cc9-bb83076d6f35",
   "metadata": {},
   "outputs": [],
   "source": [
    "import matplotlib.pyplot as plt\n",
    "import numpy as np\n",
    "%matplotlib inline"
   ]
  },
  {
   "cell_type": "markdown",
   "id": "9767d1ad-0317-4e20-8960-122a8b430852",
   "metadata": {},
   "source": [
    "1. Matplotlib plots graph on `Figure`\n",
    "2. `Axes` plotting area which attached to the `Figure`\n",
    "3. `Axis` set scale and limit and generate ticks (`ticks` marks on the `axis`). `Locator` and `Formatter` objects has full control over where and how `ticks` and `ticks_labels` appeares on the `axis`.\n",
    "4. `Artist` object is the parent object for `figure`, `axes`, `axis` and everything on the figure. when figure is rendered, all the `artist` objects renderend on the canvas. most `artists` are tied to its `axes` which means it cannot shared or moved to another `axes`."
   ]
  },
  {
   "cell_type": "code",
   "execution_count": null,
   "id": "28393f1f-7330-4e7b-8129-98cc1ebc5e56",
   "metadata": {},
   "outputs": [],
   "source": [
    "# simple way \n",
    "fig, ax =  plt.subplots()\n",
    "ax.plot([1,2,3,4,5], [2,5,3,9,4])\n",
    "plt.show()"
   ]
  },
  {
   "cell_type": "code",
   "execution_count": null,
   "id": "d0355fde-4450-4d0f-a9a0-08dedbe88720",
   "metadata": {},
   "outputs": [],
   "source": [
    "# parts of the figures\n",
    "\n",
    "import matplotlib.image as mpimg\n",
    "\n",
    "# loading the image\n",
    "\n",
    "img = mpimg.imread(\"./matplotlib/anatomy.webp\")\n",
    "\n",
    "# showing the image\n",
    "fig, ax = plt.subplots(figsize = (10,8))\n",
    "ax.axis(\"off\")\n",
    "ax.imshow(img)\n",
    "plt.show()"
   ]
  },
  {
   "cell_type": "markdown",
   "id": "dd290f3e-c24f-4c32-a221-ac3a566ba8d8",
   "metadata": {},
   "source": [
    "## Creating figures"
   ]
  },
  {
   "cell_type": "code",
   "execution_count": null,
   "id": "17fe362b-a30f-42dc-85f6-8635474e47d6",
   "metadata": {},
   "outputs": [],
   "source": [
    "# an empty figure withour axes\n",
    "\n",
    "fig = plt.figure()"
   ]
  },
  {
   "cell_type": "code",
   "execution_count": null,
   "id": "41e52f1d-8d6f-4af7-a967-19fbdc553d62",
   "metadata": {},
   "outputs": [],
   "source": [
    "# A figure with single axes\n",
    "\n",
    "fig, ax = plt.subplots()"
   ]
  },
  {
   "cell_type": "code",
   "execution_count": null,
   "id": "f43aba04-cc14-4f39-af5e-92272cacf722",
   "metadata": {},
   "outputs": [],
   "source": [
    "# a figure with 2x2 axes (4 plots)\n",
    "\n",
    "fig, axs = plt.subplots(2,2)\n"
   ]
  },
  {
   "cell_type": "code",
   "execution_count": null,
   "id": "7fa19567-316d-4ce2-9c1b-818c0431cfda",
   "metadata": {},
   "outputs": [],
   "source": [
    "# A figure with one axes on the left and two axes on the right\n",
    "\n",
    "fig, axs = plt.subplot_mosaic([[\"left\", \"right_top\"],\n",
    "                              [\"left\", \"right_botton\"]])"
   ]
  },
  {
   "cell_type": "markdown",
   "id": "d5fbe60c-29a0-464c-b1c8-778c2ecb20f8",
   "metadata": {},
   "source": [
    "## Input\n",
    "\n",
    "1. plotting function accepts `numpy.array` or `numpy.ma.masked_array` or objects which can be passed to `numpy.asarray` as input.\n",
    "2. other array like objects (ex: `pandas`) objects and `numpy.matrix` may not work as intended.\n",
    "3. Best practice should convert the input into `numpy.array` before passing to plotting functions in `matplotlib`.\n",
    "4. Most methods accept string-like indexable objects (dict, structured numpy array or `pandas.DataFrame`.\n",
    "5. `matplotlib` allows pass entire data into `data` objects and provide `string` feature titles/ names to corresponding x, y variables.\n"
   ]
  },
  {
   "cell_type": "code",
   "execution_count": null,
   "id": "723dd9b3-7af6-47ff-8c04-bb3189081525",
   "metadata": {},
   "outputs": [],
   "source": [
    "# Prepare the data\n",
    "\n",
    "np.random.seed(2025)\n",
    "data = {\n",
    "    \"a\": np.arange(50),\n",
    "    \"c\":np.random.randint(0,50,50),\n",
    "    \"d\":np.random.randn(50)}\n",
    "\n",
    "data[\"b\"] = data[\"a\"] + 10 * np.random.randn(50)\n",
    "data[\"d\"] = np.abs(data[\"d\"])*100"
   ]
  },
  {
   "cell_type": "code",
   "execution_count": null,
   "id": "f8cf520e-eab2-4fb0-94fb-85f67705eb15",
   "metadata": {},
   "outputs": [],
   "source": [
    "# Plotting scatter\n",
    "\n",
    "fig, axs = plt.subplots(figsize = (5, 2.7), layout = \"constrained\")\n",
    "axs.scatter(\"a\", \"b\", c=\"c\", s=\"d\", data= data)\n",
    "axs.set_xlabel(\"X-axis\")\n",
    "axs.set_ylabel(\"Y-axis\")\n",
    "axs.set_title(\"Scatter plot for python Dictionary\")\n",
    "plt.show()"
   ]
  },
  {
   "cell_type": "markdown",
   "id": "0327816d-e4bc-43d2-94a3-4e229a004d92",
   "metadata": {},
   "source": [
    "# Coding styles\n",
    "there is two ways using `matplotlib` to create plots\n",
    "1. Explicit way - create `figure` and `axes`. then, call methods on then (Object-oriented style)\n",
    "2. Implicit way - relaying `pyplot` on creating `figure` and `axes`. then `pyplot` functions to plot\n",
    "3. `(out of scope)` Embedding matplotlib in GUI - API \n"
   ]
  },
  {
   "cell_type": "code",
   "execution_count": null,
   "id": "097f56e2-f442-4962-868b-37f39a4edd7b",
   "metadata": {},
   "outputs": [],
   "source": [
    "# Explicit way - starting from figure\n",
    "\n",
    "## Preparing data\n",
    "x = np.linspace(0,2,100)\n",
    "\n",
    "# Plotting\n",
    "\n",
    "fig, axs = plt.subplots(figsize = (5,2.7), layout = \"constrained\")\n",
    "axs.plot(x,x, label = \"linear\")\n",
    "axs.plot(x, x**2, label = \"quadratic\")\n",
    "axs.plot(x, x**3, label =\"cubic\")\n",
    "axs.set_xlabel(\"X-axis\")\n",
    "axs.set_ylabel(\"Y-axis\")\n",
    "axs.set_title(\"Explicit way of plotting\")\n",
    "axs.legend()\n",
    "plt.show()"
   ]
  },
  {
   "cell_type": "code",
   "execution_count": null,
   "id": "6103a91b-fc46-4949-8312-8ca2481b30c2",
   "metadata": {},
   "outputs": [],
   "source": [
    "# Implicit way \n",
    "\n",
    "plt.figure(figsize = (5,2.7), layout = \"constrained\")\n",
    "plt.plot(x, x, label= \"linear\")\n",
    "plt.plot(x, x**2, label =\"Quadratic\")\n",
    "plt.plot(x, x**3, label =\"Cubic\")\n",
    "plt.xlabel(\"x-axis\")\n",
    "plt.ylabel(\"y-axis\")\n",
    "plt.title(\"Implicit way of plotting\")\n",
    "plt.legend()\n",
    "plt.show()"
   ]
  },
  {
   "cell_type": "markdown",
   "id": "a8aaa409-6732-4e60-8cc0-29289f4606a1",
   "metadata": {},
   "source": [
    "# Styling artists\n",
    "we can set styles for `artist` objects using \n",
    "1. plotting methods\n",
    "2. using `setter`s "
   ]
  },
  {
   "cell_type": "code",
   "execution_count": null,
   "id": "e6859ff7-b1b4-4052-9775-b5dc63879925",
   "metadata": {},
   "outputs": [],
   "source": [
    "# Plotting methods\n",
    "\n",
    "# Preparing data\n",
    "x = np.linspace(-20, 20, 50)\n",
    "\n",
    "fig, axs = plt.subplots(figsize = (5, 2.7))\n",
    "axs.plot(x, np.cumsum(x), color=\"blue\", linewidth = 3, linestyle =\"--\")\n",
    "\n",
    "fig, axs = plt.subplots(figsize = (5, 2.7))\n",
    "for_setter,  = axs.plot(x, np.cumsum(x), color=\"orange\", linewidth = 2) # please notice the , after for_setter\n",
    "for_setter.set_linestyle(\":\")"
   ]
  },
  {
   "cell_type": "code",
   "execution_count": null,
   "id": "b7c1b2df-63e1-4ad5-b77d-908492cffc0a",
   "metadata": {},
   "outputs": [],
   "source": [
    "# Using subplots ==own\n",
    "\n",
    "fig, axs = plt.subplots(1,2, figsize = (10, 2.7))\n",
    "\n",
    "axs[0].plot(x, np.cumsum(x), color =\"green\", linewidth = 2.5, linestyle = \"--\")\n",
    "axs[0].set_title(\"Included in plottin methods\")\n",
    "\n",
    "\n",
    "for_setter, = axs[1].plot(x, np.cumsum(x), color = \"m\")\n",
    "axs[1].set_title(\"Using setters\")\n",
    "for_setter.set_linewidth(3.5)\n"
   ]
  },
  {
   "cell_type": "markdown",
   "id": "4c36554b-8316-4fc3-8550-127be5a0e785",
   "metadata": {},
   "source": [
    "## Colors\n",
    "colors can be specified in a lot of ways\n",
    "1. RGB - range(0-1) - syntax -> `(0.1, 0.5, 0.4)`\n",
    "2. RGB hex - range(0 - f(15)) - syntax -> `\"#0808df\"` or `\"#0808df10\"` with `transperancy`.\n",
    "3. RGB hex shorthand - rnage(0 - f(15)) - syntax -> `\"#ab1\"` for `\"#aabb11\"`.\n",
    "4. Single value interval for gray scale values - range (0-1) - syntax -> `0`-black, `1`- white and `(0-1)` inbetween grayscale values.\n",
    "5. Single short hand string notation -> `b`- blue, `g`- green, `r`- red, `c`- cyan, `m`- magenta, `y`- yellow, `k`- black, `w`- white.\n",
    "6. Case-Senstive X11/CSS4 color names without spaces - https://learningwebdesign.com/colornames.html.\n",
    "7. Case-insentitive color name with  xkch color survey - syntax-> `xkch:sky blue`, all other options:https://www.w3schools.com/colors/colors_xkcd.asp\n",
    "8. Case-insentitive tableau colors from `T10` categorical palette - `tab:blue`, all other options: https://public.tableau.com/app/profile/chris.gerrard/viz/TableausCategoricalColorPalettesReferenceGuide_16161875336400/TableausCategoricalColorPalettes.\n",
    "9. Tuple of one of the color format with alpha float for transperancy - syntax-> `('green', 0.3)`.\n",
    "10. `None` - for transparent"
   ]
  },
  {
   "cell_type": "code",
   "execution_count": null,
   "id": "a6acfcee-2be1-4948-8d2e-4c61bef0d16d",
   "metadata": {},
   "outputs": [],
   "source": [
    "# some artist can accept more than one colors for different variables (ex: scatter)\n",
    "\n",
    "data1 = np.arange(0, 25, 0.5)\n",
    "data2 = np.random.randint(1, 50, 50)\n",
    "\n",
    "fig, axs = plt.subplots()\n",
    "axs.scatter(data1, data2, s =50, facecolor = \"#600268\", edgecolor = \"k\")\n",
    "plt.show()"
   ]
  },
  {
   "cell_type": "markdown",
   "id": "2d8be80f-3714-4fbf-ab99-1f54b28f8047",
   "metadata": {},
   "source": [
    "## Linewidths, linestyles and markersizes"
   ]
  },
  {
   "cell_type": "markdown",
   "id": "b5ee2565-e424-4ece-b2c6-b23536f05258",
   "metadata": {},
   "source": [
    "1. `Linewidths` are typographic points (1pt = 1/72inch) and available for artists that have stroked lines.\n",
    "2. `Linestyles` can be defined using string (`solid`, `dotted`, `dashed` or `dashdot`). more refined options with dash tuple `(offset, (on_off_seq))`.\n",
    "3. Here are the available markers - https://matplotlib.org/stable/api/markers_api.html#module-matplotlib.markers. `markerstyle` allows users to create their own markers with full control."
   ]
  },
  {
   "cell_type": "code",
   "execution_count": null,
   "id": "e4e68bc0-a823-499c-99b3-d57b56f26637",
   "metadata": {},
   "outputs": [],
   "source": [
    "# colors\n",
    "\n",
    "data = np.arange(0, 100,1)\n",
    "\n",
    "fig, axs = plt.subplots()\n",
    "axs.plot(data, linestyle = (0,(4,4)), color = \"#df782390\", linewidth = 3)\n",
    "axs.set_xlim(0,100)\n",
    "axs.set_ylim(0,100)"
   ]
  },
  {
   "cell_type": "code",
   "execution_count": null,
   "id": "4c1f0e04-5d9b-4dd7-a845-d37b08dd3aeb",
   "metadata": {},
   "outputs": [],
   "source": [
    "# Marker \n",
    "\n",
    "# Preparing data\n",
    "x = np.arange(0,10,0.5)\n",
    "y = np.random.randn(20)\n",
    "\n",
    "# Creating the figure\n",
    "fig, axs = plt.subplots(2,2, figsize = (10,10), layout = \"constrained\")\n",
    "\n",
    "# plot\n",
    "\n",
    "axs[0,0].plot(x,y,color = \"b\", marker =\"v\", markersize = 10, markerfacecolor = \"yellow\", markeredgecolor = \"green\")\n",
    "axs[0,0].set_title(\"plot with marker\")\n",
    "\n",
    "# custom marker\n",
    "from matplotlib.markers import MarkerStyle\n",
    "custom_marker = MarkerStyle(marker = \"8\", fillstyle= \"top\")\n",
    "axs[0,1].plot(x,y,color = \"b\", marker = custom_marker, markersize =10, markerfacecolor = \"yellow\", markeredgecolor = \"green\")\n",
    "axs[0,1].set_title(\"Plot with custom marker\")\n",
    "\n",
    "# Scatter plot\n",
    "axs[1,0].scatter(x,y, marker = \"v\",s = 80,edgecolor = \"green\", facecolor = \"yellow\")\n",
    "axs[1,0].set_title(\"Scatter with marker\")\n",
    "\n",
    "# Custom marker\n",
    "axs[1,1].scatter(x,y,marker = custom_marker, s = 80, edgecolor = \"green\", facecolor = \"yellow\")\n",
    "axs[1,1].set_title(\"Scatter with custom marker\")\n",
    "\n",
    "plt.show()"
   ]
  },
  {
   "cell_type": "markdown",
   "id": "60f5c32b-7474-4301-bbcd-a32667d20802",
   "metadata": {},
   "source": [
    "# Labelling plots"
   ]
  },
  {
   "cell_type": "markdown",
   "id": "34606d4c-8e4a-4eec-adfe-d6632d338b0e",
   "metadata": {},
   "source": [
    "## Axes labels and text\n",
    "1. `set_title`, `set_xlabel`, `set_label` and `text` can be added to the plot"
   ]
  },
  {
   "cell_type": "code",
   "execution_count": null,
   "id": "66d21a71-386e-42b4-8302-a69118d6cda4",
   "metadata": {},
   "outputs": [],
   "source": [
    "# figure\n",
    "\n",
    "fig, axs = plt.subplots()\n",
    "\n",
    "# adding more space at top the subplots\n",
    "fig.subplots_adjust(top = 0.85)\n",
    "\n",
    "# adding subtitle for the figure\n",
    "fig.suptitle(\"Bold 14 size\", fontsize = 14, fontweight = \"bold\")\n",
    "\n",
    "axs.set_title(\"subplot title\", fontsize = 10, color = \"magenta\", style = \"italic\") # subplot title\n",
    "\n",
    "# adding the text inside box\n",
    "axs.text(3,8, \"some text in the box\", style =\"italic\",color=\"red\", bbox = {\"facecolor\":\"pink\", \"alpha\": 0.3, \"pad\":10}) \n",
    "\n",
    "# adding scientific equation\n",
    "axs.text(2,6, f\"scienfic equation: $E=mc^2$\", fontsize = 12)  \n",
    "\n",
    "# adding unicode\n",
    "axs.text(6,2, \"Unicode :நந்த௶௶\")\n",
    "\n",
    "# annotation\n",
    "axs.plot([2],[1], marker = \"o\")\n",
    "axs.annotate(\"This is annotated text\", xy = (2,1), xytext = (3,4), arrowprops =dict(facecolor= \"k\", shrink = 0.05)) \n",
    "\n",
    "# adding text using axes coordinates\n",
    "axs.text(0.95, 0.01, \"added using axes coordinates\", verticalalignment = \"bottom\", horizontalalignment =\"right\", \n",
    "         transform = axs.transAxes, color = \"green\",fontsize =15)\n",
    "\n",
    "\n",
    "# Setting the s=x and y axis range\n",
    "axs.axis([0,10,0,10])\n",
    "\n",
    "axs.set_xlabel(\"X axis\")\n",
    "axs.set_ylabel(\"Y axis\")\n",
    "\n",
    "plt.show()\n"
   ]
  },
  {
   "cell_type": "code",
   "execution_count": null,
   "id": "1995c132-4619-4161-89d6-3eb08896aa91",
   "metadata": {},
   "outputs": [],
   "source": [
    "# Font properties variable - \n",
    "\n",
    "from matplotlib.font_manager import FontProperties\n",
    "font = FontProperties(family =\"sans-serif\", style = \"italic\" )\n",
    "\n",
    "fig, axs = plt.subplots()\n",
    "\n",
    "fig.suptitle(\"Font properties used\", fontproperties = font)\n",
    "\n",
    "plt.show()"
   ]
  },
  {
   "cell_type": "markdown",
   "id": "3c990af0-e0e8-4a9e-8241-fac0bfeb3dfd",
   "metadata": {},
   "source": [
    "## Mathematical expressions\n",
    "1. `matplotlib` accepts the `TeX equation` expressions.\n",
    "2. when `text` precedes with `r` which indicates that the text will be treated as raw text (escape character is as raw text)\n"
   ]
  },
  {
   "cell_type": "code",
   "execution_count": 226,
   "id": "4284d172-7330-4322-962d-26a90f018d5c",
   "metadata": {},
   "outputs": [
    {
     "data": {
      "image/png": "[encoded data removed]",
      "text/plain": [
       "<Figure size 640x480 with 1 Axes>"
      ]
     },
     "metadata": {},
     "output_type": "display_data"
    }
   ],
   "source": [
    "# mathematical expression\n",
    "\n",
    "fig, axs = plt.subplots()\n",
    "\n",
    "axs.set_title(r'${(a+b)^{2} = a^{2} + b^{2} +2ab}$')\n",
    "plt.show()"
   ]
  },
  {
   "cell_type": "markdown",
   "id": "d2010927-9bf7-4ecc-9c6f-60eb1f4d03b9",
   "metadata": {},
   "source": [
    "## Legends"
   ]
  },
  {
   "cell_type": "code",
   "execution_count": 231,
   "id": "d661d774-7791-41f8-8aa0-d3803852fb8f",
   "metadata": {},
   "outputs": [
    {
     "data": {
      "image/png": "[encoded data removed]",
      "text/plain": [
       "<Figure size 640x480 with 1 Axes>"
      ]
     },
     "metadata": {},
     "output_type": "display_data"
    }
   ],
   "source": [
    "fig, axs =plt.subplots()\n",
    "x = np.arange(50)\n",
    "y1 = np.random.normal(0,100, 50)\n",
    "y2 = np.random.randint(0, 30, 50)\n",
    "axs.plot(x, y1, marker = \"8\",color =\"g\", label= \"firstone\")\n",
    "axs.plot(x, y2, marker = \"d\",color =\"r\", label = \"second\")\n",
    "axs.set_title(\"Legends\")\n",
    "axs.set_xlabel(\"x\")\n",
    "axs.set_ylabel(\"y\")\n",
    "axs.legend()\n",
    "plt.show()"
   ]
  },
  {
   "cell_type": "code",
   "execution_count": null,
   "id": "d811dac1-b5d2-42d0-b3b2-f2096d85ddd3",
   "metadata": {},
   "outputs": [],
   "source": []
  },
  {
   "cell_type": "code",
   "execution_count": null,
   "id": "2276a285-2eaa-4b0a-bb76-8ea2aaa33c18",
   "metadata": {},
   "outputs": [],
   "source": []
  },
  {
   "cell_type": "markdown",
   "id": "e768b812-3393-4de4-80c9-67ba9824ac12",
   "metadata": {},
   "source": [
    "## Customisation and backend rendering"
   ]
  },
  {
   "cell_type": "code",
   "execution_count": null,
   "id": "bc5be8a1-ecc0-4cdf-8db5-19ba6216329e",
   "metadata": {},
   "outputs": [],
   "source": [
    "# jupyter backend \n",
    "\n",
    "# # default\n",
    "%matplotlib inline\n",
    "\n",
    "\n",
    "\n",
    "#interactive plots \n",
    "# need to install ipympl --> pip install ipympl\n",
    "# %matplotlib widget\n",
    "\n",
    "\n",
    "\n",
    "# advanced interactive shell ipython tool - more customisation required refer api\n",
    "# %matplotlib notebook"
   ]
  },
  {
   "cell_type": "markdown",
   "id": "f65c5ed2-4dfe-408e-b9d2-0808bf77c138",
   "metadata": {},
   "source": [
    "# Creating Figures"
   ]
  },
  {
   "cell_type": "code",
   "execution_count": null,
   "id": "5baddc22-073f-444c-939e-5789b5b492d0",
   "metadata": {},
   "outputs": [],
   "source": [
    "figure, axes = plt.subplots()\n",
    "\n",
    "axes.plot([1,2,3,4,5],[2,4,6,8,10])\n",
    "\n",
    "plt.show()"
   ]
  },
  {
   "cell_type": "markdown",
   "id": "3b6f824e-d85f-4e9e-b476-bf30a3182a2b",
   "metadata": {},
   "source": [
    "#### Creating figures"
   ]
  },
  {
   "cell_type": "code",
   "execution_count": null,
   "id": "09566f7b-cf51-4a6b-a0c3-cea94173fd7d",
   "metadata": {},
   "outputs": [],
   "source": [
    "fig = plt.figure()   # figure with no axis\n"
   ]
  },
  {
   "cell_type": "code",
   "execution_count": null,
   "id": "7d57b975-f9c4-4781-a098-095b8ddcfdae",
   "metadata": {},
   "outputs": [],
   "source": [
    "fig, ax = plt.subplots()  # figure with single axes"
   ]
  },
  {
   "cell_type": "code",
   "execution_count": null,
   "id": "ce86d29f-b1c7-45a4-aa5c-5b80ceb15bc6",
   "metadata": {},
   "outputs": [],
   "source": [
    "fig, axs = plt.subplots(2,2)  # a figure with a 2*2 grid of axis"
   ]
  },
  {
   "cell_type": "code",
   "execution_count": null,
   "id": "0735baf6-bad1-4b87-ac19-1be05fc8073c",
   "metadata": {},
   "outputs": [],
   "source": [
    "fig, axs = plt.subplot_mosaic([['left','right_top'],['left','right_bottom']])"
   ]
  },
  {
   "cell_type": "markdown",
   "id": "d4433546-ef38-40e3-8e2d-bf8cdcb912f6",
   "metadata": {},
   "source": [
    "## Axes"
   ]
  },
  {
   "cell_type": "markdown",
   "id": "d9eb773d-1a01-4dbb-9aa9-81e4dc7f24ca",
   "metadata": {},
   "source": [
    "axes where plots are attached. axes containes 2 axis (x,y) and 3 axis (x,y,z) for 2-D and 3-D plots respectively."
   ]
  },
  {
   "cell_type": "code",
   "execution_count": null,
   "id": "b7a60d55-abcb-4261-840a-37d579d99a2c",
   "metadata": {},
   "outputs": [],
   "source": [
    "# important values\n",
    "\n",
    "# title, xlabel, ylabel"
   ]
  },
  {
   "cell_type": "markdown",
   "id": "96796330-5ef7-45fc-8592-a420e84de0dc",
   "metadata": {},
   "source": [
    "## Axis "
   ]
  },
  {
   "cell_type": "markdown",
   "id": "97e80d6d-accd-4f7f-b4fa-9324e69d74ea",
   "metadata": {},
   "source": [
    "this sets the scale and limits and generate ticks and ticklabels. **Locater**and **formatter** helps to fine control the ticks and ticklabels"
   ]
  },
  {
   "cell_type": "code",
   "execution_count": null,
   "id": "e109180a-02c6-45b6-a996-edb65b70b4b5",
   "metadata": {},
   "outputs": [],
   "source": [
    "# important values\n",
    "\n",
    "#"
   ]
  },
  {
   "cell_type": "markdown",
   "id": "af9ac14b-3b67-4cee-8498-48af68077116",
   "metadata": {},
   "source": [
    "## Artist"
   ]
  },
  {
   "cell_type": "markdown",
   "id": "78f04242-10ae-41d0-b588-6e38fb8dbf09",
   "metadata": {},
   "source": [
    "main object in matplotlib which renders everything on the axes. "
   ]
  },
  {
   "cell_type": "markdown",
   "id": "56299f23-6f17-4f0d-87cf-fac0bb2d11ea",
   "metadata": {},
   "source": [
    "# Types of inputs"
   ]
  },
  {
   "cell_type": "markdown",
   "id": "a7950954-9971-44e7-8043-b1333fc3307d",
   "metadata": {},
   "source": [
    "## Numpy.array"
   ]
  },
  {
   "cell_type": "code",
   "execution_count": null,
   "id": "3877f220-d3f7-46d4-9b2b-28150ae7fa21",
   "metadata": {},
   "outputs": [],
   "source": [
    "x = np.array([1,2,3,4,5])\n",
    "y = x**2"
   ]
  },
  {
   "cell_type": "code",
   "execution_count": null,
   "id": "0358e9e0-332e-4728-968f-8f0dfbe3cc3a",
   "metadata": {},
   "outputs": [],
   "source": [
    "fig, ax = plt.subplots()\n",
    "\n",
    "ax.plot(x,y)\n",
    "\n",
    "plt.show()"
   ]
  },
  {
   "cell_type": "markdown",
   "id": "277b340e-5b76-474d-bb68-e8865f5bdc1a",
   "metadata": {},
   "source": [
    "## Numpy.ma.masked_array"
   ]
  },
  {
   "cell_type": "code",
   "execution_count": null,
   "id": "82399c7c-bf45-412d-8cbc-f7f679995c70",
   "metadata": {},
   "outputs": [],
   "source": [
    "# Generate some example data\n",
    "r = np.linspace(0, 1, 50)\n",
    "x = np.cos(2 * np.pi * r)\n",
    "y = np.sin(2 * np.pi * r)\n",
    "\n",
    "# Define a threshold radius (r0)\n",
    "r0 = 0.45\n",
    "\n",
    "# Create a mask for points where r < r0\n",
    "area1 = np.ma.masked_where(r < r0, r)\n",
    "\n",
    "# Create a mask for points where r >= r0\n",
    "area2 = np.ma.masked_where(r >= r0, r)\n",
    "\n",
    "# Scatter plot with masked data\n",
    "plt.scatter(x, y, s=area1, marker='*', c='blue', label='Masked (r < r0)')\n",
    "plt.scatter(x, y, s=area2, marker='o', c='red', label='Masked (r >= r0)')\n",
    "\n",
    "plt.xlabel('X')\n",
    "plt.ylabel('Y')\n",
    "plt.title('Scatter Plot with Masked Data')\n",
    "plt.legend()\n",
    "plt.grid(True)\n",
    "plt.show()"
   ]
  },
  {
   "cell_type": "markdown",
   "id": "8eba2dee-9903-4bdb-af48-51840bc878af",
   "metadata": {},
   "source": [
    "## Numpy.asarray"
   ]
  },
  {
   "cell_type": "markdown",
   "id": "ba73dc38-0f9c-47f7-ba4c-93e0e69a57c6",
   "metadata": {},
   "source": [
    "arrays like data objects ex: pandas data frame or numpy.matrix may not work as inteded. so please pass the data to **numpy.asarray** before plotting"
   ]
  },
  {
   "cell_type": "code",
   "execution_count": null,
   "id": "05de3948-07c2-4537-b6d4-467543784412",
   "metadata": {},
   "outputs": [],
   "source": [
    "matrix = np.matrix([[1,3,2],[0,2,1.5]])\n",
    "matrix_as_array = np.asarray(matrix)\n"
   ]
  },
  {
   "cell_type": "code",
   "execution_count": null,
   "id": "a3d4336b-a858-4e09-a64d-2beee7636234",
   "metadata": {},
   "outputs": [],
   "source": [
    "fig, ax = plt.subplots()\n",
    "\n",
    "ax.plot(matrix_as_array)\n",
    "\n",
    "plt.show()"
   ]
  },
  {
   "cell_type": "code",
   "execution_count": null,
   "id": "e5964cb5-be90-4e19-9913-e7316f667dec",
   "metadata": {},
   "outputs": [],
   "source": [
    "# most methods will parse string indexed objects like dict, pandas dataframe, structured numpy array\n",
    "\n",
    "# still matplotlib allows data keyword where you can pass whole dataframe and gives string row names as data to plot"
   ]
  },
  {
   "cell_type": "code",
   "execution_count": null,
   "id": "7131c28b-6c2a-4ea5-a787-e13b31f33c6e",
   "metadata": {},
   "outputs": [],
   "source": [
    "\n",
    "np.random.seed(0)\n",
    "\n",
    "data= {\"a\":np.arange(50),\n",
    "       \"b\":np.random.randint(0,50,50),\n",
    "       \"d\":np.random.randn(50)}\n",
    "data[\"c\"] = 3 * data[\"a\"] + data[\"b\"]\n",
    "data[\"d\"] = np.abs(data[\"d\"])*100\n",
    "\n",
    "fig, ax = plt.subplots(layout=\"constrained\")\n",
    "\n",
    "ax.scatter(\"a\",\"b\",c=\"c\", s=\"d\", data=data)\n",
    "\n",
    "plt.show()\n",
    "\n"
   ]
  },
  {
   "cell_type": "markdown",
   "id": "b0b82c99-30e4-48d9-9add-22576eb4ed09",
   "metadata": {},
   "source": [
    "# Coding styles"
   ]
  },
  {
   "cell_type": "markdown",
   "id": "567a8de3-1a06-463f-a65b-bf2e82cc2965",
   "metadata": {},
   "source": [
    "<ul>There is two ways of creating plots\n",
    "<li>create figures and axes. then calling methods on them - object oriend method</li>\n",
    "<li>rely on pyplot to create and manage figures and axes. then pyplot functions for plotting</li></ul>"
   ]
  },
  {
   "cell_type": "markdown",
   "id": "e3580a3e-2f4c-4c48-874f-e53a43bfa6c4",
   "metadata": {},
   "source": [
    "## Object - oriend method"
   ]
  },
  {
   "cell_type": "code",
   "execution_count": null,
   "id": "030f2773-81a7-4391-9fa2-c515140b36a6",
   "metadata": {},
   "outputs": [],
   "source": [
    "x = np.linspace(0,2,100)\n"
   ]
  },
  {
   "cell_type": "code",
   "execution_count": null,
   "id": "214f6a59-764f-4031-b3ad-e7af08b135b1",
   "metadata": {},
   "outputs": [],
   "source": [
    "fig, ax = plt.subplots(figsize=(5,2.7), layout=\"constrained\")\n",
    "\n",
    "ax.plot(x,x, label=\"Linear\")\n",
    "\n",
    "ax.plot(x, x**2, label=\"quadratic\")\n",
    "\n",
    "ax.plot(x, x**3, label=\"cubic\")\n",
    "\n",
    "ax.set_xlabel(\"x-label\")\n",
    "\n",
    "ax.set_ylabel(\"y-label\")\n",
    "\n",
    "ax.set_title(\"Simple plot -  oop\")\n",
    "\n",
    "ax.legend()\n",
    "\n",
    "plt.show()"
   ]
  },
  {
   "cell_type": "markdown",
   "id": "9bb088b5-8dae-4e62-a6f4-d34c14f13929",
   "metadata": {},
   "source": [
    "## pyplot method"
   ]
  },
  {
   "cell_type": "code",
   "execution_count": null,
   "id": "12701731-41ed-4fd9-87a0-a5b47b5e5c63",
   "metadata": {},
   "outputs": [],
   "source": [
    "plt.figure(figsize=(5,2.7), layout=\"constrained\")\n",
    "\n",
    "plt.plot(x,x,label=\"Linear\")\n",
    "\n",
    "plt.plot(x,x**2, label=\"Quadratic\")\n",
    "\n",
    "plt.plot(x,x**3, label=\"Cubic\")\n",
    "\n",
    "plt.xlabel(\"x-label\")\n",
    "\n",
    "plt.ylabel(\"y-label\")\n",
    "\n",
    "plt.title(\"Simple plot - pyplot\")\n",
    "\n",
    "plt.legend()\n",
    "\n",
    "plt.show()"
   ]
  },
  {
   "cell_type": "markdown",
   "id": "135fe77f-cf6d-489b-aba6-97476b471a83",
   "metadata": {},
   "source": [
    "<p>OOps method is recommended. use pyplot for quick plots</p>"
   ]
  },
  {
   "cell_type": "markdown",
   "id": "ced3ea32-62f8-48df-9aa0-2321eb51d862",
   "metadata": {},
   "source": [
    "### helper functions"
   ]
  },
  {
   "cell_type": "code",
   "execution_count": null,
   "id": "29263285-f4fe-4f3f-b3d5-df48dc014b6d",
   "metadata": {},
   "outputs": [],
   "source": [
    "def my_plotter(ax, data1, data2, param_dict):\n",
    "    \"\"\"\n",
    "    A helper function to make a graph\n",
    "    \"\"\"\n",
    "    out = ax.plot(data1, data2, **param_dict)\n",
    "    return out"
   ]
  },
  {
   "cell_type": "code",
   "execution_count": null,
   "id": "66aa7f2d-273a-491d-a500-9acd93e57760",
   "metadata": {},
   "outputs": [],
   "source": [
    "data1, data2, data3, data4 = np.random.randn(4,100)\n",
    "fig, (ax1,ax2) = plt.subplots(1,2,figsize=(5,2.7))\n",
    "\n",
    "my_plotter(ax1, data1, data2, {\"marker\":\"x\"})\n",
    "my_plotter(ax2, data3, data4, {\"marker\":\"o\"})\n",
    "\n",
    "plt.show()"
   ]
  },
  {
   "cell_type": "code",
   "execution_count": null,
   "id": "2d330121-d7aa-4ac7-a757-5a84b8a90463",
   "metadata": {},
   "outputs": [],
   "source": []
  }
 ],
 "metadata": {
  "kernelspec": {
   "display_name": "Python 3 (ipykernel)",
   "language": "python",
   "name": "python3"
  },
  "language_info": {
   "codemirror_mode": {
    "name": "ipython",
    "version": 3
   },
   "file_extension": ".py",
   "mimetype": "text/x-python",
   "name": "python",
   "nbconvert_exporter": "python",
   "pygments_lexer": "ipython3",
   "version": "3.13.1"
  }
 },
 "nbformat": 4,
 "nbformat_minor": 5
}

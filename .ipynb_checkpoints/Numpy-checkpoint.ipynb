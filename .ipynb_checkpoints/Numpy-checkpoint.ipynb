{
 "cells": [
  {
   "cell_type": "code",
   "execution_count": 2,
   "id": "091f13dc-4175-4a43-badc-773985315df3",
   "metadata": {},
   "outputs": [
    {
     "name": "stdout",
     "output_type": "stream",
     "text": [
      "this is a test\n"
     ]
    }
   ],
   "source": [
    "print(\"this is a test\")"
   ]
  },
  {
   "cell_type": "code",
   "execution_count": 3,
   "id": "71b3d9d7-48c9-4578-afde-fe42b45cb83a",
   "metadata": {},
   "outputs": [],
   "source": [
    "import numpy as np"
   ]
  },
  {
   "cell_type": "markdown",
   "id": "15d3bd02-3043-4254-a146-583cc7bf249d",
   "metadata": {
    "jp-MarkdownHeadingCollapsed": true
   },
   "source": [
    "### One dimension arrays"
   ]
  },
  {
   "cell_type": "code",
   "execution_count": 4,
   "id": "ff9feed7-b7c5-4285-81ff-2a3d24e8a230",
   "metadata": {},
   "outputs": [],
   "source": [
    "#one dimension array\n",
    "\n",
    "one_d_array = np.array([1,2,3])"
   ]
  },
  {
   "cell_type": "code",
   "execution_count": 5,
   "id": "9af4e6f1-f248-49fe-a9ab-fe7984405a5c",
   "metadata": {},
   "outputs": [
    {
     "name": "stdout",
     "output_type": "stream",
     "text": [
      "[1 2 3]\n"
     ]
    }
   ],
   "source": [
    "print(one_d_array)"
   ]
  },
  {
   "cell_type": "code",
   "execution_count": 6,
   "id": "cec3e63a-132e-4a38-9167-6a2ba8837e8d",
   "metadata": {},
   "outputs": [
    {
     "name": "stdout",
     "output_type": "stream",
     "text": [
      "[0 1 2 3 4 5]\n"
     ]
    }
   ],
   "source": [
    "#range of numbers as one dimension array\n",
    "\n",
    "one_d_array_from_range = np.arange(6)\n",
    "print(one_d_array_from_range)"
   ]
  },
  {
   "cell_type": "code",
   "execution_count": 7,
   "id": "f0dcb403-9eb3-491a-9769-6e08e4ae654a",
   "metadata": {},
   "outputs": [
    {
     "name": "stdout",
     "output_type": "stream",
     "text": [
      "[ 0  2  4  6  8 10 12 14 16 18]\n"
     ]
    }
   ],
   "source": [
    "#range of numbers with steps\n",
    "\n",
    "one_d_array_steps = np.arange(0,20,2)\n",
    "print(one_d_array_steps)"
   ]
  },
  {
   "cell_type": "code",
   "execution_count": 8,
   "id": "a6774f06-5a0c-48d0-b2ed-4b3dfe5202ac",
   "metadata": {},
   "outputs": [
    {
     "name": "stdout",
     "output_type": "stream",
     "text": [
      "[  0.  25.  50.  75. 100.]\n"
     ]
    }
   ],
   "source": [
    "#evenly spaced values in particular range of numbers\n",
    "#this returns array of floating point values\n",
    "\n",
    "one_d_array_even = np.linspace(0,100,5)\n",
    "print(one_d_array_even)"
   ]
  },
  {
   "cell_type": "code",
   "execution_count": 9,
   "id": "e489e28e-bad1-496e-8b4e-5d2f63ba209e",
   "metadata": {},
   "outputs": [
    {
     "name": "stdout",
     "output_type": "stream",
     "text": [
      "[  0  10  20  30  40  50  60  70  80  90 100]\n"
     ]
    }
   ],
   "source": [
    "#specifying type\n",
    "\n",
    "one_d_array_even_typed = np.linspace(0,100,11,dtype=int)\n",
    "print(one_d_array_even_typed)"
   ]
  },
  {
   "cell_type": "code",
   "execution_count": 10,
   "id": "b89f5e7c-be79-472f-aafc-bf47bc7eede4",
   "metadata": {},
   "outputs": [
    {
     "name": "stdout",
     "output_type": "stream",
     "text": [
      "[ 0  1  2  3  4  5  6  7  8  9 10 11 12 13 14 15 16]\n"
     ]
    }
   ],
   "source": [
    "# creating int data type arrays\n",
    "\n",
    "one_d_array_int = np.arange(0,20,1.2,dtype=int)\n",
    "print(one_d_array_int)"
   ]
  },
  {
   "cell_type": "code",
   "execution_count": 11,
   "id": "2b90ab2c-9876-46a4-99c5-221ad299d5ba",
   "metadata": {},
   "outputs": [
    {
     "name": "stdout",
     "output_type": "stream",
     "text": [
      "[ 0.   1.2  2.4  3.6  4.8  6.   7.2  8.4  9.6 10.8 12.  13.2 14.4 15.6\n",
      " 16.8 18.  19.2]\n"
     ]
    }
   ],
   "source": [
    "# creating float data type arrays\n",
    "one_d_array_float = np.arange(0,20,1.2,dtype=float)\n",
    "print(one_d_array_float)"
   ]
  },
  {
   "cell_type": "code",
   "execution_count": 12,
   "id": "2d1a3f80-75c5-4b34-af73-52ba8494ecb3",
   "metadata": {},
   "outputs": [
    {
     "name": "stdout",
     "output_type": "stream",
     "text": [
      "welcome to numpy course\n",
      "<U23\n"
     ]
    }
   ],
   "source": [
    "# creating char type arrays\n",
    "one_d_array_char = np.array(\"welcome to numpy course\")\n",
    "print(one_d_array_char)\n",
    "print(one_d_array_char.dtype)"
   ]
  },
  {
   "cell_type": "code",
   "execution_count": 13,
   "id": "c47c915b-6e3b-42e3-8079-c6d515c0aac5",
   "metadata": {},
   "outputs": [
    {
     "name": "stdout",
     "output_type": "stream",
     "text": [
      "[0. 0. 0.]\n"
     ]
    }
   ],
   "source": [
    "# other ways to create arrays\n",
    "\n",
    "one_d_array_zeroes = np.zeros(3)\n",
    "print(one_d_array_zeroes)"
   ]
  },
  {
   "cell_type": "code",
   "execution_count": 14,
   "id": "d5c63225-4890-469b-86da-a2a4d5e08ef4",
   "metadata": {},
   "outputs": [
    {
     "name": "stdout",
     "output_type": "stream",
     "text": [
      "[1. 1. 1. 1.]\n"
     ]
    }
   ],
   "source": [
    "one_d_array_ones = np.ones(4)\n",
    "print(one_d_array_ones)"
   ]
  },
  {
   "cell_type": "code",
   "execution_count": 15,
   "id": "be35e214-2d9f-497e-b3fe-a5d0c96f5765",
   "metadata": {},
   "outputs": [
    {
     "name": "stdout",
     "output_type": "stream",
     "text": [
      "[1. 1. 1. 1.]\n"
     ]
    }
   ],
   "source": [
    "one_d_array_empty = np.empty(4)\n",
    "print(one_d_array_empty)"
   ]
  },
  {
   "cell_type": "code",
   "execution_count": 16,
   "id": "e0aa93bb-b0ea-43cc-a0a9-34acaaf68a57",
   "metadata": {},
   "outputs": [
    {
     "name": "stdout",
     "output_type": "stream",
     "text": [
      "[0.74704433 0.75780584 0.41465744 0.71224025 0.61088488]\n"
     ]
    }
   ],
   "source": [
    "one_d_array_random = np.random.rand(5)   #dtype doesnt work here\n",
    "print(one_d_array_random)"
   ]
  },
  {
   "cell_type": "markdown",
   "id": "d3a0fba9-e728-42db-bcb1-38cf0849f422",
   "metadata": {
    "jp-MarkdownHeadingCollapsed": true
   },
   "source": [
    "### Two dimension array"
   ]
  },
  {
   "cell_type": "code",
   "execution_count": 17,
   "id": "1a16aa67-2412-4d57-bc51-56de4bea4b8a",
   "metadata": {},
   "outputs": [
    {
     "name": "stdout",
     "output_type": "stream",
     "text": [
      "[[1 2 3]\n",
      " [4 5 6]]\n"
     ]
    }
   ],
   "source": [
    "#creating two dimension arrays\n",
    "\n",
    "two_d_array = np.array([[1,2,3],[4,5,6]])\n",
    "print(two_d_array)"
   ]
  },
  {
   "cell_type": "code",
   "execution_count": 18,
   "id": "4fb7024d-4037-4e0b-af18-acd2d0a49c98",
   "metadata": {},
   "outputs": [
    {
     "name": "stdout",
     "output_type": "stream",
     "text": [
      "[[0 1 2]\n",
      " [3 4 5]]\n"
     ]
    }
   ],
   "source": [
    "# we can reshape the one dimension array\n",
    "\n",
    "two_d_array_range = np.reshape(one_d_array_from_range,(2,3))\n",
    "print(two_d_array_range)"
   ]
  },
  {
   "cell_type": "markdown",
   "id": "af768b5d-2504-4d76-a847-64196dd4f6ca",
   "metadata": {
    "jp-MarkdownHeadingCollapsed": true
   },
   "source": [
    "### Util functions"
   ]
  },
  {
   "cell_type": "code",
   "execution_count": 19,
   "id": "053c4854-528d-4f1f-9534-7ff3e05d6eb2",
   "metadata": {},
   "outputs": [
    {
     "name": "stdout",
     "output_type": "stream",
     "text": [
      "1 2\n"
     ]
    }
   ],
   "source": [
    "#return dimension of the array\n",
    "\n",
    "print(one_d_array.ndim, two_d_array.ndim)"
   ]
  },
  {
   "cell_type": "code",
   "execution_count": 20,
   "id": "0141d82f-7b3a-448a-bdd7-b95a30a9032c",
   "metadata": {},
   "outputs": [
    {
     "name": "stdout",
     "output_type": "stream",
     "text": [
      "(2, 3)\n"
     ]
    }
   ],
   "source": [
    "#return the shape of the array\n",
    "\n",
    "print(two_d_array_range.shape)"
   ]
  },
  {
   "cell_type": "code",
   "execution_count": 21,
   "id": "e2a99737-fe97-4396-b974-fa1ed64b4999",
   "metadata": {},
   "outputs": [
    {
     "name": "stdout",
     "output_type": "stream",
     "text": [
      "17\n"
     ]
    }
   ],
   "source": [
    "#return the number of values in that array\n",
    "\n",
    "print(one_d_array_float.size)"
   ]
  },
  {
   "cell_type": "markdown",
   "id": "675b8489-18f9-4207-b8a7-d29748246a0d",
   "metadata": {
    "jp-MarkdownHeadingCollapsed": true
   },
   "source": [
    "### Operations on arrays"
   ]
  },
  {
   "cell_type": "code",
   "execution_count": 22,
   "id": "03e1201d-e950-4696-81c1-7e0f725feefc",
   "metadata": {},
   "outputs": [],
   "source": [
    "# array addition, substraction, multiplication and scaling(broadcasting)\n",
    "\n",
    "one_d_array_1 = np.array([1,2,3])\n",
    "one_d_array_2 = np.array([4,5,6])"
   ]
  },
  {
   "cell_type": "code",
   "execution_count": 23,
   "id": "cb74daa6-2c33-4515-9bfb-ce4304dd9d8d",
   "metadata": {},
   "outputs": [
    {
     "name": "stdout",
     "output_type": "stream",
     "text": [
      "[5 7 9]\n"
     ]
    }
   ],
   "source": [
    "#addition\n",
    "\n",
    "print(one_d_array_1 + one_d_array_2)"
   ]
  },
  {
   "cell_type": "code",
   "execution_count": 24,
   "id": "8b0f3e6b-8c4b-4dcd-91d9-5091429c101d",
   "metadata": {},
   "outputs": [
    {
     "name": "stdout",
     "output_type": "stream",
     "text": [
      "[3 3 3]\n"
     ]
    }
   ],
   "source": [
    "#substraction\n",
    "\n",
    "print(one_d_array_2 - one_d_array_1)"
   ]
  },
  {
   "cell_type": "code",
   "execution_count": 25,
   "id": "0c44c063-0957-41a8-9136-371c76d4da44",
   "metadata": {},
   "outputs": [
    {
     "name": "stdout",
     "output_type": "stream",
     "text": [
      "[ 4 10 18]\n"
     ]
    }
   ],
   "source": [
    "#muliplication\n",
    "\n",
    "print(one_d_array_1 * one_d_array_2)"
   ]
  },
  {
   "cell_type": "code",
   "execution_count": 26,
   "id": "0fca07a9-17de-4a8b-a535-37ca87ceb239",
   "metadata": {},
   "outputs": [
    {
     "name": "stdout",
     "output_type": "stream",
     "text": [
      "[10 20 30] [400 500 600]\n"
     ]
    }
   ],
   "source": [
    "#scaling (broadcasting) \n",
    "\n",
    "#multipling the array with constant\n",
    "\n",
    "print (10 * one_d_array_1 , 100 * one_d_array_2)"
   ]
  },
  {
   "cell_type": "markdown",
   "id": "fc39595d-288b-4619-b97f-93b86ea4247d",
   "metadata": {
    "jp-MarkdownHeadingCollapsed": true
   },
   "source": [
    "### Indexing & Slicing"
   ]
  },
  {
   "cell_type": "code",
   "execution_count": 27,
   "id": "e2c8dd5c-9ba0-4e9c-b619-e8389fcc4de7",
   "metadata": {},
   "outputs": [],
   "source": [
    "# array index starts from 0"
   ]
  },
  {
   "cell_type": "code",
   "execution_count": 28,
   "id": "2bd7c2d9-85f6-4844-ab67-0aa4cdac0a17",
   "metadata": {},
   "outputs": [],
   "source": [
    "one_d_array = np.arange(0,21)"
   ]
  },
  {
   "cell_type": "code",
   "execution_count": 29,
   "id": "6667c98b-9aed-4829-a73b-d5c69bd113e4",
   "metadata": {},
   "outputs": [
    {
     "name": "stdout",
     "output_type": "stream",
     "text": [
      "[ 0  1  2  3  4  5  6  7  8  9 10 11 12 13 14 15 16 17 18 19 20]\n"
     ]
    }
   ],
   "source": [
    "print(one_d_array)"
   ]
  },
  {
   "cell_type": "code",
   "execution_count": 30,
   "id": "a5ac32a4-9949-41e5-ba0d-ff8a6528b1fb",
   "metadata": {},
   "outputs": [
    {
     "name": "stdout",
     "output_type": "stream",
     "text": [
      "0\n"
     ]
    }
   ],
   "source": [
    "# index starts from 0\n",
    "\n",
    "print(one_d_array[0])"
   ]
  },
  {
   "cell_type": "code",
   "execution_count": 31,
   "id": "5e834e7c-718e-45a8-b9f5-75595927056b",
   "metadata": {},
   "outputs": [
    {
     "data": {
      "text/plain": [
       "12"
      ]
     },
     "execution_count": 31,
     "metadata": {},
     "output_type": "execute_result"
    }
   ],
   "source": [
    "one_d_array[12]"
   ]
  },
  {
   "cell_type": "code",
   "execution_count": 32,
   "id": "dffeab80-d032-463b-b40a-c4bcb60738ab",
   "metadata": {},
   "outputs": [
    {
     "data": {
      "text/plain": [
       "20"
      ]
     },
     "execution_count": 32,
     "metadata": {},
     "output_type": "execute_result"
    }
   ],
   "source": [
    "# the index is starts from negative at the last element\n",
    "one_d_array[-1]  "
   ]
  },
  {
   "cell_type": "code",
   "execution_count": 33,
   "id": "5db4f505-4829-4d3c-9d15-8801dd49377b",
   "metadata": {},
   "outputs": [
    {
     "data": {
      "text/plain": [
       "array([1, 2, 3])"
      ]
     },
     "execution_count": 33,
     "metadata": {},
     "output_type": "execute_result"
    }
   ],
   "source": [
    "# one dimension slicing syntax array[start:end:step]\n",
    "\n",
    "#end is excluded\n",
    "\n",
    "one_d_array[1:4:1]  "
   ]
  },
  {
   "cell_type": "code",
   "execution_count": 34,
   "id": "c43d6eb4-cdbb-4adf-9965-57edc5bab229",
   "metadata": {},
   "outputs": [
    {
     "data": {
      "text/plain": [
       "array([ 0,  2,  4,  6,  8, 10])"
      ]
     },
     "execution_count": 34,
     "metadata": {},
     "output_type": "execute_result"
    }
   ],
   "source": [
    "one_d_array[ : 11:2]"
   ]
  },
  {
   "cell_type": "code",
   "execution_count": 35,
   "id": "b36acb87-f5db-4be9-9e3e-da2becf22871",
   "metadata": {},
   "outputs": [
    {
     "data": {
      "text/plain": [
       "array([16, 17, 18, 19])"
      ]
     },
     "execution_count": 35,
     "metadata": {},
     "output_type": "execute_result"
    }
   ],
   "source": [
    "one_d_array[-5:-1] #the last element is excluded"
   ]
  },
  {
   "cell_type": "code",
   "execution_count": 36,
   "id": "2d786af3-77f5-4a61-a279-a882a3e1c597",
   "metadata": {},
   "outputs": [
    {
     "data": {
      "text/plain": [
       "array([10, 12, 14, 16, 18, 20])"
      ]
     },
     "execution_count": 36,
     "metadata": {},
     "output_type": "execute_result"
    }
   ],
   "source": [
    "one_d_array[-11::2]"
   ]
  },
  {
   "cell_type": "code",
   "execution_count": 37,
   "id": "0d6845e8-2fc8-4961-a66f-de4105538f15",
   "metadata": {},
   "outputs": [
    {
     "data": {
      "text/plain": [
       "array([ 0,  2,  4,  6,  8, 10, 12, 14, 16, 18, 20])"
      ]
     },
     "execution_count": 37,
     "metadata": {},
     "output_type": "execute_result"
    }
   ],
   "source": [
    "one_d_array[::2]"
   ]
  },
  {
   "cell_type": "code",
   "execution_count": 38,
   "id": "9193c510-2f99-4f42-8d94-758cae00f900",
   "metadata": {},
   "outputs": [],
   "source": [
    "#Two dimension arrays\n",
    "two_d_array = np.reshape(np.arange(0,21),(3,7))"
   ]
  },
  {
   "cell_type": "code",
   "execution_count": 39,
   "id": "ab1a9132-715d-4c0c-81f4-1e766296c1a9",
   "metadata": {},
   "outputs": [
    {
     "name": "stdout",
     "output_type": "stream",
     "text": [
      "[[ 0  1  2  3  4  5  6]\n",
      " [ 7  8  9 10 11 12 13]\n",
      " [14 15 16 17 18 19 20]]\n"
     ]
    }
   ],
   "source": [
    "print(two_d_array)"
   ]
  },
  {
   "cell_type": "code",
   "execution_count": 40,
   "id": "96612d78-8901-4bca-9156-6ea097b3f4dd",
   "metadata": {},
   "outputs": [
    {
     "data": {
      "text/plain": [
       "1"
      ]
     },
     "execution_count": 40,
     "metadata": {},
     "output_type": "execute_result"
    }
   ],
   "source": [
    "# indexing syntax for two dimension array array[row][column] both index starts from 0\n",
    "\n",
    "two_d_array[0][1]"
   ]
  },
  {
   "cell_type": "code",
   "execution_count": 41,
   "id": "79a1fef7-41a1-4f68-8110-cdbfb22fa47f",
   "metadata": {},
   "outputs": [
    {
     "data": {
      "text/plain": [
       "20"
      ]
     },
     "execution_count": 41,
     "metadata": {},
     "output_type": "execute_result"
    }
   ],
   "source": [
    "# negative indexing also applies for 2-D arrays as well\n",
    "\n",
    "two_d_array[-1][-1] "
   ]
  },
  {
   "cell_type": "code",
   "execution_count": 42,
   "id": "df48b22e-d777-40f4-ab1f-9baa8a6667b0",
   "metadata": {},
   "outputs": [
    {
     "data": {
      "text/plain": [
       "array([[0, 1, 2]])"
      ]
     },
     "execution_count": 42,
     "metadata": {},
     "output_type": "execute_result"
    }
   ],
   "source": [
    "#slicing\n",
    "\n",
    "two_d_array[0:1,0:3]"
   ]
  },
  {
   "cell_type": "code",
   "execution_count": 43,
   "id": "14861600-971e-4730-b69d-4684d27e4a7e",
   "metadata": {},
   "outputs": [
    {
     "data": {
      "text/plain": [
       "array([[10, 11, 12, 13],\n",
       "       [17, 18, 19, 20]])"
      ]
     },
     "execution_count": 43,
     "metadata": {},
     "output_type": "execute_result"
    }
   ],
   "source": [
    "two_d_array[1: , 3:]"
   ]
  },
  {
   "cell_type": "code",
   "execution_count": 44,
   "id": "b2cd66e1-4ecf-43ce-9f20-1d3e99001908",
   "metadata": {},
   "outputs": [
    {
     "name": "stdout",
     "output_type": "stream",
     "text": [
      "[ 2  9 16]\n",
      "[14 15 16 17 18 19 20]\n"
     ]
    }
   ],
   "source": [
    "#we can select entire column / row using just its index\n",
    "\n",
    "print(two_d_array[:,2])  # selecting entire column\n",
    "print(two_d_array[2,:])  # selecting entire row"
   ]
  },
  {
   "cell_type": "markdown",
   "id": "572137bb-4430-469a-afef-dee2a76c8238",
   "metadata": {
    "jp-MarkdownHeadingCollapsed": true
   },
   "source": [
    "### Stacking"
   ]
  },
  {
   "cell_type": "code",
   "execution_count": 45,
   "id": "3404c829-4140-4b7f-be97-1704e36acb9c",
   "metadata": {},
   "outputs": [],
   "source": [
    "# stacking is process of adding two arrays together vertically or horizondally\n",
    "\n",
    "stack_1 = np.array([[1,1],[2,2]])\n",
    "stack_2 = np.array([[3,3],[4,4]])"
   ]
  },
  {
   "cell_type": "code",
   "execution_count": 46,
   "id": "17e45ebf-cc75-4839-8cb2-1cbe905a2692",
   "metadata": {},
   "outputs": [
    {
     "name": "stdout",
     "output_type": "stream",
     "text": [
      "[[1 1]\n",
      " [2 2]]\n"
     ]
    }
   ],
   "source": [
    "print(stack_1)"
   ]
  },
  {
   "cell_type": "code",
   "execution_count": 47,
   "id": "1c1c93f2-311a-470b-a5cf-22c1355e8677",
   "metadata": {},
   "outputs": [
    {
     "name": "stdout",
     "output_type": "stream",
     "text": [
      "[[3 3]\n",
      " [4 4]]\n"
     ]
    }
   ],
   "source": [
    "print(stack_2)"
   ]
  },
  {
   "cell_type": "code",
   "execution_count": 48,
   "id": "48d98356-6d09-46c0-9d62-e957ac3a7d72",
   "metadata": {},
   "outputs": [
    {
     "name": "stdout",
     "output_type": "stream",
     "text": [
      "[[1 1]\n",
      " [2 2]\n",
      " [3 3]\n",
      " [4 4]]\n"
     ]
    }
   ],
   "source": [
    "print(np.vstack((stack_1, stack_2)))"
   ]
  },
  {
   "cell_type": "code",
   "execution_count": 49,
   "id": "3e04db95-0ca8-4f64-b5d5-201a73448c1b",
   "metadata": {},
   "outputs": [
    {
     "name": "stdout",
     "output_type": "stream",
     "text": [
      "[[1 1 3 3]\n",
      " [2 2 4 4]]\n"
     ]
    }
   ],
   "source": [
    "print(np.hstack((stack_1, stack_2)))"
   ]
  },
  {
   "cell_type": "code",
   "execution_count": 50,
   "id": "9c56d28c-8989-4e2e-87aa-89b9a2c46091",
   "metadata": {},
   "outputs": [],
   "source": [
    "horizondal_stack = np.hstack((stack_1, stack_2))"
   ]
  },
  {
   "cell_type": "code",
   "execution_count": 51,
   "id": "58db8e47-7bb4-4033-9704-163be1d99ead",
   "metadata": {},
   "outputs": [
    {
     "name": "stdout",
     "output_type": "stream",
     "text": [
      "[array([[1, 1],\n",
      "       [2, 2]]), array([[3, 3],\n",
      "       [4, 4]])]\n"
     ]
    }
   ],
   "source": [
    "print(np.hsplit(horizondal_stack, 2))"
   ]
  },
  {
   "cell_type": "markdown",
   "id": "d333c7a1-0d91-4f24-a64a-e6ca022bad7c",
   "metadata": {},
   "source": [
    "### Linear equations"
   ]
  },
  {
   "cell_type": "markdown",
   "id": "1f049e86-2b21-4bf6-9bac-455e8ce0b7c2",
   "metadata": {},
   "source": [
    "A **system of linear equations** (or **linear system**) is a collection of one or more linear equations involving the same variables. For example:\n",
    "\n",
    "\n",
    "$$\\begin{cases} \n",
    "-x_1+3x_2=7, \\\\ 3x_1+2x_2=1, \\end{cases}\\tag{1}$$\n",
    "\n",
    "is a system of two equations with two unknown variables $x_1$, $x_2$. **To solve** a system of linear equations means to find such values of the variables $x_1$, $x_2$, that all of its equations are simultaneously satisfied.\n",
    "\n",
    "A linear system is **inconsistent** if it has no solution, and otherwise it is said to be **consistent**. Consistent system can have one or infinite number of solutions."
   ]
  },
  {
   "cell_type": "code",
   "execution_count": 53,
   "id": "227feeb5-5fea-4aaf-9b37-00b0295536b9",
   "metadata": {},
   "outputs": [],
   "source": [
    "# creating matrices\n",
    "\n",
    "matrix_A = np.array([[-1,3],[3,2]])\n",
    "matrix_B = np.array([7,1])"
   ]
  },
  {
   "cell_type": "code",
   "execution_count": 54,
   "id": "28115048-c1f3-449c-83ff-15529154eb34",
   "metadata": {},
   "outputs": [
    {
     "name": "stdout",
     "output_type": "stream",
     "text": [
      "The matrix A represents the coefficients of unknown variables x1, x2: [[-1  3]\n",
      " [ 3  2]]\n"
     ]
    }
   ],
   "source": [
    "print(f'The matrix A represents the coefficients of unknown variables x1, x2: {matrix_A}')"
   ]
  },
  {
   "cell_type": "code",
   "execution_count": 55,
   "id": "dbcca606-d903-4630-9a67-1e2774f8ed21",
   "metadata": {},
   "outputs": [
    {
     "name": "stdout",
     "output_type": "stream",
     "text": [
      "The matrix B represent the constants of the linear equations : [7 1]\n"
     ]
    }
   ],
   "source": [
    "print(f'The matrix B represent the constants of the linear equations : {matrix_B}')"
   ]
  },
  {
   "cell_type": "code",
   "execution_count": 57,
   "id": "07a3d931-be8d-42ce-829a-c9382cf2dc72",
   "metadata": {},
   "outputs": [
    {
     "name": "stdout",
     "output_type": "stream",
     "text": [
      "The determinant of the matrix A is: -11.000000000000002\n",
      "The given system is non-singular\n"
     ]
    }
   ],
   "source": [
    "#finding the determinant of the matrix A\n",
    "\n",
    "matrix_a_det = np.linalg.det(matrix_A)\n",
    "print(f'The determinant of the matrix A is: {matrix_a_det}')\n",
    "if matrix_a_det == 0:\n",
    "    print(\"The given system is singular\")\n",
    "else:\n",
    "    print(\"The given system is non-singular\")"
   ]
  },
  {
   "cell_type": "code",
   "execution_count": 59,
   "id": "5fcd44c6-0604-469f-a6f7-9bba5f3c81a4",
   "metadata": {},
   "outputs": [],
   "source": [
    "# finding the solution of non-singular system\n",
    "\n",
    "solution = np.linalg.solve(matrix_A, matrix_B)"
   ]
  },
  {
   "cell_type": "code",
   "execution_count": 61,
   "id": "1fc75d60-1edf-4a10-aac8-eea96d4a9fb8",
   "metadata": {},
   "outputs": [
    {
     "name": "stdout",
     "output_type": "stream",
     "text": [
      "The solution of the given linear equation is: x1 = -1.0, x2 = 2.0.\n"
     ]
    }
   ],
   "source": [
    "print(f'The solution of the given linear equation is: x1 = {solution[0]}, x2 = {solution[1]}.')"
   ]
  },
  {
   "cell_type": "code",
   "execution_count": null,
   "id": "57e2a74a-a0d9-41cc-8800-f86269bb85c1",
   "metadata": {},
   "outputs": [],
   "source": []
  }
 ],
 "metadata": {
  "kernelspec": {
   "display_name": "Python 3 (ipykernel)",
   "language": "python",
   "name": "python3"
  },
  "language_info": {
   "codemirror_mode": {
    "name": "ipython",
    "version": 3
   },
   "file_extension": ".py",
   "mimetype": "text/x-python",
   "name": "python",
   "nbconvert_exporter": "python",
   "pygments_lexer": "ipython3",
   "version": "3.11.7"
  }
 },
 "nbformat": 4,
 "nbformat_minor": 5
}

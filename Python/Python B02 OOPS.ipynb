{
 "cells": [
  {
   "cell_type": "markdown",
   "metadata": {},
   "source": [
    "# Object Oriented Programming\n"
   ]
  },
  {
   "cell_type": "markdown",
   "metadata": {},
   "source": [
    "## Class, Attribute and Methods"
   ]
  },
  {
   "cell_type": "code",
   "execution_count": 17,
   "metadata": {
    "ExecuteTime": {
     "end_time": "2020-07-16T16:14:26.329739Z",
     "start_time": "2020-07-16T16:14:26.311786Z"
    }
   },
   "outputs": [],
   "source": [
    "class Animal():\n",
    "    mind=5\n",
    "    def __init__(self,name, region, deadliest_rank):\n",
    "        self.name=name\n",
    "        self.region=region\n",
    "        self.deadliest_rank=deadliest_rank\n",
    "         \n",
    "    \n",
    "    def power(self):\n",
    "        return len(self.name)*self.deadliest_rank*Animal.mind\n",
    "    \n",
    "    def cute(self, beauty_rank):\n",
    "        return int(beauty_rank/3)*self.deadliest_rank"
   ]
  },
  {
   "cell_type": "code",
   "execution_count": 18,
   "metadata": {
    "ExecuteTime": {
     "end_time": "2020-07-16T16:14:26.833371Z",
     "start_time": "2020-07-16T16:14:26.814391Z"
    }
   },
   "outputs": [],
   "source": [
    "dog=Animal('tommy','India',100)"
   ]
  },
  {
   "cell_type": "code",
   "execution_count": 19,
   "metadata": {
    "ExecuteTime": {
     "end_time": "2020-07-16T16:14:27.316836Z",
     "start_time": "2020-07-16T16:14:27.296889Z"
    }
   },
   "outputs": [
    {
     "data": {
      "text/plain": [
       "2500"
      ]
     },
     "execution_count": 19,
     "metadata": {},
     "output_type": "execute_result"
    }
   ],
   "source": [
    "dog.power()"
   ]
  },
  {
   "cell_type": "code",
   "execution_count": 20,
   "metadata": {
    "ExecuteTime": {
     "end_time": "2020-07-16T16:14:27.745355Z",
     "start_time": "2020-07-16T16:14:27.736379Z"
    }
   },
   "outputs": [
    {
     "data": {
      "text/plain": [
       "200"
      ]
     },
     "execution_count": 20,
     "metadata": {},
     "output_type": "execute_result"
    }
   ],
   "source": [
    "dog.cute(6)"
   ]
  },
  {
   "cell_type": "markdown",
   "metadata": {},
   "source": [
    "##  Inheritance"
   ]
  },
  {
   "cell_type": "markdown",
   "metadata": {},
   "source": [
    "Inheritance is allows the new class to access the old class methods and variables by deriving it from the old class"
   ]
  },
  {
   "cell_type": "code",
   "execution_count": 78,
   "metadata": {
    "ExecuteTime": {
     "end_time": "2020-07-16T17:04:36.257260Z",
     "start_time": "2020-07-16T17:04:36.241274Z"
    }
   },
   "outputs": [],
   "source": [
    "### Parent Class\n",
    "\n",
    "\n",
    "class DigitalDevices():\n",
    "    \n",
    "    \n",
    "    def __init__(self,os,battery=True):\n",
    "        self.os=os\n",
    "        self.battery=battery\n",
    "    \n",
    "    def description(self):\n",
    "        if self.battery:\n",
    "            print(f' This is the battery driven digital device operated by {self.os}')\n",
    "        else:\n",
    "            print(f'This is the power driven digital device operated by {self.os}')\n",
    "            "
   ]
  },
  {
   "cell_type": "code",
   "execution_count": 88,
   "metadata": {
    "ExecuteTime": {
     "end_time": "2020-07-16T18:35:30.143670Z",
     "start_time": "2020-07-16T18:35:30.134162Z"
    }
   },
   "outputs": [],
   "source": [
    "### Inherited Class\n",
    "class SmartPhone(DigitalDevices):\n",
    "    def __init__(self,os):\n",
    "        DigitalDevices.__init__(self,os,battery=True)  #  this is not important(optional)\n",
    "        \n",
    "    \n",
    "    def battery_life(self, battery_power):\n",
    "        print(f'battery stand time {int(battery_power/240)} hours')\n",
    "        \n",
    "        "
   ]
  },
  {
   "cell_type": "code",
   "execution_count": 89,
   "metadata": {
    "ExecuteTime": {
     "end_time": "2020-07-16T18:35:30.616975Z",
     "start_time": "2020-07-16T18:35:30.604015Z"
    }
   },
   "outputs": [],
   "source": [
    "# EXAMPLE 1\n",
    "\n",
    "pixel3=SmartPhone(os='android')"
   ]
  },
  {
   "cell_type": "code",
   "execution_count": 90,
   "metadata": {
    "ExecuteTime": {
     "end_time": "2020-07-16T18:35:30.898365Z",
     "start_time": "2020-07-16T18:35:30.884371Z"
    }
   },
   "outputs": [
    {
     "name": "stdout",
     "output_type": "stream",
     "text": [
      " This is the battery driven digital device operated by android\n"
     ]
    }
   ],
   "source": [
    "pixel3.description()"
   ]
  },
  {
   "cell_type": "code",
   "execution_count": 91,
   "metadata": {
    "ExecuteTime": {
     "end_time": "2020-07-16T18:35:31.135358Z",
     "start_time": "2020-07-16T18:35:31.115414Z"
    }
   },
   "outputs": [
    {
     "name": "stdout",
     "output_type": "stream",
     "text": [
      "battery stand time 20 hours\n"
     ]
    }
   ],
   "source": [
    "pixel3.battery_life(5000)"
   ]
  },
  {
   "cell_type": "code",
   "execution_count": 92,
   "metadata": {
    "ExecuteTime": {
     "end_time": "2020-07-16T18:35:31.341738Z",
     "start_time": "2020-07-16T18:35:31.322791Z"
    }
   },
   "outputs": [],
   "source": [
    "# EXAMPLE 2\n",
    "hpDesktop=DigitalDevices(battery=False,os='Windows 10')"
   ]
  },
  {
   "cell_type": "code",
   "execution_count": 93,
   "metadata": {
    "ExecuteTime": {
     "end_time": "2020-07-16T18:35:31.600746Z",
     "start_time": "2020-07-16T18:35:31.580838Z"
    }
   },
   "outputs": [
    {
     "name": "stdout",
     "output_type": "stream",
     "text": [
      "This is the power driven digital device operated by Windows 10\n"
     ]
    }
   ],
   "source": [
    "hpDesktop.description()"
   ]
  },
  {
   "cell_type": "markdown",
   "metadata": {},
   "source": [
    "## Polymorphism"
   ]
  },
  {
   "cell_type": "markdown",
   "metadata": {},
   "source": [
    "When two or more methods have name in two or more different classes which is called as Polymorphism. Each method\n",
    "operations doesnot effect the other method which have same name. Every polymorpised methods can called through \n",
    "their classes individually with out any problems"
   ]
  },
  {
   "cell_type": "code",
   "execution_count": 96,
   "metadata": {
    "ExecuteTime": {
     "end_time": "2020-07-16T18:39:13.061542Z",
     "start_time": "2020-07-16T18:39:13.043628Z"
    }
   },
   "outputs": [],
   "source": [
    "class Parent():\n",
    "    def __init__(self):\n",
    "        print('this is a parent class')\n",
    "    def poly(self):\n",
    "        print('Inside parent class')\n",
    "        \n",
    "class Child1(Parent):\n",
    "    def __init__(self):\n",
    "        pass\n",
    "    def poly(self):\n",
    "        print('inside child 1 class')\n",
    "\n",
    "class Child2(Parent):\n",
    "    def __init__(self):\n",
    "        pass\n",
    "    def poly(self):\n",
    "        print('inside child2 class')"
   ]
  },
  {
   "cell_type": "code",
   "execution_count": 98,
   "metadata": {
    "ExecuteTime": {
     "end_time": "2020-07-16T18:39:51.205270Z",
     "start_time": "2020-07-16T18:39:51.198300Z"
    }
   },
   "outputs": [
    {
     "name": "stdout",
     "output_type": "stream",
     "text": [
      "this is a parent class\n"
     ]
    }
   ],
   "source": [
    "par=Parent()\n",
    "c1=Child1()\n",
    "c2=Child2()"
   ]
  },
  {
   "cell_type": "code",
   "execution_count": 99,
   "metadata": {
    "ExecuteTime": {
     "end_time": "2020-07-16T18:40:00.135304Z",
     "start_time": "2020-07-16T18:40:00.126331Z"
    }
   },
   "outputs": [
    {
     "name": "stdout",
     "output_type": "stream",
     "text": [
      "Inside parent class\n"
     ]
    }
   ],
   "source": [
    "par.poly()"
   ]
  },
  {
   "cell_type": "code",
   "execution_count": 100,
   "metadata": {
    "ExecuteTime": {
     "end_time": "2020-07-16T18:40:08.110013Z",
     "start_time": "2020-07-16T18:40:08.106083Z"
    }
   },
   "outputs": [
    {
     "name": "stdout",
     "output_type": "stream",
     "text": [
      "inside child 1 class\n"
     ]
    }
   ],
   "source": [
    "c1.poly()"
   ]
  },
  {
   "cell_type": "code",
   "execution_count": 101,
   "metadata": {
    "ExecuteTime": {
     "end_time": "2020-07-16T18:40:14.495101Z",
     "start_time": "2020-07-16T18:40:14.477140Z"
    }
   },
   "outputs": [
    {
     "name": "stdout",
     "output_type": "stream",
     "text": [
      "inside child2 class\n"
     ]
    }
   ],
   "source": [
    "c2.poly()"
   ]
  },
  {
   "cell_type": "markdown",
   "metadata": {},
   "source": [
    "## Dunder or Magic methods"
   ]
  },
  {
   "cell_type": "code",
   "execution_count": 128,
   "metadata": {
    "ExecuteTime": {
     "end_time": "2020-07-16T19:01:17.612175Z",
     "start_time": "2020-07-16T19:01:17.590238Z"
    }
   },
   "outputs": [],
   "source": [
    "class Book():\n",
    "    def __init__(self,title,author,pages):\n",
    "        self.title=title\n",
    "        self.author=author\n",
    "        self.pages=pages\n",
    "        \n",
    "    def __str__(self):\n",
    "        return f'{self.title} is written by {self.author}'\n",
    "    \n",
    "    def __len__(self):\n",
    "        return self.pages\n",
    "    \n",
    "    def add(self, title='', author='',pages=0):\n",
    "        a=self.title+ title\n",
    "        b=self.author+ author\n",
    "        c=self.pages+ pages\n",
    "        return Book(a,b,c)\n",
    "    "
   ]
  },
  {
   "cell_type": "code",
   "execution_count": 129,
   "metadata": {
    "ExecuteTime": {
     "end_time": "2020-07-16T19:01:18.005964Z",
     "start_time": "2020-07-16T19:01:17.995003Z"
    }
   },
   "outputs": [],
   "source": [
    "b=Book('Mahabharatha', 'Padhangali Munivar',10000)"
   ]
  },
  {
   "cell_type": "code",
   "execution_count": 130,
   "metadata": {
    "ExecuteTime": {
     "end_time": "2020-07-16T19:01:18.432878Z",
     "start_time": "2020-07-16T19:01:18.414928Z"
    }
   },
   "outputs": [
    {
     "data": {
      "text/plain": [
       "10000"
      ]
     },
     "execution_count": 130,
     "metadata": {},
     "output_type": "execute_result"
    }
   ],
   "source": [
    "len(b)"
   ]
  },
  {
   "cell_type": "code",
   "execution_count": 131,
   "metadata": {
    "ExecuteTime": {
     "end_time": "2020-07-16T19:01:18.829702Z",
     "start_time": "2020-07-16T19:01:18.816699Z"
    }
   },
   "outputs": [
    {
     "name": "stdout",
     "output_type": "stream",
     "text": [
      "Mahabharatha is written by Padhangali Munivar\n"
     ]
    }
   ],
   "source": [
    "print(b)"
   ]
  },
  {
   "cell_type": "code",
   "execution_count": 132,
   "metadata": {
    "ExecuteTime": {
     "end_time": "2020-07-16T19:01:19.189807Z",
     "start_time": "2020-07-16T19:01:19.181840Z"
    }
   },
   "outputs": [
    {
     "data": {
      "text/plain": [
       "'Mahabharatha is written by Padhangali Munivar'"
      ]
     },
     "execution_count": 132,
     "metadata": {},
     "output_type": "execute_result"
    }
   ],
   "source": [
    "str(b)"
   ]
  },
  {
   "cell_type": "code",
   "execution_count": 135,
   "metadata": {
    "ExecuteTime": {
     "end_time": "2020-07-16T19:01:46.403006Z",
     "start_time": "2020-07-16T19:01:46.391037Z"
    }
   },
   "outputs": [],
   "source": [
    "b=b.add(pages=10)"
   ]
  },
  {
   "cell_type": "code",
   "execution_count": 137,
   "metadata": {
    "ExecuteTime": {
     "end_time": "2020-07-16T19:01:59.135855Z",
     "start_time": "2020-07-16T19:01:59.127883Z"
    }
   },
   "outputs": [
    {
     "data": {
      "text/plain": [
       "10010"
      ]
     },
     "execution_count": 137,
     "metadata": {},
     "output_type": "execute_result"
    }
   ],
   "source": [
    "len(b)"
   ]
  },
  {
   "cell_type": "markdown",
   "metadata": {},
   "source": [
    "## Modules and Packages"
   ]
  },
  {
   "cell_type": "markdown",
   "metadata": {},
   "source": [
    "## __ __name__ __ =='__ __main__ __'"
   ]
  },
  {
   "cell_type": "code",
   "execution_count": 2,
   "metadata": {
    "ExecuteTime": {
     "end_time": "2020-07-20T09:43:59.696694Z",
     "start_time": "2020-07-20T09:43:59.688723Z"
    }
   },
   "outputs": [
    {
     "name": "stdout",
     "output_type": "stream",
     "text": [
      "this is running directly\n"
     ]
    }
   ],
   "source": [
    "if __name__ =='__main__':      ### True if this python file running directly\n",
    "    print('this is running directly')"
   ]
  },
  {
   "cell_type": "markdown",
   "metadata": {},
   "source": [
    "## try, except and finally "
   ]
  },
  {
   "cell_type": "code",
   "execution_count": 1,
   "metadata": {
    "ExecuteTime": {
     "end_time": "2020-07-20T10:55:55.752599Z",
     "start_time": "2020-07-20T10:55:55.744580Z"
    }
   },
   "outputs": [],
   "source": [
    "def add(n1=0,n2=0):\n",
    "    try:\n",
    "        n1=input('give the first number:')\n",
    "        n2=input('give the second number:')\n",
    "        n1=int(n1)\n",
    "        n2=int(n2)\n",
    "    except:\n",
    "        result='i cant add different data types'\n",
    "    else:\n",
    "        print('Thank you')\n",
    "        result=f'the addition is {n1+n2}'\n",
    "    finally:\n",
    "        print(f'{result}')\n",
    "\n",
    "    "
   ]
  },
  {
   "cell_type": "code",
   "execution_count": 3,
   "metadata": {
    "ExecuteTime": {
     "end_time": "2020-07-20T10:56:14.329708Z",
     "start_time": "2020-07-20T10:56:11.566623Z"
    }
   },
   "outputs": [
    {
     "ename": "SyntaxError",
     "evalue": "invalid syntax (2400699256.py, line 1)",
     "output_type": "error",
     "traceback": [
      "\u001b[0;36m  Cell \u001b[0;32mIn[3], line 1\u001b[0;36m\u001b[0m\n\u001b[0;31m    add()~\u001b[0m\n\u001b[0m         ^\u001b[0m\n\u001b[0;31mSyntaxError\u001b[0m\u001b[0;31m:\u001b[0m invalid syntax\n"
     ]
    }
   ],
   "source": [
    "add()~"
   ]
  },
  {
   "cell_type": "code",
   "execution_count": null,
   "metadata": {},
   "outputs": [],
   "source": []
  }
 ],
 "metadata": {
  "kernelspec": {
   "display_name": "Python 3 (ipykernel)",
   "language": "python",
   "name": "python3"
  },
  "language_info": {
   "codemirror_mode": {
    "name": "ipython",
    "version": 3
   },
   "file_extension": ".py",
   "mimetype": "text/x-python",
   "name": "python",
   "nbconvert_exporter": "python",
   "pygments_lexer": "ipython3",
   "version": "3.13.1"
  },
  "toc": {
   "base_numbering": 1,
   "nav_menu": {},
   "number_sections": true,
   "sideBar": true,
   "skip_h1_title": false,
   "title_cell": "Table of Contents",
   "title_sidebar": "Contents",
   "toc_cell": false,
   "toc_position": {
    "height": "calc(100% - 180px)",
    "left": "10px",
    "top": "150px",
    "width": "279.273px"
   },
   "toc_section_display": true,
   "toc_window_display": true
  },
  "varInspector": {
   "cols": {
    "lenName": 16,
    "lenType": 16,
    "lenVar": 40
   },
   "kernels_config": {
    "python": {
     "delete_cmd_postfix": "",
     "delete_cmd_prefix": "del ",
     "library": "var_list.py",
     "varRefreshCmd": "print(var_dic_list())"
    },
    "r": {
     "delete_cmd_postfix": ") ",
     "delete_cmd_prefix": "rm(",
     "library": "var_list.r",
     "varRefreshCmd": "cat(var_dic_list()) "
    }
   },
   "types_to_exclude": [
    "module",
    "function",
    "builtin_function_or_method",
    "instance",
    "_Feature"
   ],
   "window_display": false
  }
 },
 "nbformat": 4,
 "nbformat_minor": 4
}

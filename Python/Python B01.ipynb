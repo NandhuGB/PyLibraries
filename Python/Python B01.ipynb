{
 "cells": [
  {
   "cell_type": "code",
   "execution_count": 8,
   "metadata": {},
   "outputs": [
    {
     "data": {
      "text/plain": [
       "2.0"
      ]
     },
     "execution_count": 8,
     "metadata": {},
     "output_type": "execute_result"
    }
   ],
   "source": [
    "(1+ 2j).imag"
   ]
  },
  {
   "cell_type": "markdown",
   "metadata": {
    "ExecuteTime": {
     "end_time": "2020-06-20T08:29:01.418627Z",
     "start_time": "2020-06-20T08:29:01.415653Z"
    }
   },
   "source": [
    "# **Variables**\n"
   ]
  },
  {
   "cell_type": "code",
   "execution_count": 12,
   "metadata": {
    "ExecuteTime": {
     "end_time": "2020-06-21T19:58:20.694897Z",
     "start_time": "2020-06-21T19:58:20.597714Z"
    }
   },
   "outputs": [],
   "source": [
    "# Declaring variable\n",
    "\n",
    "a=5\n",
    "b12=20"
   ]
  },
  {
   "cell_type": "code",
   "execution_count": 13,
   "metadata": {
    "ExecuteTime": {
     "end_time": "2020-06-21T19:58:20.783799Z",
     "start_time": "2020-06-21T19:58:20.701883Z"
    }
   },
   "outputs": [
    {
     "data": {
      "text/plain": [
       "25"
      ]
     },
     "execution_count": 13,
     "metadata": {},
     "output_type": "execute_result"
    }
   ],
   "source": [
    "a+b12"
   ]
  },
  {
   "cell_type": "markdown",
   "metadata": {
    "ExecuteTime": {
     "end_time": "2020-06-20T08:29:41.192399Z",
     "start_time": "2020-06-20T08:29:41.183430Z"
    }
   },
   "source": [
    "The names you use when creating these labels need to follow a few rules:\n",
    "\n",
    "    1. Names can not start with a number.\n",
    "    2. There can be no spaces in the name, use _ instead.\n",
    "    3. Can't use any of these symbols :'\",<>/?|\\()!@#$%^&*~-+\n",
    "    4. It's considered best practice (PEP8) that names are lowercase.\n",
    "    5. Avoid using the characters 'l' (lowercase letter el), 'O' (uppercase letter oh), \n",
    "       or 'I' (uppercase letter eye) as single character variable names.\n",
    "    6. Avoid using words that have special meaning in Python like \"list\" and \"str\""
   ]
  },
  {
   "cell_type": "code",
   "execution_count": null,
   "metadata": {},
   "outputs": [],
   "source": [
    "# Best practices\n",
    "\n",
    "first_name = \"Nandhagopal\" "
   ]
  },
  {
   "cell_type": "code",
   "execution_count": null,
   "metadata": {},
   "outputs": [],
   "source": [
    "is_online = False "
   ]
  },
  {
   "cell_type": "code",
   "execution_count": null,
   "metadata": {},
   "outputs": [],
   "source": [
    "patient_name = \"John Smith\""
   ]
  },
  {
   "cell_type": "code",
   "execution_count": null,
   "metadata": {},
   "outputs": [],
   "source": [
    "patient_age = 20"
   ]
  },
  {
   "cell_type": "code",
   "execution_count": 7,
   "metadata": {},
   "outputs": [],
   "source": [
    "is_new_patient = True"
   ]
  },
  {
   "cell_type": "markdown",
   "metadata": {
    "ExecuteTime": {
     "end_time": "2020-06-21T19:58:20.900647Z",
     "start_time": "2020-06-21T19:58:20.785593Z"
    }
   },
   "source": [
    "## **Static vs Dynamic**\n",
    "\n",
    "1.`dynamic typing(Python)` gives the feature that helps to assign different datatype values to single variable.\n",
    "2.In `Static typing`, we cannot assign the differnt datatype value into single variable(pre defined as paticular datatype)"
   ]
  },
  {
   "cell_type": "code",
   "execution_count": 1,
   "metadata": {
    "ExecuteTime": {
     "end_time": "2020-07-14T19:29:37.445177Z",
     "start_time": "2020-07-14T19:29:37.428222Z"
    }
   },
   "outputs": [],
   "source": [
    "# Dynamic typing \n",
    "\n",
    "a='nandha' # a --> String\n",
    "a=20e12    # a --> Integer"
   ]
  },
  {
   "cell_type": "code",
   "execution_count": 2,
   "metadata": {
    "ExecuteTime": {
     "end_time": "2020-07-14T19:29:38.062463Z",
     "start_time": "2020-07-14T19:29:38.045509Z"
    }
   },
   "outputs": [
    {
     "data": {
      "text/plain": [
       "20000000000000.0"
      ]
     },
     "execution_count": 2,
     "metadata": {},
     "output_type": "execute_result"
    }
   ],
   "source": [
    "a"
   ]
  },
  {
   "cell_type": "markdown",
   "metadata": {},
   "source": [
    "## **User Input & Type Conversion**"
   ]
  },
  {
   "cell_type": "code",
   "execution_count": 11,
   "metadata": {},
   "outputs": [
    {
     "name": "stdin",
     "output_type": "stream",
     "text": [
      "What is your name? Nandhu\n"
     ]
    }
   ],
   "source": [
    "name = input(\"What is your name?\")  # input always returns string"
   ]
  },
  {
   "cell_type": "code",
   "execution_count": 12,
   "metadata": {},
   "outputs": [
    {
     "name": "stdout",
     "output_type": "stream",
     "text": [
      "Hello Nandhu\n"
     ]
    }
   ],
   "source": [
    "print(\"Hello\", name)"
   ]
  },
  {
   "cell_type": "code",
   "execution_count": 14,
   "metadata": {},
   "outputs": [
    {
     "name": "stdin",
     "output_type": "stream",
     "text": [
      "What year did you born? 1997\n"
     ]
    }
   ],
   "source": [
    "# Converting user input's type\n",
    "\n",
    "birth_year = input(\"What year did you born?\")\n"
   ]
  },
  {
   "cell_type": "code",
   "execution_count": 15,
   "metadata": {},
   "outputs": [
    {
     "data": {
      "text/plain": [
       "str"
      ]
     },
     "execution_count": 15,
     "metadata": {},
     "output_type": "execute_result"
    }
   ],
   "source": [
    "type(birth_year)"
   ]
  },
  {
   "cell_type": "code",
   "execution_count": 17,
   "metadata": {},
   "outputs": [],
   "source": [
    "birth_year_int = int(birth_year)"
   ]
  },
  {
   "cell_type": "code",
   "execution_count": 19,
   "metadata": {},
   "outputs": [],
   "source": [
    "user_age = 2025 - birth_year_int"
   ]
  },
  {
   "cell_type": "code",
   "execution_count": 20,
   "metadata": {},
   "outputs": [
    {
     "name": "stdout",
     "output_type": "stream",
     "text": [
      "The user 28 years old\n"
     ]
    }
   ],
   "source": [
    "print(\"The user \"+ str(user_age) + \" years old\")"
   ]
  },
  {
   "cell_type": "markdown",
   "metadata": {},
   "source": [
    " int() float() str() bool()"
   ]
  },
  {
   "cell_type": "code",
   "execution_count": 22,
   "metadata": {},
   "outputs": [
    {
     "name": "stdin",
     "output_type": "stream",
     "text": [
      "enter the first number 7.89\n"
     ]
    }
   ],
   "source": [
    "first = float(input(\"Enter your gpa in college: \"))"
   ]
  },
  {
   "cell_type": "code",
   "execution_count": 23,
   "metadata": {},
   "outputs": [
    {
     "name": "stdin",
     "output_type": "stream",
     "text": [
      "Enter 12th standred marks:  1131\n"
     ]
    }
   ],
   "source": [
    "second = float(input(\"Enter 12th standred marks: \"))"
   ]
  },
  {
   "cell_type": "code",
   "execution_count": 24,
   "metadata": {},
   "outputs": [
    {
     "name": "stdout",
     "output_type": "stream",
     "text": [
      "the sum of the two given numbers is 1138.89\n"
     ]
    }
   ],
   "source": [
    "print(f\"the sum of the two given numbers is {first + second}\")     # this  f is print formatter "
   ]
  },
  {
   "cell_type": "markdown",
   "metadata": {},
   "source": [
    "## **Strings**"
   ]
  },
  {
   "cell_type": "code",
   "execution_count": 34,
   "metadata": {
    "ExecuteTime": {
     "end_time": "2020-06-21T19:58:21.852957Z",
     "start_time": "2020-06-21T19:58:21.765184Z"
    }
   },
   "outputs": [
    {
     "data": {
      "text/plain": [
       "'hello'"
      ]
     },
     "execution_count": 34,
     "metadata": {},
     "output_type": "execute_result"
    }
   ],
   "source": [
    "'hello'"
   ]
  },
  {
   "cell_type": "code",
   "execution_count": 36,
   "metadata": {
    "ExecuteTime": {
     "end_time": "2020-06-21T19:58:22.029087Z",
     "start_time": "2020-06-21T19:58:21.957553Z"
    }
   },
   "outputs": [
    {
     "name": "stdout",
     "output_type": "stream",
     "text": [
      "hello\n"
     ]
    }
   ],
   "source": [
    "print('hello')"
   ]
  },
  {
   "cell_type": "code",
   "execution_count": 40,
   "metadata": {
    "ExecuteTime": {
     "end_time": "2020-06-21T19:58:22.107685Z",
     "start_time": "2020-06-21T19:58:22.030046Z"
    }
   },
   "outputs": [
    {
     "name": "stdout",
     "output_type": "stream",
     "text": [
      "I'm Nandhagopal Balasubramania\n"
     ]
    }
   ],
   "source": [
    "print(\"I'm Nandhagopal Balasubramania\") # Use \" \" if you want to insert '' quoates in your string Variable"
   ]
  },
  {
   "cell_type": "code",
   "execution_count": 41,
   "metadata": {
    "ExecuteTime": {
     "end_time": "2020-06-21T19:58:22.330718Z",
     "start_time": "2020-06-21T19:58:22.113708Z"
    }
   },
   "outputs": [
    {
     "data": {
      "text/plain": [
       "27"
      ]
     },
     "execution_count": 41,
     "metadata": {},
     "output_type": "execute_result"
    }
   ],
   "source": [
    "# Length of the string\n",
    "a='Nandhagopal Balasubramaniam'\n",
    "len(a)"
   ]
  },
  {
   "cell_type": "code",
   "execution_count": 42,
   "metadata": {
    "ExecuteTime": {
     "end_time": "2020-06-21T19:58:22.450114Z",
     "start_time": "2020-06-21T19:58:22.333710Z"
    }
   },
   "outputs": [
    {
     "data": {
      "text/plain": [
       "'N'"
      ]
     },
     "execution_count": 42,
     "metadata": {},
     "output_type": "execute_result"
    }
   ],
   "source": [
    "# Strings are saved as sequence, so we can call seperate letter a[start:stop:Step]\n",
    "a[0]"
   ]
  },
  {
   "cell_type": "code",
   "execution_count": 43,
   "metadata": {
    "ExecuteTime": {
     "end_time": "2020-06-21T19:58:22.525243Z",
     "start_time": "2020-06-21T19:58:22.457083Z"
    }
   },
   "outputs": [
    {
     "data": {
      "text/plain": [
       "'andh'"
      ]
     },
     "execution_count": 43,
     "metadata": {},
     "output_type": "execute_result"
    }
   ],
   "source": [
    "\n",
    "a[1:5]"
   ]
  },
  {
   "cell_type": "code",
   "execution_count": 44,
   "metadata": {
    "ExecuteTime": {
     "end_time": "2020-06-21T19:58:22.621233Z",
     "start_time": "2020-06-21T19:58:22.526202Z"
    }
   },
   "outputs": [
    {
     "data": {
      "text/plain": [
       "'mainamarbusalaB lapogahdnaN'"
      ]
     },
     "execution_count": 44,
     "metadata": {},
     "output_type": "execute_result"
    }
   ],
   "source": [
    "a[::-1] # Reversing the string"
   ]
  },
  {
   "cell_type": "code",
   "execution_count": 45,
   "metadata": {
    "ExecuteTime": {
     "end_time": "2020-06-21T19:58:22.718476Z",
     "start_time": "2020-06-21T19:58:22.623224Z"
    }
   },
   "outputs": [
    {
     "data": {
      "text/plain": [
       "'m'"
      ]
     },
     "execution_count": 45,
     "metadata": {},
     "output_type": "execute_result"
    }
   ],
   "source": [
    "a[-1] #Last letter"
   ]
  },
  {
   "cell_type": "code",
   "execution_count": 46,
   "metadata": {
    "ExecuteTime": {
     "end_time": "2020-06-21T19:58:22.898332Z",
     "start_time": "2020-06-21T19:58:22.723455Z"
    }
   },
   "outputs": [
    {
     "data": {
      "text/plain": [
       "'ania'"
      ]
     },
     "execution_count": 46,
     "metadata": {},
     "output_type": "execute_result"
    }
   ],
   "source": [
    "a[-5:-1] \n",
    "\n",
    "# Stop indicates the boundry. it doesnot add into the slice. IN a[-5:-1], -1 indicates last letter 'm' but it doesn't take into account "
   ]
  },
  {
   "cell_type": "code",
   "execution_count": 47,
   "metadata": {
    "ExecuteTime": {
     "end_time": "2020-06-21T19:58:22.980548Z",
     "start_time": "2020-06-21T19:58:22.901284Z"
    }
   },
   "outputs": [],
   "source": [
    "# String are Immuntable \n",
    "\n",
    "#a[0]='n'"
   ]
  },
  {
   "cell_type": "code",
   "execution_count": 48,
   "metadata": {
    "ExecuteTime": {
     "end_time": "2020-06-21T19:58:23.083213Z",
     "start_time": "2020-06-21T19:58:22.985543Z"
    }
   },
   "outputs": [
    {
     "data": {
      "text/plain": [
       "'aaaaaaaaaa'"
      ]
     },
     "execution_count": 48,
     "metadata": {},
     "output_type": "execute_result"
    }
   ],
   "source": [
    "'a'*10"
   ]
  },
  {
   "cell_type": "code",
   "execution_count": 49,
   "metadata": {
    "ExecuteTime": {
     "end_time": "2020-06-21T19:58:23.175559Z",
     "start_time": "2020-06-21T19:58:23.085165Z"
    }
   },
   "outputs": [],
   "source": [
    "s=a+ ' is one of the best data scientist in the world'"
   ]
  },
  {
   "cell_type": "code",
   "execution_count": 50,
   "metadata": {
    "ExecuteTime": {
     "end_time": "2020-06-21T19:58:23.279068Z",
     "start_time": "2020-06-21T19:58:23.176203Z"
    }
   },
   "outputs": [
    {
     "data": {
      "text/plain": [
       "'Nandhagopal Balasubramaniam is one of the best data scientist in the world'"
      ]
     },
     "execution_count": 50,
     "metadata": {},
     "output_type": "execute_result"
    }
   ],
   "source": [
    "s"
   ]
  },
  {
   "cell_type": "code",
   "execution_count": 51,
   "metadata": {
    "ExecuteTime": {
     "end_time": "2020-06-21T19:58:23.376122Z",
     "start_time": "2020-06-21T19:58:23.286050Z"
    }
   },
   "outputs": [
    {
     "data": {
      "text/plain": [
       "'NANDHAGOPAL BALASUBRAMANIAM IS ONE OF THE BEST DATA SCIENTIST IN THE WORLD'"
      ]
     },
     "execution_count": 51,
     "metadata": {},
     "output_type": "execute_result"
    }
   ],
   "source": [
    "s.upper()"
   ]
  },
  {
   "cell_type": "code",
   "execution_count": 52,
   "metadata": {
    "ExecuteTime": {
     "end_time": "2020-06-21T19:58:23.499694Z",
     "start_time": "2020-06-21T19:58:23.377119Z"
    }
   },
   "outputs": [
    {
     "data": {
      "text/plain": [
       "'nandhagopal balasubramaniam is one of the best data scientist in the world'"
      ]
     },
     "execution_count": 52,
     "metadata": {},
     "output_type": "execute_result"
    }
   ],
   "source": [
    "s.lower()"
   ]
  },
  {
   "cell_type": "code",
   "execution_count": 53,
   "metadata": {},
   "outputs": [
    {
     "data": {
      "text/plain": [
       "31"
      ]
     },
     "execution_count": 53,
     "metadata": {},
     "output_type": "execute_result"
    }
   ],
   "source": [
    "s.find(\"one\") # returns the starting index of the word \"one\""
   ]
  },
  {
   "cell_type": "code",
   "execution_count": 54,
   "metadata": {},
   "outputs": [
    {
     "data": {
      "text/plain": [
       "'Nandhagopal Balasubramaniam is two of the best data scientist in the world'"
      ]
     },
     "execution_count": 54,
     "metadata": {},
     "output_type": "execute_result"
    }
   ],
   "source": [
    "s.replace(\"one\", \"two\")"
   ]
  },
  {
   "cell_type": "code",
   "execution_count": 55,
   "metadata": {
    "ExecuteTime": {
     "end_time": "2020-06-21T19:58:23.596720Z",
     "start_time": "2020-06-21T19:58:23.506662Z"
    }
   },
   "outputs": [
    {
     "data": {
      "text/plain": [
       "['Nandhagopal',\n",
       " 'Balasubramaniam',\n",
       " 'is',\n",
       " 'one',\n",
       " 'of',\n",
       " 'the',\n",
       " 'best',\n",
       " 'data',\n",
       " 'scientist',\n",
       " 'in',\n",
       " 'the',\n",
       " 'world']"
      ]
     },
     "execution_count": 55,
     "metadata": {},
     "output_type": "execute_result"
    }
   ],
   "source": [
    "s.split() # It splits the data where the space presents"
   ]
  },
  {
   "cell_type": "code",
   "execution_count": 56,
   "metadata": {
    "ExecuteTime": {
     "end_time": "2020-06-21T19:58:23.696281Z",
     "start_time": "2020-06-21T19:58:23.597725Z"
    }
   },
   "outputs": [
    {
     "data": {
      "text/plain": [
       "['Nandhagopal Balasu',\n",
       " 'ramaniam is one of the ',\n",
       " 'est data scientist in the world']"
      ]
     },
     "execution_count": 56,
     "metadata": {},
     "output_type": "execute_result"
    }
   ],
   "source": [
    "s.split('b')"
   ]
  },
  {
   "cell_type": "code",
   "execution_count": 57,
   "metadata": {
    "ExecuteTime": {
     "end_time": "2020-06-21T19:58:23.775244Z",
     "start_time": "2020-06-21T19:58:23.701223Z"
    }
   },
   "outputs": [
    {
     "data": {
      "text/plain": [
       "['Nandhag',\n",
       " 'pal Balasubramaniam is ',\n",
       " 'ne ',\n",
       " 'f the best data scientist in the w',\n",
       " 'rld']"
      ]
     },
     "execution_count": 57,
     "metadata": {},
     "output_type": "execute_result"
    }
   ],
   "source": [
    "splited=s.split('o')\n",
    "splited"
   ]
  },
  {
   "cell_type": "code",
   "execution_count": 58,
   "metadata": {
    "ExecuteTime": {
     "end_time": "2020-06-21T19:58:23.866433Z",
     "start_time": "2020-06-21T19:58:23.776241Z"
    }
   },
   "outputs": [
    {
     "data": {
      "text/plain": [
       "'Nandhag'"
      ]
     },
     "execution_count": 58,
     "metadata": {},
     "output_type": "execute_result"
    }
   ],
   "source": [
    "splited[0]"
   ]
  },
  {
   "cell_type": "code",
   "execution_count": 59,
   "metadata": {
    "ExecuteTime": {
     "end_time": "2020-06-21T19:58:23.984094Z",
     "start_time": "2020-06-21T19:58:23.870385Z"
    }
   },
   "outputs": [],
   "source": [
    "### Printing"
   ]
  },
  {
   "cell_type": "code",
   "execution_count": 60,
   "metadata": {
    "ExecuteTime": {
     "end_time": "2020-06-21T19:58:24.088933Z",
     "start_time": "2020-06-21T19:58:23.991046Z"
    }
   },
   "outputs": [
    {
     "name": "stdout",
     "output_type": "stream",
     "text": [
      "Nandhag\n"
     ]
    }
   ],
   "source": [
    "print(splited[0])"
   ]
  },
  {
   "cell_type": "code",
   "execution_count": 61,
   "metadata": {
    "ExecuteTime": {
     "end_time": "2020-06-21T19:58:24.194920Z",
     "start_time": "2020-06-21T19:58:24.092877Z"
    }
   },
   "outputs": [
    {
     "name": "stdout",
     "output_type": "stream",
     "text": [
      "Hello\n"
     ]
    }
   ],
   "source": [
    "print('Hello')"
   ]
  },
  {
   "cell_type": "code",
   "execution_count": 62,
   "metadata": {
    "ExecuteTime": {
     "end_time": "2020-06-21T19:58:24.306454Z",
     "start_time": "2020-06-21T19:58:24.197871Z"
    }
   },
   "outputs": [
    {
     "data": {
      "text/plain": [
       "'inserting the string here Nandhag'"
      ]
     },
     "execution_count": 62,
     "metadata": {},
     "output_type": "execute_result"
    }
   ],
   "source": [
    "'inserting the string here {}'.format(splited[0])"
   ]
  },
  {
   "cell_type": "code",
   "execution_count": 63,
   "metadata": {
    "ExecuteTime": {
     "end_time": "2020-06-21T19:58:24.404201Z",
     "start_time": "2020-06-21T19:58:24.312439Z"
    }
   },
   "outputs": [
    {
     "name": "stdout",
     "output_type": "stream",
     "text": [
      "inserting the string here Nandhag\n"
     ]
    }
   ],
   "source": [
    "print('inserting the string here {}'.format(splited[0]))"
   ]
  },
  {
   "cell_type": "code",
   "execution_count": 64,
   "metadata": {
    "ExecuteTime": {
     "end_time": "2020-07-06T10:02:53.240496Z",
     "start_time": "2020-07-06T10:02:53.153729Z"
    }
   },
   "outputs": [],
   "source": [
    "abc='inserting the string here {}'.format(splited[0])"
   ]
  },
  {
   "cell_type": "code",
   "execution_count": 65,
   "metadata": {
    "ExecuteTime": {
     "end_time": "2020-07-06T10:03:25.387823Z",
     "start_time": "2020-07-06T10:03:25.375856Z"
    }
   },
   "outputs": [],
   "source": [
    "### JOIN Method for STRINGS"
   ]
  },
  {
   "cell_type": "code",
   "execution_count": 66,
   "metadata": {
    "ExecuteTime": {
     "end_time": "2020-07-06T10:22:50.129289Z",
     "start_time": "2020-07-06T10:22:50.122253Z"
    }
   },
   "outputs": [
    {
     "data": {
      "text/plain": [
       "'a'"
      ]
     },
     "execution_count": 66,
     "metadata": {},
     "output_type": "execute_result"
    }
   ],
   "source": [
    "'   '.join('a')"
   ]
  },
  {
   "cell_type": "markdown",
   "metadata": {},
   "source": [
    "## **Print formatting**"
   ]
  },
  {
   "cell_type": "code",
   "execution_count": 8,
   "metadata": {},
   "outputs": [
    {
     "name": "stdout",
     "output_type": "stream",
     "text": [
      "Hello World\n"
     ]
    }
   ],
   "source": [
    "# Print\n",
    "\n",
    "print(\"Hello World\")"
   ]
  },
  {
   "cell_type": "code",
   "execution_count": 9,
   "metadata": {},
   "outputs": [
    {
     "name": "stdout",
     "output_type": "stream",
     "text": [
      "Hello world\n",
      "New line\n"
     ]
    }
   ],
   "source": [
    "# Printing multiple strings\n",
    "\n",
    "print(\"Hello\", \"world\", end=\"\\n\") \n",
    "print(\"New line\")"
   ]
  },
  {
   "cell_type": "code",
   "execution_count": 10,
   "metadata": {},
   "outputs": [
    {
     "name": "stdout",
     "output_type": "stream",
     "text": [
      "First print\tthis printed after tab space\n"
     ]
    }
   ],
   "source": [
    "print(\"First print\", end =\"\\t\") \n",
    "print(\"this printed after tab space\")"
   ]
  },
  {
   "cell_type": "code",
   "execution_count": 50,
   "metadata": {
    "ExecuteTime": {
     "end_time": "2020-06-21T19:58:24.597725Z",
     "start_time": "2020-06-21T19:58:24.488969Z"
    }
   },
   "outputs": [],
   "source": [
    "# Conversion Method"
   ]
  },
  {
   "cell_type": "code",
   "execution_count": 51,
   "metadata": {
    "ExecuteTime": {
     "end_time": "2020-06-21T19:58:24.704509Z",
     "start_time": "2020-06-21T19:58:24.603713Z"
    }
   },
   "outputs": [
    {
     "name": "stdout",
     "output_type": "stream",
     "text": [
      "my name is nandhagopal\n"
     ]
    }
   ],
   "source": [
    "# 'my name is %s'%'nandhagopal'\n",
    "\n",
    "print('my name is %s' % 'nandhagopal')\n"
   ]
  },
  {
   "cell_type": "code",
   "execution_count": 52,
   "metadata": {
    "ExecuteTime": {
     "end_time": "2020-06-21T19:58:24.812202Z",
     "start_time": "2020-06-21T19:58:24.710493Z"
    }
   },
   "outputs": [
    {
     "name": "stdout",
     "output_type": "stream",
     "text": [
      "decimal integer 1012\n",
      "decimal Integer 2012\n",
      "Octal Value 20\n",
      "Floating point formatting - round up to four decimals 20.009 , 0.0002\n",
      "Floating point formatting - round up to four decimals 20.009 , 0.0002\n",
      "Float formatting 0.000020\n",
      "Float formatting 0.000020\n",
      "Hexa decimal value 4b0\n",
      "Hexa decimal upper case 5DC\n",
      "Obsolete  type similar to decimal 1\n",
      "my name is 'nandhagopal'\n",
      "my name is 'nandhagopal'\n",
      "my name is 8.000000e+13\n",
      "my name is 1.400000E+13\n",
      "my name is n\n"
     ]
    }
   ],
   "source": [
    "print('decimal integer %d'%1012)\n",
    "print('decimal Integer %i'%2012)\n",
    "print('Octal Value %o'%16)\n",
    "print('Floating point formatting - round up to four decimals %g , %g'%(20.008976,20e-5))\n",
    "print('Floating point formatting - round up to four decimals %G , %G'%(20.008976,20E-5))\n",
    "print('Float formatting %f'%20e-6)\n",
    "print('Float formatting %f'%20e-6)\n",
    "print('Hexa decimal value %x'%1200)\n",
    "print('Hexa decimal upper case %X'%1500)\n",
    "print('Obsolete  type similar to decimal %u'%12e-1)\n",
    "print('my name is %a'%'nandhagopal')\n",
    "print('my name is %r'%'nandhagopal')\n",
    "print('my name is %e'%8e13)\n",
    "print('my name is %E'%14E12)\n",
    "print('my name is %c'%'n')"
   ]
  },
  {
   "cell_type": "code",
   "execution_count": 53,
   "metadata": {
    "ExecuteTime": {
     "end_time": "2020-06-21T19:58:24.930831Z",
     "start_time": "2020-06-21T19:58:24.816187Z"
    }
   },
   "outputs": [],
   "source": [
    "# float formatting"
   ]
  },
  {
   "cell_type": "code",
   "execution_count": 8,
   "metadata": {
    "ExecuteTime": {
     "end_time": "2020-06-26T09:53:01.043633Z",
     "start_time": "2020-06-26T09:53:01.035658Z"
    }
   },
   "outputs": [
    {
     "name": "stdout",
     "output_type": "stream",
     "text": [
      "Floating point formatting - round up to four decimals 20.01 , 0.0002\n",
      "Floating point formatting - round up to four decimals 20.01 , 0.0002\n",
      "Float formatting 200000.000\n",
      "Float formatting 0.000020000\n"
     ]
    }
   ],
   "source": [
    "print('Floating point formatting - round up to four decimals %1.4g , %g'%(20.008976,20e-5))\n",
    "print('Floating point formatting - round up to four decimals %0.4G , %G'%(20.008976,20E-5))\n",
    "print('Float formatting %2.3f'%200000)\n",
    "print('Float formatting %0.9f'%20e-6)\n",
    "\n",
    "#   in  %1.9f  1 indicates  minimum number of presents and 9 indiactes the number of decimal number should present in the output"
   ]
  },
  {
   "cell_type": "code",
   "execution_count": 9,
   "metadata": {
    "ExecuteTime": {
     "end_time": "2020-06-21T19:58:25.121931Z",
     "start_time": "2020-06-21T19:58:25.021132Z"
    }
   },
   "outputs": [
    {
     "name": "stdout",
     "output_type": "stream",
     "text": [
      "nandhagopal got 94.25 of 1200\n"
     ]
    }
   ],
   "source": [
    "print('%s got %4.2f of %d'%('nandhagopal',94.250098,1200))"
   ]
  },
  {
   "cell_type": "code",
   "execution_count": 56,
   "metadata": {
    "ExecuteTime": {
     "end_time": "2020-06-21T19:58:25.218247Z",
     "start_time": "2020-06-21T19:58:25.122929Z"
    }
   },
   "outputs": [],
   "source": [
    "# .Format() method"
   ]
  },
  {
   "cell_type": "code",
   "execution_count": 57,
   "metadata": {
    "ExecuteTime": {
     "end_time": "2020-06-21T19:58:25.328201Z",
     "start_time": "2020-06-21T19:58:25.223834Z"
    }
   },
   "outputs": [
    {
     "name": "stdout",
     "output_type": "stream",
     "text": [
      "my name is Nandhag and i am 22 years old\n"
     ]
    }
   ],
   "source": [
    "print('my name is {a} and i am {b} years old'.format(a=splited[0],b=22))"
   ]
  },
  {
   "cell_type": "code",
   "execution_count": 58,
   "metadata": {
    "ExecuteTime": {
     "end_time": "2020-06-21T19:58:25.439302Z",
     "start_time": "2020-06-21T19:58:25.334186Z"
    }
   },
   "outputs": [
    {
     "name": "stdout",
     "output_type": "stream",
     "text": [
      "my name is Nandhag and i am 22 years old\n"
     ]
    }
   ],
   "source": [
    "print('my name is {0} and i am {1} years old'.format(splited[0],22))"
   ]
  },
  {
   "cell_type": "code",
   "execution_count": 59,
   "metadata": {
    "ExecuteTime": {
     "end_time": "2020-06-21T19:58:25.525678Z",
     "start_time": "2020-06-21T19:58:25.443299Z"
    }
   },
   "outputs": [],
   "source": [
    "# allignment padding"
   ]
  },
  {
   "cell_type": "code",
   "execution_count": 60,
   "metadata": {
    "ExecuteTime": {
     "end_time": "2020-06-21T19:58:25.645215Z",
     "start_time": "2020-06-21T19:58:25.530706Z"
    }
   },
   "outputs": [
    {
     "name": "stdout",
     "output_type": "stream",
     "text": [
      "name          |   year   |    age\n",
      "nandha        | 1997.989 | 22    \n",
      "Periyanayaki= | ..1995.. | ____24\n"
     ]
    }
   ],
   "source": [
    "print('{0:<13} | {1:^8} | {2:>6}'.format('name','year','age'))\n",
    "print('{0:13} | {1:2.3f} | {2:6}'.format('nandha',1997.9894533,'22'))\n",
    "print('{0:=<13} | {1:.^8} | {2:_>6}'.format('Periyanayaki','1995','24'))"
   ]
  },
  {
   "cell_type": "code",
   "execution_count": 11,
   "metadata": {
    "ExecuteTime": {
     "end_time": "2020-06-26T09:55:39.157105Z",
     "start_time": "2020-06-26T09:55:39.146096Z"
    }
   },
   "outputs": [],
   "source": [
    "# f-literals\n",
    "a= 'nandhagopal'"
   ]
  },
  {
   "cell_type": "code",
   "execution_count": 12,
   "metadata": {
    "ExecuteTime": {
     "end_time": "2020-06-26T09:55:39.687090Z",
     "start_time": "2020-06-26T09:55:39.668081Z"
    }
   },
   "outputs": [
    {
     "name": "stdout",
     "output_type": "stream",
     "text": [
      "my name is nandhagopal\n",
      "my name is 'nandhagopal'\n",
      "my name is 'nandhagopal'\n",
      "my name is nandhagopal\n"
     ]
    }
   ],
   "source": [
    "print(f'my name is {a}')\n",
    "print(f'my name is {a!a}')\n",
    "print(f'my name is {a!r}')\n",
    "print(f'my name is {a!s}')\n",
    "#### !a converts the chracter into string through ascii code"
   ]
  },
  {
   "cell_type": "code",
   "execution_count": 13,
   "metadata": {
    "ExecuteTime": {
     "end_time": "2020-06-26T09:55:44.712211Z",
     "start_time": "2020-06-26T09:55:44.706234Z"
    }
   },
   "outputs": [],
   "source": [
    "b=1000.243456"
   ]
  },
  {
   "cell_type": "code",
   "execution_count": 16,
   "metadata": {
    "ExecuteTime": {
     "end_time": "2020-06-26T09:56:34.985981Z",
     "start_time": "2020-06-26T09:56:34.970359Z"
    }
   },
   "outputs": [
    {
     "name": "stdout",
     "output_type": "stream",
     "text": [
      "float formatting 1e+03\n",
      "float formatting 1000.2435\n"
     ]
    }
   ],
   "source": [
    "print(f'float formatting {b:{4}.{2}}')\n",
    "print(f'float formatting {b:5.4f}')"
   ]
  },
  {
   "cell_type": "markdown",
   "metadata": {},
   "source": [
    "## **Lists**"
   ]
  },
  {
   "cell_type": "code",
   "execution_count": 11,
   "metadata": {
    "ExecuteTime": {
     "end_time": "2020-06-26T09:57:08.528316Z",
     "start_time": "2020-06-26T09:57:08.521333Z"
    }
   },
   "outputs": [],
   "source": [
    "b=[1,2,3,'o',3.4]"
   ]
  },
  {
   "cell_type": "code",
   "execution_count": 12,
   "metadata": {
    "ExecuteTime": {
     "end_time": "2020-06-26T09:57:09.405203Z",
     "start_time": "2020-06-26T09:57:09.386232Z"
    }
   },
   "outputs": [
    {
     "data": {
      "text/plain": [
       "[1, 2, 3, 'o', 3.4]"
      ]
     },
     "execution_count": 12,
     "metadata": {},
     "output_type": "execute_result"
    }
   ],
   "source": [
    "b"
   ]
  },
  {
   "cell_type": "code",
   "execution_count": 13,
   "metadata": {
    "ExecuteTime": {
     "end_time": "2020-06-26T09:57:10.270434Z",
     "start_time": "2020-06-26T09:57:10.253481Z"
    }
   },
   "outputs": [
    {
     "data": {
      "text/plain": [
       "5"
      ]
     },
     "execution_count": 13,
     "metadata": {},
     "output_type": "execute_result"
    }
   ],
   "source": [
    "len(b)"
   ]
  },
  {
   "cell_type": "code",
   "execution_count": 14,
   "metadata": {
    "ExecuteTime": {
     "end_time": "2020-06-26T09:57:10.966097Z",
     "start_time": "2020-06-26T09:57:10.948107Z"
    }
   },
   "outputs": [
    {
     "data": {
      "text/plain": [
       "1"
      ]
     },
     "execution_count": 14,
     "metadata": {},
     "output_type": "execute_result"
    }
   ],
   "source": [
    "b[0]"
   ]
  },
  {
   "cell_type": "code",
   "execution_count": 15,
   "metadata": {
    "ExecuteTime": {
     "end_time": "2020-06-26T09:57:11.376810Z",
     "start_time": "2020-06-26T09:57:11.362808Z"
    }
   },
   "outputs": [
    {
     "data": {
      "text/plain": [
       "[2, 3, 'o', 3.4]"
      ]
     },
     "execution_count": 15,
     "metadata": {},
     "output_type": "execute_result"
    }
   ],
   "source": [
    "b[1:]"
   ]
  },
  {
   "cell_type": "code",
   "execution_count": 16,
   "metadata": {
    "ExecuteTime": {
     "end_time": "2020-06-26T09:57:11.723039Z",
     "start_time": "2020-06-26T09:57:11.709079Z"
    }
   },
   "outputs": [
    {
     "data": {
      "text/plain": [
       "[2, 3, 'o']"
      ]
     },
     "execution_count": 16,
     "metadata": {},
     "output_type": "execute_result"
    }
   ],
   "source": [
    "b[1:4]"
   ]
  },
  {
   "cell_type": "code",
   "execution_count": 17,
   "metadata": {
    "ExecuteTime": {
     "end_time": "2020-06-26T09:57:12.006360Z",
     "start_time": "2020-06-26T09:57:11.995391Z"
    }
   },
   "outputs": [
    {
     "data": {
      "text/plain": [
       "[1, 2, 3, 'o', 3.4, 'add me']"
      ]
     },
     "execution_count": 17,
     "metadata": {},
     "output_type": "execute_result"
    }
   ],
   "source": [
    "b+ ['add me']"
   ]
  },
  {
   "cell_type": "code",
   "execution_count": 18,
   "metadata": {
    "ExecuteTime": {
     "end_time": "2020-06-26T09:57:12.402619Z",
     "start_time": "2020-06-26T09:57:12.287071Z"
    }
   },
   "outputs": [
    {
     "data": {
      "text/plain": [
       "[1, 2, 3, 'o', 3.4]"
      ]
     },
     "execution_count": 18,
     "metadata": {},
     "output_type": "execute_result"
    }
   ],
   "source": [
    "b"
   ]
  },
  {
   "cell_type": "code",
   "execution_count": 19,
   "metadata": {
    "ExecuteTime": {
     "end_time": "2020-06-26T09:57:13.689239Z",
     "start_time": "2020-06-26T09:57:13.672222Z"
    }
   },
   "outputs": [],
   "source": [
    "b=b+['add me permenently']"
   ]
  },
  {
   "cell_type": "code",
   "execution_count": 20,
   "metadata": {
    "ExecuteTime": {
     "end_time": "2020-06-26T09:57:15.662758Z",
     "start_time": "2020-06-26T09:57:15.649734Z"
    }
   },
   "outputs": [
    {
     "data": {
      "text/plain": [
       "[1, 2, 3, 'o', 3.4, 'add me permenently']"
      ]
     },
     "execution_count": 20,
     "metadata": {},
     "output_type": "execute_result"
    }
   ],
   "source": [
    "b"
   ]
  },
  {
   "cell_type": "code",
   "execution_count": 21,
   "metadata": {
    "ExecuteTime": {
     "end_time": "2020-06-26T09:57:16.116720Z",
     "start_time": "2020-06-26T09:57:16.078796Z"
    }
   },
   "outputs": [
    {
     "data": {
      "text/plain": [
       "'add me permenently'"
      ]
     },
     "execution_count": 21,
     "metadata": {},
     "output_type": "execute_result"
    }
   ],
   "source": [
    "b.pop()"
   ]
  },
  {
   "cell_type": "code",
   "execution_count": 22,
   "metadata": {
    "ExecuteTime": {
     "end_time": "2020-06-26T09:57:16.616099Z",
     "start_time": "2020-06-26T09:57:16.603144Z"
    }
   },
   "outputs": [
    {
     "data": {
      "text/plain": [
       "[1, 2, 3, 'o', 3.4]"
      ]
     },
     "execution_count": 22,
     "metadata": {},
     "output_type": "execute_result"
    }
   ],
   "source": [
    "b"
   ]
  },
  {
   "cell_type": "code",
   "execution_count": 23,
   "metadata": {
    "ExecuteTime": {
     "end_time": "2020-06-26T09:57:17.039564Z",
     "start_time": "2020-06-26T09:57:17.027596Z"
    }
   },
   "outputs": [],
   "source": [
    "b.reverse()"
   ]
  },
  {
   "cell_type": "code",
   "execution_count": 24,
   "metadata": {
    "ExecuteTime": {
     "end_time": "2020-06-26T09:57:17.701276Z",
     "start_time": "2020-06-26T09:57:17.684304Z"
    }
   },
   "outputs": [
    {
     "data": {
      "text/plain": [
       "[3.4, 'o', 3, 2, 1]"
      ]
     },
     "execution_count": 24,
     "metadata": {},
     "output_type": "execute_result"
    }
   ],
   "source": [
    "b"
   ]
  },
  {
   "cell_type": "code",
   "execution_count": 25,
   "metadata": {
    "ExecuteTime": {
     "end_time": "2020-06-26T09:57:19.490495Z",
     "start_time": "2020-06-26T09:57:19.482481Z"
    }
   },
   "outputs": [
    {
     "data": {
      "text/plain": [
       "[3.4, 'o', 3, 2, 1, 3.4, 'o', 3, 2, 1]"
      ]
     },
     "execution_count": 25,
     "metadata": {},
     "output_type": "execute_result"
    }
   ],
   "source": [
    "b* 2"
   ]
  },
  {
   "cell_type": "code",
   "execution_count": 26,
   "metadata": {
    "ExecuteTime": {
     "end_time": "2020-06-26T09:57:20.008200Z",
     "start_time": "2020-06-26T09:57:19.994198Z"
    }
   },
   "outputs": [],
   "source": [
    "b.append('appended')"
   ]
  },
  {
   "cell_type": "code",
   "execution_count": 27,
   "metadata": {
    "ExecuteTime": {
     "end_time": "2020-06-26T09:57:20.449780Z",
     "start_time": "2020-06-26T09:57:20.221754Z"
    }
   },
   "outputs": [
    {
     "data": {
      "text/plain": [
       "[3.4, 'o', 3, 2, 1, 'appended']"
      ]
     },
     "execution_count": 27,
     "metadata": {},
     "output_type": "execute_result"
    }
   ],
   "source": [
    "b"
   ]
  },
  {
   "cell_type": "code",
   "execution_count": 28,
   "metadata": {
    "ExecuteTime": {
     "end_time": "2020-06-26T09:57:20.560485Z",
     "start_time": "2020-06-26T09:57:20.482650Z"
    }
   },
   "outputs": [],
   "source": [
    "b=['a b s n j k c k s m e'.split()]"
   ]
  },
  {
   "cell_type": "code",
   "execution_count": 29,
   "metadata": {
    "ExecuteTime": {
     "end_time": "2020-06-26T09:57:21.181954Z",
     "start_time": "2020-06-26T09:57:20.678947Z"
    }
   },
   "outputs": [
    {
     "data": {
      "text/plain": [
       "[['a', 'b', 's', 'n', 'j', 'k', 'c', 'k', 's', 'm', 'e']]"
      ]
     },
     "execution_count": 29,
     "metadata": {},
     "output_type": "execute_result"
    }
   ],
   "source": [
    "b"
   ]
  },
  {
   "cell_type": "code",
   "execution_count": 30,
   "metadata": {
    "ExecuteTime": {
     "end_time": "2020-06-26T09:57:21.478318Z",
     "start_time": "2020-06-26T09:57:21.214840Z"
    }
   },
   "outputs": [],
   "source": [
    "b.sort()"
   ]
  },
  {
   "cell_type": "code",
   "execution_count": 31,
   "metadata": {
    "ExecuteTime": {
     "end_time": "2020-06-26T09:57:21.739738Z",
     "start_time": "2020-06-26T09:57:21.512306Z"
    }
   },
   "outputs": [
    {
     "data": {
      "text/plain": [
       "[['a', 'b', 's', 'n', 'j', 'k', 'c', 'k', 's', 'm', 'e']]"
      ]
     },
     "execution_count": 31,
     "metadata": {},
     "output_type": "execute_result"
    }
   ],
   "source": [
    "b"
   ]
  },
  {
   "cell_type": "code",
   "execution_count": 32,
   "metadata": {
    "ExecuteTime": {
     "end_time": "2020-06-26T09:57:22.258272Z",
     "start_time": "2020-06-26T09:57:21.773651Z"
    }
   },
   "outputs": [],
   "source": [
    "# list comprehension"
   ]
  },
  {
   "cell_type": "code",
   "execution_count": 33,
   "metadata": {
    "ExecuteTime": {
     "end_time": "2020-06-26T09:57:22.383629Z",
     "start_time": "2020-06-26T09:57:22.307534Z"
    }
   },
   "outputs": [],
   "source": [
    "b1=[1,2,3]\n",
    "b2=[4,5,6]\n",
    "b3=[7,8,9]"
   ]
  },
  {
   "cell_type": "code",
   "execution_count": 34,
   "metadata": {
    "ExecuteTime": {
     "end_time": "2020-06-26T09:57:22.714229Z",
     "start_time": "2020-06-26T09:57:22.710238Z"
    }
   },
   "outputs": [],
   "source": [
    "b=[b1,b2,b3]"
   ]
  },
  {
   "cell_type": "code",
   "execution_count": 35,
   "metadata": {
    "ExecuteTime": {
     "end_time": "2020-06-26T09:57:23.741410Z",
     "start_time": "2020-06-26T09:57:23.735427Z"
    }
   },
   "outputs": [
    {
     "data": {
      "text/plain": [
       "[[1, 2, 3], [4, 5, 6], [7, 8, 9]]"
      ]
     },
     "execution_count": 35,
     "metadata": {},
     "output_type": "execute_result"
    }
   ],
   "source": [
    "b"
   ]
  },
  {
   "cell_type": "code",
   "execution_count": 36,
   "metadata": {
    "ExecuteTime": {
     "end_time": "2020-06-26T09:57:24.090860Z",
     "start_time": "2020-06-26T09:57:24.074906Z"
    }
   },
   "outputs": [],
   "source": [
    "b=[b[0] for i in b]"
   ]
  },
  {
   "cell_type": "code",
   "execution_count": 37,
   "metadata": {
    "ExecuteTime": {
     "end_time": "2020-06-26T09:57:24.387150Z",
     "start_time": "2020-06-26T09:57:24.372150Z"
    }
   },
   "outputs": [],
   "source": [
    "b.extend([11,12,14])"
   ]
  },
  {
   "cell_type": "code",
   "execution_count": 39,
   "metadata": {},
   "outputs": [
    {
     "data": {
      "text/plain": [
       "[[1, 2, 3], [1, 2, 3], [1, 2, 3], 11, 12, 14]"
      ]
     },
     "execution_count": 39,
     "metadata": {},
     "output_type": "execute_result"
    }
   ],
   "source": [
    "b"
   ]
  },
  {
   "cell_type": "markdown",
   "metadata": {},
   "source": [
    "## **Dictionaries**"
   ]
  },
  {
   "cell_type": "code",
   "execution_count": 40,
   "metadata": {
    "ExecuteTime": {
     "end_time": "2020-06-26T09:57:25.252147Z",
     "start_time": "2020-06-26T09:57:25.245200Z"
    }
   },
   "outputs": [],
   "source": [
    "a={'name':'nandha','age':'22'}"
   ]
  },
  {
   "cell_type": "code",
   "execution_count": 41,
   "metadata": {
    "ExecuteTime": {
     "end_time": "2020-06-26T09:57:25.754683Z",
     "start_time": "2020-06-26T09:57:25.736707Z"
    }
   },
   "outputs": [
    {
     "data": {
      "text/plain": [
       "'nandha'"
      ]
     },
     "execution_count": 41,
     "metadata": {},
     "output_type": "execute_result"
    }
   ],
   "source": [
    "a['name']"
   ]
  },
  {
   "cell_type": "code",
   "execution_count": 42,
   "metadata": {
    "ExecuteTime": {
     "end_time": "2020-06-26T09:57:26.232428Z",
     "start_time": "2020-06-26T09:57:26.215415Z"
    }
   },
   "outputs": [
    {
     "data": {
      "text/plain": [
       "{'name': 'nandha', 'age': '22'}"
      ]
     },
     "execution_count": 42,
     "metadata": {},
     "output_type": "execute_result"
    }
   ],
   "source": [
    "a"
   ]
  },
  {
   "cell_type": "code",
   "execution_count": 43,
   "metadata": {
    "ExecuteTime": {
     "end_time": "2020-06-26T09:57:26.718516Z",
     "start_time": "2020-06-26T09:57:26.702555Z"
    }
   },
   "outputs": [],
   "source": [
    "a['DOB']=1997"
   ]
  },
  {
   "cell_type": "code",
   "execution_count": 44,
   "metadata": {
    "ExecuteTime": {
     "end_time": "2020-06-26T09:57:27.256415Z",
     "start_time": "2020-06-26T09:57:27.224845Z"
    }
   },
   "outputs": [
    {
     "data": {
      "text/plain": [
       "{'name': 'nandha', 'age': '22', 'DOB': 1997}"
      ]
     },
     "execution_count": 44,
     "metadata": {},
     "output_type": "execute_result"
    }
   ],
   "source": [
    "a"
   ]
  },
  {
   "cell_type": "code",
   "execution_count": 45,
   "metadata": {
    "ExecuteTime": {
     "end_time": "2020-06-26T09:57:28.056083Z",
     "start_time": "2020-06-26T09:57:28.053107Z"
    }
   },
   "outputs": [],
   "source": [
    "b={'universe':{'Milkey way':{'earth':'United Kingdom'}}}"
   ]
  },
  {
   "cell_type": "code",
   "execution_count": 46,
   "metadata": {
    "ExecuteTime": {
     "end_time": "2020-06-26T09:57:28.656277Z",
     "start_time": "2020-06-26T09:57:28.640590Z"
    }
   },
   "outputs": [
    {
     "data": {
      "text/plain": [
       "dict_keys(['universe'])"
      ]
     },
     "execution_count": 46,
     "metadata": {},
     "output_type": "execute_result"
    }
   ],
   "source": [
    "b.keys()"
   ]
  },
  {
   "cell_type": "code",
   "execution_count": 47,
   "metadata": {
    "ExecuteTime": {
     "end_time": "2020-06-26T09:57:29.423466Z",
     "start_time": "2020-06-26T09:57:29.414491Z"
    }
   },
   "outputs": [
    {
     "data": {
      "text/plain": [
       "dict_items([('universe', {'Milkey way': {'earth': 'United Kingdom'}})])"
      ]
     },
     "execution_count": 47,
     "metadata": {},
     "output_type": "execute_result"
    }
   ],
   "source": [
    "b.items()"
   ]
  },
  {
   "cell_type": "code",
   "execution_count": 49,
   "metadata": {
    "ExecuteTime": {
     "end_time": "2020-06-26T09:57:29.848331Z",
     "start_time": "2020-06-26T09:57:29.841351Z"
    }
   },
   "outputs": [
    {
     "data": {
      "text/plain": [
       "dict_values([{'Milkey way': {'earth': 'United Kingdom'}}])"
      ]
     },
     "execution_count": 49,
     "metadata": {},
     "output_type": "execute_result"
    }
   ],
   "source": [
    "b.values()"
   ]
  },
  {
   "cell_type": "code",
   "execution_count": 50,
   "metadata": {
    "ExecuteTime": {
     "end_time": "2020-06-26T09:57:30.403552Z",
     "start_time": "2020-06-26T09:57:30.396571Z"
    }
   },
   "outputs": [
    {
     "data": {
      "text/plain": [
       "'UNITED KINGDOM'"
      ]
     },
     "execution_count": 50,
     "metadata": {},
     "output_type": "execute_result"
    }
   ],
   "source": [
    "b['universe']['Milkey way']['earth'].upper()"
   ]
  },
  {
   "cell_type": "code",
   "execution_count": 54,
   "metadata": {
    "ExecuteTime": {
     "end_time": "2020-06-26T09:57:31.486654Z",
     "start_time": "2020-06-26T09:57:31.481673Z"
    }
   },
   "outputs": [
    {
     "data": {
      "text/plain": [
       "{'Milkey way': {'earth': 'United Kingdom'}}"
      ]
     },
     "execution_count": 54,
     "metadata": {},
     "output_type": "execute_result"
    }
   ],
   "source": [
    "b.pop(\"universe\")"
   ]
  },
  {
   "cell_type": "code",
   "execution_count": 56,
   "metadata": {
    "ExecuteTime": {
     "end_time": "2020-06-26T09:57:32.850305Z",
     "start_time": "2020-06-26T09:57:32.628392Z"
    }
   },
   "outputs": [],
   "source": [
    "b={}"
   ]
  },
  {
   "cell_type": "code",
   "execution_count": 57,
   "metadata": {
    "ExecuteTime": {
     "end_time": "2020-06-26T09:57:33.371059Z",
     "start_time": "2020-06-26T09:57:33.363380Z"
    }
   },
   "outputs": [],
   "source": [
    "b['value1']=123321"
   ]
  },
  {
   "cell_type": "code",
   "execution_count": 58,
   "metadata": {
    "ExecuteTime": {
     "end_time": "2020-06-26T09:57:47.626241Z",
     "start_time": "2020-06-26T09:57:47.609287Z"
    }
   },
   "outputs": [
    {
     "data": {
      "text/plain": [
       "{'value1': 123321}"
      ]
     },
     "execution_count": 58,
     "metadata": {},
     "output_type": "execute_result"
    }
   ],
   "source": [
    "b"
   ]
  },
  {
   "cell_type": "code",
   "execution_count": 59,
   "metadata": {
    "ExecuteTime": {
     "end_time": "2020-06-26T09:57:47.956841Z",
     "start_time": "2020-06-26T09:57:47.945867Z"
    }
   },
   "outputs": [],
   "source": [
    "b['value1']+=123"
   ]
  },
  {
   "cell_type": "code",
   "execution_count": 60,
   "metadata": {
    "ExecuteTime": {
     "end_time": "2020-06-26T09:57:48.364546Z",
     "start_time": "2020-06-26T09:57:48.357606Z"
    }
   },
   "outputs": [
    {
     "data": {
      "text/plain": [
       "{'value1': 123444}"
      ]
     },
     "execution_count": 60,
     "metadata": {},
     "output_type": "execute_result"
    }
   ],
   "source": [
    "b"
   ]
  },
  {
   "cell_type": "markdown",
   "metadata": {},
   "source": [
    "## **Tuples**"
   ]
  },
  {
   "cell_type": "code",
   "execution_count": 60,
   "metadata": {
    "ExecuteTime": {
     "end_time": "2020-06-26T09:57:50.223245Z",
     "start_time": "2020-06-26T09:57:50.218220Z"
    }
   },
   "outputs": [],
   "source": [
    "a=(1,2,3,4,1)"
   ]
  },
  {
   "cell_type": "code",
   "execution_count": 61,
   "metadata": {
    "ExecuteTime": {
     "end_time": "2020-06-26T09:57:50.891603Z",
     "start_time": "2020-06-26T09:57:50.483868Z"
    }
   },
   "outputs": [
    {
     "data": {
      "text/plain": [
       "1"
      ]
     },
     "execution_count": 61,
     "metadata": {},
     "output_type": "execute_result"
    }
   ],
   "source": [
    "a[0]"
   ]
  },
  {
   "cell_type": "code",
   "execution_count": 62,
   "metadata": {
    "ExecuteTime": {
     "end_time": "2020-06-26T09:57:51.141200Z",
     "start_time": "2020-06-26T09:57:51.016826Z"
    }
   },
   "outputs": [
    {
     "data": {
      "text/plain": [
       "1"
      ]
     },
     "execution_count": 62,
     "metadata": {},
     "output_type": "execute_result"
    }
   ],
   "source": [
    "a[-1]"
   ]
  },
  {
   "cell_type": "code",
   "execution_count": 63,
   "metadata": {
    "ExecuteTime": {
     "end_time": "2020-06-26T09:57:51.838423Z",
     "start_time": "2020-06-26T09:57:51.834397Z"
    }
   },
   "outputs": [
    {
     "data": {
      "text/plain": [
       "(2, 3, 4, 1)"
      ]
     },
     "execution_count": 63,
     "metadata": {},
     "output_type": "execute_result"
    }
   ],
   "source": [
    "a[1:]"
   ]
  },
  {
   "cell_type": "raw",
   "metadata": {
    "ExecuteTime": {
     "end_time": "2020-06-22T10:47:10.384212Z",
     "start_time": "2020-06-22T10:47:10.379226Z"
    }
   },
   "source": [
    "a.count(1)"
   ]
  },
  {
   "cell_type": "code",
   "execution_count": 68,
   "metadata": {
    "ExecuteTime": {
     "end_time": "2020-06-26T09:57:58.112291Z",
     "start_time": "2020-06-26T09:57:58.097335Z"
    }
   },
   "outputs": [
    {
     "data": {
      "text/plain": [
       "2"
      ]
     },
     "execution_count": 68,
     "metadata": {},
     "output_type": "execute_result"
    }
   ],
   "source": [
    "a.index(3)"
   ]
  },
  {
   "cell_type": "code",
   "execution_count": 69,
   "metadata": {
    "ExecuteTime": {
     "end_time": "2020-06-26T09:57:58.712038Z",
     "start_time": "2020-06-26T09:57:58.706057Z"
    }
   },
   "outputs": [
    {
     "data": {
      "text/plain": [
       "5"
      ]
     },
     "execution_count": 69,
     "metadata": {},
     "output_type": "execute_result"
    }
   ],
   "source": [
    "len(a)"
   ]
  },
  {
   "cell_type": "code",
   "execution_count": 70,
   "metadata": {
    "ExecuteTime": {
     "end_time": "2020-06-26T09:57:58.963524Z",
     "start_time": "2020-06-26T09:57:58.945511Z"
    }
   },
   "outputs": [],
   "source": [
    "b=('a',1,2,3,8.9,'hello')"
   ]
  },
  {
   "cell_type": "code",
   "execution_count": 71,
   "metadata": {
    "ExecuteTime": {
     "end_time": "2020-06-26T09:57:59.215865Z",
     "start_time": "2020-06-26T09:57:59.200906Z"
    }
   },
   "outputs": [
    {
     "data": {
      "text/plain": [
       "('a', 1, 2, 3, 8.9, 'hello')"
      ]
     },
     "execution_count": 71,
     "metadata": {},
     "output_type": "execute_result"
    }
   ],
   "source": [
    "b"
   ]
  },
  {
   "cell_type": "markdown",
   "metadata": {},
   "source": [
    "## **Sets and Boolean**"
   ]
  },
  {
   "cell_type": "code",
   "execution_count": 72,
   "metadata": {
    "ExecuteTime": {
     "end_time": "2020-06-26T09:58:00.969671Z",
     "start_time": "2020-06-26T09:58:00.956709Z"
    }
   },
   "outputs": [],
   "source": [
    "a=[1,2,3]"
   ]
  },
  {
   "cell_type": "code",
   "execution_count": 73,
   "metadata": {
    "ExecuteTime": {
     "end_time": "2020-06-26T09:58:01.332160Z",
     "start_time": "2020-06-26T09:58:01.326216Z"
    }
   },
   "outputs": [],
   "source": [
    "a=a*5"
   ]
  },
  {
   "cell_type": "code",
   "execution_count": 74,
   "metadata": {
    "ExecuteTime": {
     "end_time": "2020-06-26T09:58:02.163286Z",
     "start_time": "2020-06-26T09:58:02.157236Z"
    }
   },
   "outputs": [
    {
     "data": {
      "text/plain": [
       "[1, 2, 3, 1, 2, 3, 1, 2, 3, 1, 2, 3, 1, 2, 3]"
      ]
     },
     "execution_count": 74,
     "metadata": {},
     "output_type": "execute_result"
    }
   ],
   "source": [
    "a"
   ]
  },
  {
   "cell_type": "code",
   "execution_count": 75,
   "metadata": {
    "ExecuteTime": {
     "end_time": "2020-06-26T09:58:02.689240Z",
     "start_time": "2020-06-26T09:58:02.679227Z"
    }
   },
   "outputs": [],
   "source": [
    "s=set(a)"
   ]
  },
  {
   "cell_type": "code",
   "execution_count": 76,
   "metadata": {
    "ExecuteTime": {
     "end_time": "2020-06-26T09:58:10.824040Z",
     "start_time": "2020-06-26T09:58:10.806088Z"
    }
   },
   "outputs": [
    {
     "data": {
      "text/plain": [
       "{1, 2, 3}"
      ]
     },
     "execution_count": 76,
     "metadata": {},
     "output_type": "execute_result"
    }
   ],
   "source": [
    "s"
   ]
  },
  {
   "cell_type": "code",
   "execution_count": 77,
   "metadata": {
    "ExecuteTime": {
     "end_time": "2020-06-26T09:58:11.172243Z",
     "start_time": "2020-06-26T09:58:11.092853Z"
    }
   },
   "outputs": [],
   "source": [
    "s.add(3)"
   ]
  },
  {
   "cell_type": "code",
   "execution_count": 78,
   "metadata": {
    "ExecuteTime": {
     "end_time": "2020-06-26T09:58:11.455480Z",
     "start_time": "2020-06-26T09:58:11.443515Z"
    }
   },
   "outputs": [
    {
     "data": {
      "text/plain": [
       "{1, 2, 3}"
      ]
     },
     "execution_count": 78,
     "metadata": {},
     "output_type": "execute_result"
    }
   ],
   "source": [
    "s"
   ]
  },
  {
   "cell_type": "code",
   "execution_count": 79,
   "metadata": {
    "ExecuteTime": {
     "end_time": "2020-06-26T09:58:11.692803Z",
     "start_time": "2020-06-26T09:58:11.678816Z"
    }
   },
   "outputs": [],
   "source": [
    "## Boolean"
   ]
  },
  {
   "cell_type": "code",
   "execution_count": 80,
   "metadata": {
    "ExecuteTime": {
     "end_time": "2020-06-26T09:58:11.912486Z",
     "start_time": "2020-06-26T09:58:11.894493Z"
    }
   },
   "outputs": [],
   "source": [
    "a=True"
   ]
  },
  {
   "cell_type": "code",
   "execution_count": 81,
   "metadata": {
    "ExecuteTime": {
     "end_time": "2020-06-26T09:58:13.039187Z",
     "start_time": "2020-06-26T09:58:13.033197Z"
    }
   },
   "outputs": [
    {
     "data": {
      "text/plain": [
       "False"
      ]
     },
     "execution_count": 81,
     "metadata": {},
     "output_type": "execute_result"
    }
   ],
   "source": [
    "1>2"
   ]
  },
  {
   "cell_type": "code",
   "execution_count": 82,
   "metadata": {
    "ExecuteTime": {
     "end_time": "2020-06-26T09:58:13.954272Z",
     "start_time": "2020-06-26T09:58:13.720544Z"
    }
   },
   "outputs": [
    {
     "data": {
      "text/plain": [
       "True"
      ]
     },
     "execution_count": 82,
     "metadata": {},
     "output_type": "execute_result"
    }
   ],
   "source": [
    "1==1"
   ]
  },
  {
   "cell_type": "code",
   "execution_count": 83,
   "metadata": {
    "ExecuteTime": {
     "end_time": "2020-06-26T09:58:14.093394Z",
     "start_time": "2020-06-26T09:58:14.010100Z"
    }
   },
   "outputs": [],
   "source": [
    "b=None"
   ]
  },
  {
   "cell_type": "code",
   "execution_count": 84,
   "metadata": {
    "ExecuteTime": {
     "end_time": "2020-06-26T09:58:14.281277Z",
     "start_time": "2020-06-26T09:58:14.257343Z"
    }
   },
   "outputs": [
    {
     "ename": "TypeError",
     "evalue": "'>' not supported between instances of 'bool' and 'NoneType'",
     "output_type": "error",
     "traceback": [
      "\u001b[1;31m---------------------------------------------------------------------------\u001b[0m",
      "\u001b[1;31mTypeError\u001b[0m                                 Traceback (most recent call last)",
      "\u001b[1;32m<ipython-input-84-b72c5f2557dd>\u001b[0m in \u001b[0;36m<module>\u001b[1;34m\u001b[0m\n\u001b[1;32m----> 1\u001b[1;33m \u001b[0ma\u001b[0m\u001b[1;33m>\u001b[0m\u001b[0mb\u001b[0m\u001b[1;33m\u001b[0m\u001b[1;33m\u001b[0m\u001b[0m\n\u001b[0m",
      "\u001b[1;31mTypeError\u001b[0m: '>' not supported between instances of 'bool' and 'NoneType'"
     ]
    }
   ],
   "source": [
    "a>b"
   ]
  },
  {
   "cell_type": "code",
   "execution_count": 85,
   "metadata": {
    "ExecuteTime": {
     "end_time": "2020-06-26T09:58:15.061468Z",
     "start_time": "2020-06-26T09:58:15.049480Z"
    }
   },
   "outputs": [
    {
     "data": {
      "text/plain": [
       "False"
      ]
     },
     "execution_count": 85,
     "metadata": {},
     "output_type": "execute_result"
    }
   ],
   "source": [
    "a==(False)"
   ]
  },
  {
   "cell_type": "code",
   "execution_count": 86,
   "metadata": {
    "ExecuteTime": {
     "end_time": "2020-06-26T09:58:16.109704Z",
     "start_time": "2020-06-26T09:58:16.095745Z"
    }
   },
   "outputs": [
    {
     "data": {
      "text/plain": [
       "True"
      ]
     },
     "execution_count": 86,
     "metadata": {},
     "output_type": "execute_result"
    }
   ],
   "source": [
    "a"
   ]
  },
  {
   "cell_type": "markdown",
   "metadata": {},
   "source": [
    "## **Files**"
   ]
  },
  {
   "cell_type": "code",
   "execution_count": 25,
   "metadata": {
    "ExecuteTime": {
     "end_time": "2020-06-26T19:44:46.069710Z",
     "start_time": "2020-06-26T19:44:46.063717Z"
    }
   },
   "outputs": [
    {
     "name": "stdout",
     "output_type": "stream",
     "text": [
      "Writing test.txt\n"
     ]
    }
   ],
   "source": [
    "%%writefile test.txt\n",
    "i am nandhagopal balasubramaniam"
   ]
  },
  {
   "cell_type": "code",
   "execution_count": 2,
   "metadata": {
    "ExecuteTime": {
     "end_time": "2020-06-26T19:44:47.036475Z",
     "start_time": "2020-06-26T19:44:47.021197Z"
    }
   },
   "outputs": [],
   "source": [
    "### OPENING THE FILE\n",
    "\n",
    "\n",
    "file=open('E:\\\\File checking python.txt')\n"
   ]
  },
  {
   "cell_type": "code",
   "execution_count": 3,
   "metadata": {
    "ExecuteTime": {
     "end_time": "2020-06-26T19:44:48.952668Z",
     "start_time": "2020-06-26T19:44:48.935758Z"
    }
   },
   "outputs": [
    {
     "data": {
      "text/plain": [
       "'C:\\\\Users\\\\Nandhu\\\\Documents\\\\Untitled Folder'"
      ]
     },
     "execution_count": 3,
     "metadata": {},
     "output_type": "execute_result"
    }
   ],
   "source": [
    "pwd   # Current working directory"
   ]
  },
  {
   "cell_type": "code",
   "execution_count": 4,
   "metadata": {
    "ExecuteTime": {
     "end_time": "2020-06-26T19:44:49.678713Z",
     "start_time": "2020-06-26T19:44:49.441048Z"
    }
   },
   "outputs": [
    {
     "data": {
      "text/plain": [
       "'hello! its nandhagopal \\nits seconf line\\n\\n\\nforth line\\n\\n\\nseventh line\\n'"
      ]
     },
     "execution_count": 4,
     "metadata": {},
     "output_type": "execute_result"
    }
   ],
   "source": [
    "### READING THE FILE\n",
    "\n",
    "\n",
    "file.read()\n"
   ]
  },
  {
   "cell_type": "code",
   "execution_count": 5,
   "metadata": {
    "ExecuteTime": {
     "end_time": "2020-06-26T19:44:51.511660Z",
     "start_time": "2020-06-26T19:44:51.492677Z"
    }
   },
   "outputs": [
    {
     "name": "stdout",
     "output_type": "stream",
     "text": [
      "hello! its nandhagopal \n",
      "its seconf line\n",
      "\n",
      "\n",
      "forth line\n",
      "\n",
      "\n",
      "seventh line\n",
      "\n"
     ]
    }
   ],
   "source": [
    "\n",
    "file.seek(0)\n",
    "\n",
    "print(file.read())"
   ]
  },
  {
   "cell_type": "code",
   "execution_count": 6,
   "metadata": {
    "ExecuteTime": {
     "end_time": "2020-06-26T19:44:53.104845Z",
     "start_time": "2020-06-26T19:44:52.786702Z"
    }
   },
   "outputs": [
    {
     "data": {
      "text/plain": [
       "''"
      ]
     },
     "execution_count": 6,
     "metadata": {},
     "output_type": "execute_result"
    }
   ],
   "source": [
    "file.read()     # beacause the cursor in the end of the read document."
   ]
  },
  {
   "cell_type": "code",
   "execution_count": 7,
   "metadata": {
    "ExecuteTime": {
     "end_time": "2020-06-26T19:44:54.585659Z",
     "start_time": "2020-06-26T19:44:54.566711Z"
    }
   },
   "outputs": [
    {
     "data": {
      "text/plain": [
       "0"
      ]
     },
     "execution_count": 7,
     "metadata": {},
     "output_type": "execute_result"
    }
   ],
   "source": [
    "file.seek(0)\n"
   ]
  },
  {
   "cell_type": "code",
   "execution_count": 8,
   "metadata": {
    "ExecuteTime": {
     "end_time": "2020-06-26T19:44:56.231375Z",
     "start_time": "2020-06-26T19:44:55.070755Z"
    }
   },
   "outputs": [
    {
     "data": {
      "text/plain": [
       "'hello! its nandhagopal \\nits seconf line\\n\\n\\nforth line\\n\\n\\nseventh line\\n'"
      ]
     },
     "execution_count": 8,
     "metadata": {},
     "output_type": "execute_result"
    }
   ],
   "source": [
    "file.read()"
   ]
  },
  {
   "cell_type": "code",
   "execution_count": 9,
   "metadata": {
    "ExecuteTime": {
     "end_time": "2020-06-26T19:44:56.372491Z",
     "start_time": "2020-06-26T19:44:56.265285Z"
    }
   },
   "outputs": [
    {
     "data": {
      "text/plain": [
       "['hello! its nandhagopal \\n',\n",
       " 'its seconf line\\n',\n",
       " '\\n',\n",
       " '\\n',\n",
       " 'forth line\\n',\n",
       " '\\n',\n",
       " '\\n',\n",
       " 'seventh line\\n']"
      ]
     },
     "execution_count": 9,
     "metadata": {},
     "output_type": "execute_result"
    }
   ],
   "source": [
    "file.seek(0)\n",
    "file.readlines()    # Access the every line seperately"
   ]
  },
  {
   "cell_type": "code",
   "execution_count": 10,
   "metadata": {
    "ExecuteTime": {
     "end_time": "2020-06-26T19:45:00.798925Z",
     "start_time": "2020-06-26T19:45:00.783297Z"
    }
   },
   "outputs": [],
   "source": [
    "file.close()    #closing the file"
   ]
  },
  {
   "cell_type": "code",
   "execution_count": 11,
   "metadata": {
    "ExecuteTime": {
     "end_time": "2020-06-26T19:45:01.520089Z",
     "start_time": "2020-06-26T19:45:01.503105Z"
    }
   },
   "outputs": [],
   "source": [
    "### WRITING THE FILE WHICH IS ALREADY CREATED"
   ]
  },
  {
   "cell_type": "code",
   "execution_count": 12,
   "metadata": {
    "ExecuteTime": {
     "end_time": "2020-06-26T19:45:02.110026Z",
     "start_time": "2020-06-26T19:45:02.102007Z"
    }
   },
   "outputs": [],
   "source": [
    "file= open('E:\\\\File checking python', 'w+')     # 'w+' helps to write the file. but it deletes the details previous present in that file"
   ]
  },
  {
   "cell_type": "code",
   "execution_count": 13,
   "metadata": {
    "ExecuteTime": {
     "end_time": "2020-06-26T19:45:03.761382Z",
     "start_time": "2020-06-26T19:45:03.588885Z"
    }
   },
   "outputs": [
    {
     "data": {
      "text/plain": [
       "''"
      ]
     },
     "execution_count": 13,
     "metadata": {},
     "output_type": "execute_result"
    }
   ],
   "source": [
    "file.read()"
   ]
  },
  {
   "cell_type": "code",
   "execution_count": 14,
   "metadata": {
    "ExecuteTime": {
     "end_time": "2020-06-26T19:45:04.407022Z",
     "start_time": "2020-06-26T19:45:04.391441Z"
    }
   },
   "outputs": [
    {
     "data": {
      "text/plain": [
       "0"
      ]
     },
     "execution_count": 14,
     "metadata": {},
     "output_type": "execute_result"
    }
   ],
   "source": [
    "file.seek(0)"
   ]
  },
  {
   "cell_type": "code",
   "execution_count": 17,
   "metadata": {
    "ExecuteTime": {
     "end_time": "2020-06-26T19:46:32.487658Z",
     "start_time": "2020-06-26T19:46:32.479704Z"
    }
   },
   "outputs": [
    {
     "data": {
      "text/plain": [
       "''"
      ]
     },
     "execution_count": 17,
     "metadata": {},
     "output_type": "execute_result"
    }
   ],
   "source": [
    "file.read()   # 'w+' removes the words which present in that file"
   ]
  },
  {
   "cell_type": "code",
   "execution_count": 18,
   "metadata": {
    "ExecuteTime": {
     "end_time": "2020-06-26T19:46:33.057302Z",
     "start_time": "2020-06-26T19:46:33.048363Z"
    }
   },
   "outputs": [
    {
     "data": {
      "text/plain": [
       "23"
      ]
     },
     "execution_count": 18,
     "metadata": {},
     "output_type": "execute_result"
    }
   ],
   "source": [
    "# writing \n",
    "file.write('This is the new text')\n",
    "file.write('\\nthis is the second line')\n",
    "file.write('\\nthis is the third line')"
   ]
  },
  {
   "cell_type": "code",
   "execution_count": 19,
   "metadata": {
    "ExecuteTime": {
     "end_time": "2020-06-26T19:46:34.266310Z",
     "start_time": "2020-06-26T19:46:34.256342Z"
    }
   },
   "outputs": [
    {
     "data": {
      "text/plain": [
       "''"
      ]
     },
     "execution_count": 19,
     "metadata": {},
     "output_type": "execute_result"
    }
   ],
   "source": [
    "file.read()"
   ]
  },
  {
   "cell_type": "code",
   "execution_count": 20,
   "metadata": {
    "ExecuteTime": {
     "end_time": "2020-06-26T19:46:34.778179Z",
     "start_time": "2020-06-26T19:46:34.761185Z"
    }
   },
   "outputs": [
    {
     "data": {
      "text/plain": [
       "0"
      ]
     },
     "execution_count": 20,
     "metadata": {},
     "output_type": "execute_result"
    }
   ],
   "source": [
    "file.seek(0)"
   ]
  },
  {
   "cell_type": "code",
   "execution_count": 21,
   "metadata": {
    "ExecuteTime": {
     "end_time": "2020-06-26T19:46:35.530131Z",
     "start_time": "2020-06-26T19:46:35.524148Z"
    }
   },
   "outputs": [
    {
     "name": "stdout",
     "output_type": "stream",
     "text": [
      "This is the new text\n",
      "this is the second line\n",
      "this is the third lineThis is the new text\n",
      "this is the second line\n",
      "this is the third line\n"
     ]
    }
   ],
   "source": [
    "print(file.read())"
   ]
  },
  {
   "cell_type": "code",
   "execution_count": 22,
   "metadata": {
    "ExecuteTime": {
     "end_time": "2020-06-26T19:46:36.276945Z",
     "start_time": "2020-06-26T19:46:36.252965Z"
    }
   },
   "outputs": [],
   "source": [
    "file.close()"
   ]
  },
  {
   "cell_type": "code",
   "execution_count": 23,
   "metadata": {
    "ExecuteTime": {
     "end_time": "2020-06-26T19:46:36.702162Z",
     "start_time": "2020-06-26T19:46:36.694165Z"
    }
   },
   "outputs": [],
   "source": [
    "### APPENDING THE DETAILS IN THE FILE"
   ]
  },
  {
   "cell_type": "code",
   "execution_count": 24,
   "metadata": {
    "ExecuteTime": {
     "end_time": "2020-06-26T19:46:37.492461Z",
     "start_time": "2020-06-26T19:46:37.488417Z"
    }
   },
   "outputs": [],
   "source": [
    "file=open('E://File checking python.txt','a+')  # 'a+' helps to read and append details to the file"
   ]
  },
  {
   "cell_type": "code",
   "execution_count": 28,
   "metadata": {
    "ExecuteTime": {
     "end_time": "2020-06-26T19:46:59.104927Z",
     "start_time": "2020-06-26T19:46:59.093957Z"
    }
   },
   "outputs": [
    {
     "data": {
      "text/plain": [
       "0"
      ]
     },
     "execution_count": 28,
     "metadata": {},
     "output_type": "execute_result"
    }
   ],
   "source": [
    "file.seek(0)"
   ]
  },
  {
   "cell_type": "code",
   "execution_count": 29,
   "metadata": {
    "ExecuteTime": {
     "end_time": "2020-06-26T19:46:59.561025Z",
     "start_time": "2020-06-26T19:46:59.540064Z"
    }
   },
   "outputs": [
    {
     "name": "stdout",
     "output_type": "stream",
     "text": [
      "hello! its nandhagopal \n",
      "its seconf line\n",
      "\n",
      "\n",
      "forth line\n",
      "\n",
      "\n",
      "seventh line\n",
      "\n"
     ]
    }
   ],
   "source": [
    "print(file.read())"
   ]
  },
  {
   "cell_type": "code",
   "execution_count": 31,
   "metadata": {
    "ExecuteTime": {
     "end_time": "2020-06-26T19:48:16.169133Z",
     "start_time": "2020-06-26T19:48:16.159164Z"
    }
   },
   "outputs": [
    {
     "data": {
      "text/plain": [
       "22"
      ]
     },
     "execution_count": 31,
     "metadata": {},
     "output_type": "execute_result"
    }
   ],
   "source": [
    "file.write('\\nthis is appended text')"
   ]
  },
  {
   "cell_type": "code",
   "execution_count": 34,
   "metadata": {
    "ExecuteTime": {
     "end_time": "2020-06-26T19:48:49.044185Z",
     "start_time": "2020-06-26T19:48:49.026235Z"
    }
   },
   "outputs": [
    {
     "name": "stdout",
     "output_type": "stream",
     "text": [
      "hello! its nandhagopal \n",
      "its seconf line\n",
      "\n",
      "\n",
      "forth line\n",
      "\n",
      "\n",
      "seventh line\n",
      "\n",
      "this is appended text\n"
     ]
    }
   ],
   "source": [
    "file.seek(0)\n",
    "\n",
    "print(file.read())"
   ]
  },
  {
   "cell_type": "code",
   "execution_count": 35,
   "metadata": {
    "ExecuteTime": {
     "end_time": "2020-06-26T19:49:06.253678Z",
     "start_time": "2020-06-26T19:49:06.243686Z"
    }
   },
   "outputs": [],
   "source": [
    "file.close()"
   ]
  },
  {
   "cell_type": "code",
   "execution_count": 45,
   "metadata": {
    "ExecuteTime": {
     "end_time": "2020-06-26T19:53:35.277616Z",
     "start_time": "2020-06-26T19:53:35.270588Z"
    }
   },
   "outputs": [
    {
     "name": "stdout",
     "output_type": "stream",
     "text": [
      "Appending to test.txt\n"
     ]
    }
   ],
   "source": [
    "%%writefile -a test.txt\n",
    "\n",
    "this is new appended through jupyter comment\n",
    "\n",
    "next time"
   ]
  },
  {
   "cell_type": "code",
   "execution_count": 46,
   "metadata": {
    "ExecuteTime": {
     "end_time": "2020-06-26T19:53:36.264318Z",
     "start_time": "2020-06-26T19:53:36.254363Z"
    }
   },
   "outputs": [],
   "source": [
    "file=open('test.txt')"
   ]
  },
  {
   "cell_type": "code",
   "execution_count": 47,
   "metadata": {
    "ExecuteTime": {
     "end_time": "2020-06-26T19:53:37.074003Z",
     "start_time": "2020-06-26T19:53:37.060998Z"
    }
   },
   "outputs": [
    {
     "name": "stdout",
     "output_type": "stream",
     "text": [
      "i am nandhagopal balasubramaniam\n",
      "this is new added information\n",
      "next time\n",
      "this is new added information\n",
      "next time\n",
      "\n",
      "this is new added information\n",
      "next time\n",
      "\n",
      "this is new appended through jupyter comment\n",
      "\n",
      "next time\n",
      "\n"
     ]
    }
   ],
   "source": [
    "file.seek(0)\n",
    "print(file.read())"
   ]
  },
  {
   "cell_type": "code",
   "execution_count": 48,
   "metadata": {
    "ExecuteTime": {
     "end_time": "2020-06-26T19:53:48.376665Z",
     "start_time": "2020-06-26T19:53:48.366732Z"
    }
   },
   "outputs": [],
   "source": [
    "file.close()"
   ]
  },
  {
   "cell_type": "code",
   "execution_count": 49,
   "metadata": {
    "ExecuteTime": {
     "end_time": "2020-06-26T19:59:00.959636Z",
     "start_time": "2020-06-26T19:59:00.952593Z"
    }
   },
   "outputs": [],
   "source": [
    "### iterating through lines"
   ]
  },
  {
   "cell_type": "code",
   "execution_count": 50,
   "metadata": {
    "ExecuteTime": {
     "end_time": "2020-06-26T19:59:18.244047Z",
     "start_time": "2020-06-26T19:59:18.233118Z"
    }
   },
   "outputs": [],
   "source": [
    "file=open('test.txt')"
   ]
  },
  {
   "cell_type": "code",
   "execution_count": 51,
   "metadata": {
    "ExecuteTime": {
     "end_time": "2020-06-26T19:59:42.620759Z",
     "start_time": "2020-06-26T19:59:42.606777Z"
    }
   },
   "outputs": [
    {
     "name": "stdout",
     "output_type": "stream",
     "text": [
      "i am nandhagopal balasubramaniam\n",
      "this is new added information\n",
      "next time\n",
      "this is new added information\n",
      "next time\n",
      "\n",
      "this is new added information\n",
      "next time\n",
      "\n",
      "this is new appended through jupyter comment\n",
      "\n",
      "next time\n",
      "\n"
     ]
    }
   ],
   "source": [
    "file.seek(0)\n",
    "print(file.read())"
   ]
  },
  {
   "cell_type": "code",
   "execution_count": 56,
   "metadata": {
    "ExecuteTime": {
     "end_time": "2020-06-26T20:04:53.381487Z",
     "start_time": "2020-06-26T20:04:53.365501Z"
    }
   },
   "outputs": [
    {
     "name": "stdout",
     "output_type": "stream",
     "text": [
      "i am nandhagopal balasubramaniam\n",
      "\n",
      "iteration count1\n",
      "this is new added information\n",
      "\n",
      "iteration count2\n",
      "next time\n",
      "\n",
      "iteration count3\n",
      "this is new added information\n",
      "\n",
      "iteration count4\n",
      "next time\n",
      "\n",
      "iteration count5\n",
      "\n",
      "\n",
      "iteration count6\n",
      "this is new added information\n",
      "\n",
      "iteration count7\n",
      "next time\n",
      "\n",
      "iteration count8\n",
      "\n",
      "\n",
      "iteration count9\n",
      "this is new appended through jupyter comment\n",
      "\n",
      "iteration count10\n",
      "\n",
      "\n",
      "iteration count11\n",
      "next time\n",
      "\n",
      "iteration count12\n"
     ]
    }
   ],
   "source": [
    "file.seek(0)\n",
    "iteration_count=1\n",
    "for line in file:\n",
    "    print(line)\n",
    "    print(f'iteration count{iteration_count}')\n",
    "    iteration_count+=1\n",
    "    \n",
    "# it doesn't need READ function and it takes one empty line for each iteration"
   ]
  },
  {
   "cell_type": "code",
   "execution_count": 67,
   "metadata": {
    "ExecuteTime": {
     "end_time": "2020-06-26T20:06:54.699298Z",
     "start_time": "2020-06-26T20:06:54.682382Z"
    }
   },
   "outputs": [],
   "source": [
    "file.seek(0)\n",
    "a=list(file.readlines()) # we can access every line individually"
   ]
  },
  {
   "cell_type": "code",
   "execution_count": 68,
   "metadata": {
    "ExecuteTime": {
     "end_time": "2020-06-26T20:07:00.433896Z",
     "start_time": "2020-06-26T20:07:00.423859Z"
    }
   },
   "outputs": [
    {
     "data": {
      "text/plain": [
       "'i am nandhagopal balasubramaniam\\n'"
      ]
     },
     "execution_count": 68,
     "metadata": {},
     "output_type": "execute_result"
    }
   ],
   "source": [
    "a[0]"
   ]
  },
  {
   "cell_type": "markdown",
   "metadata": {},
   "source": [
    "## **Arithmatic Operations** "
   ]
  },
  {
   "cell_type": "code",
   "execution_count": 26,
   "metadata": {
    "ExecuteTime": {
     "end_time": "2020-06-24T09:59:52.536424Z",
     "start_time": "2020-06-24T09:59:52.528463Z"
    }
   },
   "outputs": [
    {
     "data": {
      "text/plain": [
       "5"
      ]
     },
     "execution_count": 26,
     "metadata": {},
     "output_type": "execute_result"
    }
   ],
   "source": [
    "# Addition\n",
    "\n",
    "3+2"
   ]
  },
  {
   "cell_type": "code",
   "execution_count": 29,
   "metadata": {
    "ExecuteTime": {
     "end_time": "2020-06-24T09:59:53.495543Z",
     "start_time": "2020-06-24T09:59:52.746693Z"
    }
   },
   "outputs": [
    {
     "data": {
      "text/plain": [
       "2"
      ]
     },
     "execution_count": 29,
     "metadata": {},
     "output_type": "execute_result"
    }
   ],
   "source": [
    "# Substraction\n",
    "\n",
    "3-1"
   ]
  },
  {
   "cell_type": "code",
   "execution_count": 28,
   "metadata": {
    "ExecuteTime": {
     "end_time": "2020-06-24T09:59:53.627096Z",
     "start_time": "2020-06-24T09:59:53.523470Z"
    }
   },
   "outputs": [
    {
     "data": {
      "text/plain": [
       "6"
      ]
     },
     "execution_count": 28,
     "metadata": {},
     "output_type": "execute_result"
    }
   ],
   "source": [
    "# Multiplication\n",
    "\n",
    "2*3"
   ]
  },
  {
   "cell_type": "code",
   "execution_count": 61,
   "metadata": {
    "ExecuteTime": {
     "end_time": "2020-06-24T09:59:53.745251Z",
     "start_time": "2020-06-24T09:59:53.640025Z"
    }
   },
   "outputs": [
    {
     "data": {
      "text/plain": [
       "1.3333333333333333"
      ]
     },
     "execution_count": 61,
     "metadata": {},
     "output_type": "execute_result"
    }
   ],
   "source": [
    "# Devision \n",
    "\n",
    "4/3"
   ]
  },
  {
   "cell_type": "code",
   "execution_count": 22,
   "metadata": {
    "ExecuteTime": {
     "end_time": "2020-06-24T09:59:53.965443Z",
     "start_time": "2020-06-24T09:59:53.867203Z"
    }
   },
   "outputs": [
    {
     "data": {
      "text/plain": [
       "1"
      ]
     },
     "execution_count": 22,
     "metadata": {},
     "output_type": "execute_result"
    }
   ],
   "source": [
    "# Devision (remainder)\n",
    "\n",
    "7%3"
   ]
  },
  {
   "cell_type": "code",
   "execution_count": 62,
   "metadata": {
    "ExecuteTime": {
     "end_time": "2020-06-24T09:59:53.853303Z",
     "start_time": "2020-06-24T09:59:53.763717Z"
    }
   },
   "outputs": [
    {
     "data": {
      "text/plain": [
       "2"
      ]
     },
     "execution_count": 62,
     "metadata": {},
     "output_type": "execute_result"
    }
   ],
   "source": [
    "5//2 # (quotient)"
   ]
  },
  {
   "cell_type": "code",
   "execution_count": 23,
   "metadata": {
    "ExecuteTime": {
     "end_time": "2020-06-24T09:59:54.123700Z",
     "start_time": "2020-06-24T09:59:54.118714Z"
    }
   },
   "outputs": [
    {
     "data": {
      "text/plain": [
       "8"
      ]
     },
     "execution_count": 23,
     "metadata": {},
     "output_type": "execute_result"
    }
   ],
   "source": [
    "2**3"
   ]
  },
  {
   "cell_type": "code",
   "execution_count": 24,
   "metadata": {
    "ExecuteTime": {
     "end_time": "2020-06-24T09:59:54.301560Z",
     "start_time": "2020-06-24T09:59:54.295534Z"
    }
   },
   "outputs": [
    {
     "data": {
      "text/plain": [
       "2"
      ]
     },
     "execution_count": 24,
     "metadata": {},
     "output_type": "execute_result"
    }
   ],
   "source": [
    "int(8**0.333444) #cubic root"
   ]
  },
  {
   "cell_type": "code",
   "execution_count": 25,
   "metadata": {
    "ExecuteTime": {
     "end_time": "2020-06-24T09:59:54.522502Z",
     "start_time": "2020-06-24T09:59:54.516483Z"
    }
   },
   "outputs": [
    {
     "data": {
      "text/plain": [
       "2.0"
      ]
     },
     "execution_count": 25,
     "metadata": {},
     "output_type": "execute_result"
    }
   ],
   "source": [
    "4**0.5  #root"
   ]
  },
  {
   "cell_type": "markdown",
   "metadata": {},
   "source": [
    "## **Operator Precedence**\n",
    "\n",
    "**Arithmetic Operators**: \n",
    "These are evaluated first. The order of precedence is as follows:\n",
    "\n",
    "1. Exponentiation **\n",
    "2. Multiplication and division **(*, /, //, %)**\n",
    "3. Addition and subtraction **(+, -)**\n",
    "4. Relational Operators: These are evaluated next. They compare values and return a Boolean result. Examples include **(<, >, <=, >=, ==, and !=)**.\n",
    "5. Logical Operators: These are evaluated last. They combine Boolean values. The logical operators are **and**, **or**, and **not**."
   ]
  },
  {
   "cell_type": "code",
   "execution_count": 1,
   "metadata": {
    "ExecuteTime": {
     "end_time": "2020-06-27T08:46:50.786894Z",
     "start_time": "2020-06-27T08:46:50.773930Z"
    }
   },
   "outputs": [
    {
     "data": {
      "text/plain": [
       "True"
      ]
     },
     "execution_count": 1,
     "metadata": {},
     "output_type": "execute_result"
    }
   ],
   "source": [
    "1==1"
   ]
  },
  {
   "cell_type": "code",
   "execution_count": 2,
   "metadata": {
    "ExecuteTime": {
     "end_time": "2020-06-27T08:46:55.349031Z",
     "start_time": "2020-06-27T08:46:55.332079Z"
    }
   },
   "outputs": [
    {
     "data": {
      "text/plain": [
       "True"
      ]
     },
     "execution_count": 2,
     "metadata": {},
     "output_type": "execute_result"
    }
   ],
   "source": [
    "1<2"
   ]
  },
  {
   "cell_type": "code",
   "execution_count": 3,
   "metadata": {
    "ExecuteTime": {
     "end_time": "2020-06-27T08:47:00.528814Z",
     "start_time": "2020-06-27T08:47:00.514795Z"
    }
   },
   "outputs": [
    {
     "data": {
      "text/plain": [
       "False"
      ]
     },
     "execution_count": 3,
     "metadata": {},
     "output_type": "execute_result"
    }
   ],
   "source": [
    "2<1"
   ]
  },
  {
   "cell_type": "code",
   "execution_count": 5,
   "metadata": {
    "ExecuteTime": {
     "end_time": "2020-06-27T08:47:15.496990Z",
     "start_time": "2020-06-27T08:47:15.491979Z"
    }
   },
   "outputs": [
    {
     "data": {
      "text/plain": [
       "True"
      ]
     },
     "execution_count": 5,
     "metadata": {},
     "output_type": "execute_result"
    }
   ],
   "source": [
    "1<=2"
   ]
  },
  {
   "cell_type": "code",
   "execution_count": 6,
   "metadata": {
    "ExecuteTime": {
     "end_time": "2020-06-27T08:47:26.610999Z",
     "start_time": "2020-06-27T08:47:26.600992Z"
    }
   },
   "outputs": [
    {
     "data": {
      "text/plain": [
       "True"
      ]
     },
     "execution_count": 6,
     "metadata": {},
     "output_type": "execute_result"
    }
   ],
   "source": [
    "22>=21"
   ]
  },
  {
   "cell_type": "code",
   "execution_count": 7,
   "metadata": {
    "ExecuteTime": {
     "end_time": "2020-06-27T09:40:01.140236Z",
     "start_time": "2020-06-27T09:40:01.137191Z"
    }
   },
   "outputs": [],
   "source": [
    "### CHAIN COMPARISON"
   ]
  },
  {
   "cell_type": "code",
   "execution_count": 9,
   "metadata": {
    "ExecuteTime": {
     "end_time": "2020-06-27T09:40:26.623785Z",
     "start_time": "2020-06-27T09:40:26.617801Z"
    }
   },
   "outputs": [
    {
     "data": {
      "text/plain": [
       "True"
      ]
     },
     "execution_count": 9,
     "metadata": {},
     "output_type": "execute_result"
    }
   ],
   "source": [
    "(5>2) and (1<2)  # both side true"
   ]
  },
  {
   "cell_type": "code",
   "execution_count": 11,
   "metadata": {
    "ExecuteTime": {
     "end_time": "2020-06-27T09:41:56.835753Z",
     "start_time": "2020-06-27T09:41:56.823789Z"
    }
   },
   "outputs": [
    {
     "data": {
      "text/plain": [
       "True"
      ]
     },
     "execution_count": 11,
     "metadata": {},
     "output_type": "execute_result"
    }
   ],
   "source": [
    "(3>=3) or (4<=3) # either one side true"
   ]
  },
  {
   "cell_type": "code",
   "execution_count": 67,
   "metadata": {},
   "outputs": [
    {
     "name": "stdout",
     "output_type": "stream",
     "text": [
      "False\n"
     ]
    }
   ],
   "source": [
    "its_true = True\n",
    "\n",
    "print ( not its_true)"
   ]
  },
  {
   "cell_type": "code",
   "execution_count": 26,
   "metadata": {
    "ExecuteTime": {
     "end_time": "2020-06-24T09:59:54.687316Z",
     "start_time": "2020-06-24T09:59:54.680342Z"
    }
   },
   "outputs": [
    {
     "data": {
      "text/plain": [
       "9.0"
      ]
     },
     "execution_count": 26,
     "metadata": {},
     "output_type": "execute_result"
    }
   ],
   "source": [
    "1+2 * 10/2 -2 # priority--> (/ or *)  (+ or -)"
   ]
  },
  {
   "cell_type": "code",
   "execution_count": 27,
   "metadata": {
    "ExecuteTime": {
     "end_time": "2020-06-24T09:59:54.847859Z",
     "start_time": "2020-06-24T09:59:54.842873Z"
    }
   },
   "outputs": [
    {
     "data": {
      "text/plain": [
       "13.0"
      ]
     },
     "execution_count": 27,
     "metadata": {},
     "output_type": "execute_result"
    }
   ],
   "source": [
    "(1+2)*(10/2)-2"
   ]
  },
  {
   "cell_type": "markdown",
   "metadata": {},
   "source": [
    "# **Statements**"
   ]
  },
  {
   "cell_type": "markdown",
   "metadata": {},
   "source": [
    "Python have colon and indentation for '()' and ';' . In python end of the line is the  end of the statement"
   ]
  },
  {
   "cell_type": "markdown",
   "metadata": {},
   "source": [
    "## If else"
   ]
  },
  {
   "cell_type": "code",
   "execution_count": 12,
   "metadata": {
    "ExecuteTime": {
     "end_time": "2020-06-27T09:47:14.274858Z",
     "start_time": "2020-06-27T09:47:14.265890Z"
    }
   },
   "outputs": [],
   "source": [
    "name='nandhagopal'"
   ]
  },
  {
   "cell_type": "code",
   "execution_count": 16,
   "metadata": {
    "ExecuteTime": {
     "end_time": "2020-06-27T09:49:25.194808Z",
     "start_time": "2020-06-27T09:49:25.184848Z"
    }
   },
   "outputs": [
    {
     "name": "stdout",
     "output_type": "stream",
     "text": [
      "welcome! nandhagopal\n"
     ]
    }
   ],
   "source": [
    "if name!= None:\n",
    "    print('welcome! {}'.format(name))\n",
    "else:\n",
    "    print('welcome! Whats your name?')"
   ]
  },
  {
   "cell_type": "code",
   "execution_count": 23,
   "metadata": {
    "ExecuteTime": {
     "end_time": "2020-06-27T09:54:48.705362Z",
     "start_time": "2020-06-27T09:54:48.697322Z"
    }
   },
   "outputs": [],
   "source": [
    "name=[]"
   ]
  },
  {
   "cell_type": "code",
   "execution_count": 24,
   "metadata": {
    "ExecuteTime": {
     "end_time": "2020-06-27T09:54:49.582137Z",
     "start_time": "2020-06-27T09:54:49.563249Z"
    }
   },
   "outputs": [
    {
     "name": "stdout",
     "output_type": "stream",
     "text": [
      "welcomwe! whats your name?\n"
     ]
    }
   ],
   "source": [
    "if len(name)>=2:\n",
    "    print('Welcome! {} and {}'.format(name[0],name[1]))\n",
    "elif len(name)==1:\n",
    "    print('welcome!{}'.format(name[0]))\n",
    "else:\n",
    "    print('welcomwe! whats your name?')"
   ]
  },
  {
   "cell_type": "markdown",
   "metadata": {},
   "source": [
    "## For Loop"
   ]
  },
  {
   "cell_type": "code",
   "execution_count": 33,
   "metadata": {
    "ExecuteTime": {
     "end_time": "2020-06-27T10:07:16.268751Z",
     "start_time": "2020-06-27T10:07:16.249788Z"
    }
   },
   "outputs": [
    {
     "name": "stdout",
     "output_type": "stream",
     "text": [
      "1 is the odd number\n",
      "2 is the even number\n",
      "3 is the odd number\n",
      "4 is the even number\n",
      "5 is the odd number\n",
      "6 is the even number\n",
      "7 is the odd number\n",
      "8 is the even number\n",
      "9 is the odd number\n"
     ]
    }
   ],
   "source": [
    "### LIST \n",
    "\n",
    "list1=list(range(1,10))\n",
    "\n",
    "for num in list1:\n",
    "    if num%2 == 0:\n",
    "        print('%d is the even number'%num)\n",
    "    else:\n",
    "        print('%d is the odd number'%num)\n"
   ]
  },
  {
   "cell_type": "code",
   "execution_count": 43,
   "metadata": {
    "ExecuteTime": {
     "end_time": "2020-06-27T10:11:00.823430Z",
     "start_time": "2020-06-27T10:11:00.817484Z"
    }
   },
   "outputs": [
    {
     "name": "stdout",
     "output_type": "stream",
     "text": [
      "0 can divide by 3\n",
      "1 can not divide by 3\n",
      "2 can not divide by 3\n",
      "3 can divide by 3\n",
      "4 can not divide by 3\n",
      "5 can not divide by 3\n",
      "6 can divide by 3\n",
      "7 can not divide by 3\n",
      "8 can not divide by 3\n",
      "9 can divide by 3\n",
      "10 can not divide by 3\n"
     ]
    }
   ],
   "source": [
    "### TUPLE\n",
    "\n",
    "tup =tuple(range(0,11))\n",
    "\n",
    "for num in tup:\n",
    "    if num % 3 ==0:\n",
    "        print('%d can divide by 3'%num)\n",
    "    else:\n",
    "        print('%d can not divide by 3'%num)\n"
   ]
  },
  {
   "cell_type": "code",
   "execution_count": 48,
   "metadata": {
    "ExecuteTime": {
     "end_time": "2020-06-27T10:13:29.058058Z",
     "start_time": "2020-06-27T10:13:29.049056Z"
    }
   },
   "outputs": [
    {
     "name": "stdout",
     "output_type": "stream",
     "text": [
      "I\n",
      " \n",
      "a\n",
      "m\n",
      " \n",
      "N\n",
      "a\n",
      "n\n",
      "d\n",
      "h\n",
      "a\n",
      "g\n",
      "o\n",
      "p\n",
      "a\n",
      "l\n"
     ]
    }
   ],
   "source": [
    "### STRINGS\n",
    "\n",
    "strg='I am Nandhagopal'\n",
    "\n",
    "for st in strg:\n",
    "    print(st)"
   ]
  },
  {
   "cell_type": "code",
   "execution_count": 49,
   "metadata": {
    "ExecuteTime": {
     "end_time": "2020-06-27T10:13:59.193405Z",
     "start_time": "2020-06-27T10:13:59.189459Z"
    }
   },
   "outputs": [
    {
     "name": "stdout",
     "output_type": "stream",
     "text": [
      "1\n",
      "2\n",
      "3\n"
     ]
    }
   ],
   "source": [
    "### DICTIONARY\n",
    "\n",
    "dic= {'k1':1,'k2':2,'k3':3}\n",
    "\n",
    "for key in dic:\n",
    "    print(dic[key])"
   ]
  },
  {
   "cell_type": "code",
   "execution_count": 62,
   "metadata": {
    "ExecuteTime": {
     "end_time": "2020-06-27T10:30:44.996290Z",
     "start_time": "2020-06-27T10:30:44.981311Z"
    }
   },
   "outputs": [
    {
     "name": "stdout",
     "output_type": "stream",
     "text": [
      "6 sum of 1 tuple\n",
      "15 sum of 2 tuple\n",
      "24 sum of 3 tuple\n"
     ]
    }
   ],
   "source": [
    "### TUPLE UNPACKING\n",
    "\n",
    "lstup =[(1,2,3),(4,5,6),(7,8,9)]\n",
    "count=1\n",
    "a=0\n",
    "for tup in lstup:\n",
    "    for t in tup:\n",
    "        a=a+t\n",
    "    print('%d sum of %d tuple'%(a,count))\n",
    "    count=count+1\n",
    "    a=0\n"
   ]
  },
  {
   "cell_type": "markdown",
   "metadata": {},
   "source": [
    "   ## While Loop"
   ]
  },
  {
   "cell_type": "code",
   "execution_count": 63,
   "metadata": {
    "ExecuteTime": {
     "end_time": "2020-06-27T10:44:39.637743Z",
     "start_time": "2020-06-27T10:44:39.625740Z"
    }
   },
   "outputs": [],
   "source": [
    "file=open('E://file checking python')"
   ]
  },
  {
   "cell_type": "code",
   "execution_count": 102,
   "metadata": {
    "ExecuteTime": {
     "end_time": "2020-06-27T11:07:49.873431Z",
     "start_time": "2020-06-27T11:07:49.853480Z"
    }
   },
   "outputs": [],
   "source": [
    "file.seek(0)\n",
    "lst=file.readlines()"
   ]
  },
  {
   "cell_type": "code",
   "execution_count": 103,
   "metadata": {
    "ExecuteTime": {
     "end_time": "2020-06-27T11:07:50.215366Z",
     "start_time": "2020-06-27T11:07:50.209383Z"
    }
   },
   "outputs": [],
   "source": [
    "a=0"
   ]
  },
  {
   "cell_type": "code",
   "execution_count": 104,
   "metadata": {
    "ExecuteTime": {
     "end_time": "2020-06-27T11:07:50.511828Z",
     "start_time": "2020-06-27T11:07:50.504849Z"
    }
   },
   "outputs": [
    {
     "name": "stdout",
     "output_type": "stream",
     "text": [
      "This is the new text\n",
      "\n",
      "this is the second line\n",
      "\n",
      "this is the third lineThis is the new text\n",
      "\n",
      "this is the second line\n",
      "\n",
      "this is the third line\n",
      "printing is done!\n"
     ]
    }
   ],
   "source": [
    "while a<len(lst):\n",
    "    print(lst[a])\n",
    "    a+=1\n",
    "else:\n",
    "    print('printing is done!')"
   ]
  },
  {
   "cell_type": "code",
   "execution_count": 105,
   "metadata": {
    "ExecuteTime": {
     "end_time": "2020-06-27T11:09:26.667389Z",
     "start_time": "2020-06-27T11:09:26.657395Z"
    }
   },
   "outputs": [
    {
     "name": "stdout",
     "output_type": "stream",
     "text": [
      "x is currently:  0\n",
      " x is still less than 10, adding 1 to x\n",
      "continuing...\n",
      "x is currently:  1\n",
      " x is still less than 10, adding 1 to x\n",
      "continuing...\n",
      "x is currently:  2\n",
      " x is still less than 10, adding 1 to x\n",
      "Breaking because x==3\n"
     ]
    }
   ],
   "source": [
    "# Break and continue\n",
    "x = 0\n",
    "\n",
    "while x < 10:\n",
    "    print('x is currently: ',x)\n",
    "    print(' x is still less than 10, adding 1 to x')\n",
    "    x+=1\n",
    "    if x==3:\n",
    "        print('Breaking because x==3')\n",
    "        break\n",
    "    else:\n",
    "        print('continuing...')\n",
    "        continue\n"
   ]
  },
  {
   "cell_type": "markdown",
   "metadata": {},
   "source": [
    "## Use full operators"
   ]
  },
  {
   "cell_type": "code",
   "execution_count": 1,
   "metadata": {
    "ExecuteTime": {
     "end_time": "2020-06-27T19:20:04.067809Z",
     "start_time": "2020-06-27T19:20:04.061827Z"
    }
   },
   "outputs": [],
   "source": [
    "### RANGE"
   ]
  },
  {
   "cell_type": "code",
   "execution_count": 4,
   "metadata": {
    "ExecuteTime": {
     "end_time": "2020-06-27T19:20:38.503888Z",
     "start_time": "2020-06-27T19:20:38.488909Z"
    }
   },
   "outputs": [
    {
     "name": "stdout",
     "output_type": "stream",
     "text": [
      "[0, 1, 2, 3, 4, 5, 6, 7, 8, 9]\n"
     ]
    }
   ],
   "source": [
    "print(list(range(10)))"
   ]
  },
  {
   "cell_type": "code",
   "execution_count": 5,
   "metadata": {
    "ExecuteTime": {
     "end_time": "2020-06-27T19:21:09.050415Z",
     "start_time": "2020-06-27T19:21:09.034730Z"
    }
   },
   "outputs": [
    {
     "name": "stdout",
     "output_type": "stream",
     "text": [
      "[0, 2, 4, 6, 8, 10]\n"
     ]
    }
   ],
   "source": [
    "print(list(range(0,11,2)))"
   ]
  },
  {
   "cell_type": "code",
   "execution_count": 7,
   "metadata": {
    "ExecuteTime": {
     "end_time": "2020-06-27T19:22:01.376571Z",
     "start_time": "2020-06-27T19:22:01.362638Z"
    }
   },
   "outputs": [],
   "source": [
    "### ENUMERATE\n",
    "# enumerate returns the value with its index"
   ]
  },
  {
   "cell_type": "code",
   "execution_count": 8,
   "metadata": {
    "ExecuteTime": {
     "end_time": "2020-06-27T19:22:29.045134Z",
     "start_time": "2020-06-27T19:22:29.038171Z"
    }
   },
   "outputs": [],
   "source": [
    "lst=list(range(0,100,5))"
   ]
  },
  {
   "cell_type": "code",
   "execution_count": 11,
   "metadata": {
    "ExecuteTime": {
     "end_time": "2020-06-27T19:24:42.627249Z",
     "start_time": "2020-06-27T19:24:42.609306Z"
    }
   },
   "outputs": [
    {
     "name": "stdout",
     "output_type": "stream",
     "text": [
      "0 present in the index 0 \n",
      "5 present in the index 1 \n",
      "10 present in the index 2 \n",
      "15 present in the index 3 \n",
      "20 present in the index 4 \n",
      "25 present in the index 5 \n",
      "30 present in the index 6 \n",
      "35 present in the index 7 \n",
      "40 present in the index 8 \n",
      "45 present in the index 9 \n",
      "50 present in the index 10 \n",
      "55 present in the index 11 \n",
      "60 present in the index 12 \n",
      "65 present in the index 13 \n",
      "70 present in the index 14 \n",
      "75 present in the index 15 \n",
      "80 present in the index 16 \n",
      "85 present in the index 17 \n",
      "90 present in the index 18 \n",
      "95 present in the index 19 \n"
     ]
    }
   ],
   "source": [
    "for item in enumerate(lst):\n",
    "    print(f'{item[1]} present in the index {item[0]} ')"
   ]
  },
  {
   "cell_type": "code",
   "execution_count": 12,
   "metadata": {
    "ExecuteTime": {
     "end_time": "2020-06-27T19:26:07.904026Z",
     "start_time": "2020-06-27T19:26:07.899046Z"
    }
   },
   "outputs": [],
   "source": [
    "### ZIP\n",
    "# exact opposite of the enumeraate"
   ]
  },
  {
   "cell_type": "code",
   "execution_count": 55,
   "metadata": {
    "ExecuteTime": {
     "end_time": "2020-06-27T20:17:50.778930Z",
     "start_time": "2020-06-27T20:17:50.767920Z"
    }
   },
   "outputs": [],
   "source": [
    "lst1=list(range(1,27))\n",
    "lst2=list('a b c d e f g h i j k l m n o p q r s t u v w x y z'.split())"
   ]
  },
  {
   "cell_type": "code",
   "execution_count": 56,
   "metadata": {
    "ExecuteTime": {
     "end_time": "2020-06-27T20:17:51.313293Z",
     "start_time": "2020-06-27T20:17:51.297336Z"
    }
   },
   "outputs": [],
   "source": [
    "alphabets=dict(zip(lst1,lst2))"
   ]
  },
  {
   "cell_type": "code",
   "execution_count": 57,
   "metadata": {
    "ExecuteTime": {
     "end_time": "2020-06-27T20:17:52.038570Z",
     "start_time": "2020-06-27T20:17:51.719764Z"
    }
   },
   "outputs": [
    {
     "data": {
      "text/plain": [
       "dict_values(['a', 'b', 'c', 'd', 'e', 'f', 'g', 'h', 'i', 'j', 'k', 'l', 'm', 'n', 'o', 'p', 'q', 'r', 's', 't', 'u', 'v', 'w', 'x', 'y', 'z'])"
      ]
     },
     "execution_count": 57,
     "metadata": {},
     "output_type": "execute_result"
    }
   ],
   "source": [
    "alphabets.values()"
   ]
  },
  {
   "cell_type": "code",
   "execution_count": 58,
   "metadata": {
    "ExecuteTime": {
     "end_time": "2020-06-27T20:17:52.160322Z",
     "start_time": "2020-06-27T20:17:52.097427Z"
    }
   },
   "outputs": [],
   "source": [
    "### IN and NOT IN"
   ]
  },
  {
   "cell_type": "code",
   "execution_count": 59,
   "metadata": {
    "ExecuteTime": {
     "end_time": "2020-06-27T20:17:52.426593Z",
     "start_time": "2020-06-27T20:17:52.419588Z"
    }
   },
   "outputs": [
    {
     "data": {
      "text/plain": [
       "True"
      ]
     },
     "execution_count": 59,
     "metadata": {},
     "output_type": "execute_result"
    }
   ],
   "source": [
    " 'a' in lst2"
   ]
  },
  {
   "cell_type": "code",
   "execution_count": 60,
   "metadata": {
    "ExecuteTime": {
     "end_time": "2020-06-27T20:17:52.723838Z",
     "start_time": "2020-06-27T20:17:52.716792Z"
    }
   },
   "outputs": [
    {
     "data": {
      "text/plain": [
       "True"
      ]
     },
     "execution_count": 60,
     "metadata": {},
     "output_type": "execute_result"
    }
   ],
   "source": [
    "27 not in lst1"
   ]
  },
  {
   "cell_type": "code",
   "execution_count": 61,
   "metadata": {
    "ExecuteTime": {
     "end_time": "2020-06-27T20:17:52.958313Z",
     "start_time": "2020-06-27T20:17:52.944354Z"
    }
   },
   "outputs": [],
   "source": [
    "### MIN and MAX"
   ]
  },
  {
   "cell_type": "code",
   "execution_count": 62,
   "metadata": {
    "ExecuteTime": {
     "end_time": "2020-06-27T20:17:53.275157Z",
     "start_time": "2020-06-27T20:17:53.257718Z"
    }
   },
   "outputs": [
    {
     "data": {
      "text/plain": [
       "'a'"
      ]
     },
     "execution_count": 62,
     "metadata": {},
     "output_type": "execute_result"
    }
   ],
   "source": [
    "min(lst2)"
   ]
  },
  {
   "cell_type": "code",
   "execution_count": 63,
   "metadata": {
    "ExecuteTime": {
     "end_time": "2020-06-27T20:17:53.606293Z",
     "start_time": "2020-06-27T20:17:53.593330Z"
    }
   },
   "outputs": [
    {
     "data": {
      "text/plain": [
       "26"
      ]
     },
     "execution_count": 63,
     "metadata": {},
     "output_type": "execute_result"
    }
   ],
   "source": [
    "max(lst1)"
   ]
  },
  {
   "cell_type": "code",
   "execution_count": 64,
   "metadata": {
    "ExecuteTime": {
     "end_time": "2020-06-27T20:17:53.933461Z",
     "start_time": "2020-06-27T20:17:53.916426Z"
    }
   },
   "outputs": [],
   "source": [
    "### RANDOM LIBRARY"
   ]
  },
  {
   "cell_type": "code",
   "execution_count": 65,
   "metadata": {
    "ExecuteTime": {
     "end_time": "2020-06-27T20:17:54.245591Z",
     "start_time": "2020-06-27T20:17:54.228767Z"
    }
   },
   "outputs": [],
   "source": [
    "import random"
   ]
  },
  {
   "cell_type": "code",
   "execution_count": 66,
   "metadata": {
    "ExecuteTime": {
     "end_time": "2020-06-27T20:17:54.572060Z",
     "start_time": "2020-06-27T20:17:54.567075Z"
    }
   },
   "outputs": [],
   "source": [
    "random.shuffle(lst1)"
   ]
  },
  {
   "cell_type": "code",
   "execution_count": 67,
   "metadata": {
    "ExecuteTime": {
     "end_time": "2020-06-27T20:17:54.867926Z",
     "start_time": "2020-06-27T20:17:54.849283Z"
    }
   },
   "outputs": [
    {
     "data": {
      "text/plain": [
       "25"
      ]
     },
     "execution_count": 67,
     "metadata": {},
     "output_type": "execute_result"
    }
   ],
   "source": [
    "random.choice(lst1)"
   ]
  },
  {
   "cell_type": "code",
   "execution_count": 68,
   "metadata": {
    "ExecuteTime": {
     "end_time": "2020-06-27T20:17:55.165591Z",
     "start_time": "2020-06-27T20:17:55.147277Z"
    }
   },
   "outputs": [
    {
     "data": {
      "text/plain": [
       "['u', 'l']"
      ]
     },
     "execution_count": 68,
     "metadata": {},
     "output_type": "execute_result"
    }
   ],
   "source": [
    "random.choices(lst2,weights=lst1,k=2)"
   ]
  },
  {
   "cell_type": "code",
   "execution_count": 70,
   "metadata": {
    "ExecuteTime": {
     "end_time": "2020-06-27T20:18:33.059303Z",
     "start_time": "2020-06-27T20:18:33.051281Z"
    }
   },
   "outputs": [
    {
     "data": {
      "text/plain": [
       "69"
      ]
     },
     "execution_count": 70,
     "metadata": {},
     "output_type": "execute_result"
    }
   ],
   "source": [
    "random.randint(0,100)"
   ]
  },
  {
   "cell_type": "code",
   "execution_count": 71,
   "metadata": {
    "ExecuteTime": {
     "end_time": "2020-06-27T20:18:50.632105Z",
     "start_time": "2020-06-27T20:18:50.615122Z"
    }
   },
   "outputs": [],
   "source": [
    "### INPUT"
   ]
  },
  {
   "cell_type": "code",
   "execution_count": 72,
   "metadata": {
    "ExecuteTime": {
     "end_time": "2020-06-27T20:20:28.641154Z",
     "start_time": "2020-06-27T20:20:15.418742Z"
    }
   },
   "outputs": [
    {
     "name": "stdout",
     "output_type": "stream",
     "text": [
      "whats your name?Nandhagopal Balasubramaniam\n"
     ]
    }
   ],
   "source": [
    "myname=input('whats your name?')"
   ]
  },
  {
   "cell_type": "code",
   "execution_count": 73,
   "metadata": {
    "ExecuteTime": {
     "end_time": "2020-06-27T20:20:35.544162Z",
     "start_time": "2020-06-27T20:20:35.530176Z"
    }
   },
   "outputs": [
    {
     "data": {
      "text/plain": [
       "'Nandhagopal Balasubramaniam'"
      ]
     },
     "execution_count": 73,
     "metadata": {},
     "output_type": "execute_result"
    }
   ],
   "source": [
    "myname"
   ]
  },
  {
   "cell_type": "code",
   "execution_count": 75,
   "metadata": {
    "ExecuteTime": {
     "end_time": "2020-06-27T20:21:56.615340Z",
     "start_time": "2020-06-27T20:21:56.610354Z"
    }
   },
   "outputs": [],
   "source": [
    "# INPUT function takes all the values from user as STRING. so we need to convert for as our convience"
   ]
  },
  {
   "cell_type": "code",
   "execution_count": 76,
   "metadata": {
    "ExecuteTime": {
     "end_time": "2020-06-27T20:22:30.067898Z",
     "start_time": "2020-06-27T20:22:27.514468Z"
    }
   },
   "outputs": [
    {
     "name": "stdout",
     "output_type": "stream",
     "text": [
      "whats your age?22\n"
     ]
    }
   ],
   "source": [
    "myage=int(input('whats your age?'))"
   ]
  },
  {
   "cell_type": "code",
   "execution_count": 77,
   "metadata": {
    "ExecuteTime": {
     "end_time": "2020-06-27T20:23:04.365791Z",
     "start_time": "2020-06-27T20:23:04.356797Z"
    }
   },
   "outputs": [
    {
     "name": "stdout",
     "output_type": "stream",
     "text": [
      "my name is Nandhagopal Balasubramaniam and my age 22\n"
     ]
    }
   ],
   "source": [
    "print(f'my name is {myname} and my age {myage}')"
   ]
  },
  {
   "cell_type": "markdown",
   "metadata": {},
   "source": [
    "##  **Comprehensions**"
   ]
  },
  {
   "cell_type": "code",
   "execution_count": 6,
   "metadata": {
    "ExecuteTime": {
     "end_time": "2020-06-28T11:02:01.437023Z",
     "start_time": "2020-06-28T11:02:01.421518Z"
    }
   },
   "outputs": [],
   "source": [
    "### NORMAL Comprehension"
   ]
  },
  {
   "cell_type": "code",
   "execution_count": 17,
   "metadata": {
    "ExecuteTime": {
     "end_time": "2020-06-21T19:58:21.148383Z",
     "start_time": "2020-06-21T19:58:21.079592Z"
    }
   },
   "outputs": [],
   "source": [
    "a+=2\n",
    "\n",
    "#### which is equals to a=a+2"
   ]
  },
  {
   "cell_type": "code",
   "execution_count": 18,
   "metadata": {
    "ExecuteTime": {
     "end_time": "2020-06-21T19:58:21.247259Z",
     "start_time": "2020-06-21T19:58:21.151356Z"
    }
   },
   "outputs": [],
   "source": [
    "a-=3"
   ]
  },
  {
   "cell_type": "code",
   "execution_count": 19,
   "metadata": {
    "ExecuteTime": {
     "end_time": "2020-06-21T19:58:21.348735Z",
     "start_time": "2020-06-21T19:58:21.253239Z"
    }
   },
   "outputs": [],
   "source": [
    "a*=20"
   ]
  },
  {
   "cell_type": "code",
   "execution_count": 20,
   "metadata": {
    "ExecuteTime": {
     "end_time": "2020-06-21T19:58:21.454419Z",
     "start_time": "2020-06-21T19:58:21.349692Z"
    }
   },
   "outputs": [],
   "source": [
    "a/=10"
   ]
  },
  {
   "cell_type": "code",
   "execution_count": 21,
   "metadata": {
    "ExecuteTime": {
     "end_time": "2020-06-21T19:58:21.593014Z",
     "start_time": "2020-06-21T19:58:21.456414Z"
    }
   },
   "outputs": [],
   "source": [
    "a//=2"
   ]
  },
  {
   "cell_type": "code",
   "execution_count": 22,
   "metadata": {
    "ExecuteTime": {
     "end_time": "2020-06-21T19:58:21.677319Z",
     "start_time": "2020-06-21T19:58:21.595009Z"
    }
   },
   "outputs": [],
   "source": [
    "a%=3"
   ]
  },
  {
   "cell_type": "code",
   "execution_count": 31,
   "metadata": {},
   "outputs": [],
   "source": [
    "# List comprehensions"
   ]
  },
  {
   "cell_type": "code",
   "execution_count": 5,
   "metadata": {
    "ExecuteTime": {
     "end_time": "2020-06-28T11:01:45.492704Z",
     "start_time": "2020-06-28T11:01:45.485725Z"
    }
   },
   "outputs": [
    {
     "data": {
      "text/plain": [
       "['a',\n",
       " 'b',\n",
       " 'c',\n",
       " 'd',\n",
       " 'e',\n",
       " 'f',\n",
       " 'g',\n",
       " 'h',\n",
       " 'i',\n",
       " 'j',\n",
       " 'k',\n",
       " 'l',\n",
       " 'm',\n",
       " 'n',\n",
       " 'o',\n",
       " 'p',\n",
       " 'q',\n",
       " 'r',\n",
       " 's',\n",
       " 't',\n",
       " 'u',\n",
       " 'v',\n",
       " 'w',\n",
       " 'x',\n",
       " 'y',\n",
       " 'z']"
      ]
     },
     "execution_count": 5,
     "metadata": {},
     "output_type": "execute_result"
    }
   ],
   "source": [
    "strg='abcdefghijklmnopqrstuvwxyz'\n",
    "alpha=[x for x in strg]\n",
    "alpha"
   ]
  },
  {
   "cell_type": "code",
   "execution_count": 7,
   "metadata": {
    "ExecuteTime": {
     "end_time": "2020-06-28T11:02:22.715080Z",
     "start_time": "2020-06-28T11:02:22.710061Z"
    }
   },
   "outputs": [],
   "source": [
    "### MATHEMATICAL"
   ]
  },
  {
   "cell_type": "code",
   "execution_count": 10,
   "metadata": {
    "ExecuteTime": {
     "end_time": "2020-06-28T11:03:10.710953Z",
     "start_time": "2020-06-28T11:03:10.690994Z"
    }
   },
   "outputs": [
    {
     "data": {
      "text/plain": [
       "[0.0,\n",
       " 1.0,\n",
       " 1.4142135623730951,\n",
       " 1.7320508075688772,\n",
       " 2.0,\n",
       " 2.23606797749979,\n",
       " 2.449489742783178,\n",
       " 2.6457513110645907,\n",
       " 2.8284271247461903,\n",
       " 3.0,\n",
       " 3.1622776601683795]"
      ]
     },
     "execution_count": 10,
     "metadata": {},
     "output_type": "execute_result"
    }
   ],
   "source": [
    "e=[x**0.5 for x in range(0,11)]\n",
    "e"
   ]
  },
  {
   "cell_type": "code",
   "execution_count": 11,
   "metadata": {
    "ExecuteTime": {
     "end_time": "2020-06-28T11:03:37.871822Z",
     "start_time": "2020-06-28T11:03:37.864813Z"
    }
   },
   "outputs": [],
   "source": [
    "### CONDITIONAL MATHEMATICAL"
   ]
  },
  {
   "cell_type": "code",
   "execution_count": 14,
   "metadata": {
    "ExecuteTime": {
     "end_time": "2020-06-28T11:05:12.205735Z",
     "start_time": "2020-06-28T11:05:12.186788Z"
    }
   },
   "outputs": [
    {
     "data": {
      "text/plain": [
       "[0, 4, 16, 36, 64, 100]"
      ]
     },
     "execution_count": 14,
     "metadata": {},
     "output_type": "execute_result"
    }
   ],
   "source": [
    "even=[x**2 for x in range(0,11) if x%2==0]\n",
    "even"
   ]
  },
  {
   "cell_type": "code",
   "execution_count": 16,
   "metadata": {
    "ExecuteTime": {
     "end_time": "2020-06-28T11:05:39.505245Z",
     "start_time": "2020-06-28T11:05:39.492285Z"
    }
   },
   "outputs": [],
   "source": [
    "### IF ELSE OPERATIONAL "
   ]
  },
  {
   "cell_type": "code",
   "execution_count": 19,
   "metadata": {
    "ExecuteTime": {
     "end_time": "2020-06-28T11:12:14.021159Z",
     "start_time": "2020-06-28T11:12:14.006941Z"
    }
   },
   "outputs": [
    {
     "data": {
      "text/plain": [
       "[0, 2.25, 4, 12.25, 16, 30.25, 36, 56.25, 64, 90.25, 100]"
      ]
     },
     "execution_count": 19,
     "metadata": {},
     "output_type": "execute_result"
    }
   ],
   "source": [
    "lst3=[x**2 if x%2==0 else (x+0.5)**2 for x in range(0,11)]\n",
    "lst3"
   ]
  },
  {
   "cell_type": "code",
   "execution_count": 20,
   "metadata": {
    "ExecuteTime": {
     "end_time": "2020-06-28T11:13:47.917548Z",
     "start_time": "2020-06-28T11:13:47.913520Z"
    }
   },
   "outputs": [],
   "source": [
    "### MULTIPLE FOR LOOPS"
   ]
  },
  {
   "cell_type": "code",
   "execution_count": 1,
   "metadata": {
    "ExecuteTime": {
     "end_time": "2020-07-05T08:15:44.661106Z",
     "start_time": "2020-07-05T08:15:44.638145Z"
    }
   },
   "outputs": [
    {
     "data": {
      "text/plain": [
       "[99.5,\n",
       " 99.0,\n",
       " 98.5,\n",
       " 199.5,\n",
       " 199.0,\n",
       " 198.5,\n",
       " 299.5,\n",
       " 299.0,\n",
       " 298.5,\n",
       " 399.5,\n",
       " 399.0,\n",
       " 398.5]"
      ]
     },
     "execution_count": 1,
     "metadata": {},
     "output_type": "execute_result"
    }
   ],
   "source": [
    "lst4=[x-0.5*y for x in [100,200,300,400] for y in [1,2,3]]\n",
    "lst4"
   ]
  },
  {
   "cell_type": "markdown",
   "metadata": {},
   "source": [
    "# Methods and Functions"
   ]
  },
  {
   "cell_type": "code",
   "execution_count": 3,
   "metadata": {
    "ExecuteTime": {
     "end_time": "2020-07-05T08:18:19.980101Z",
     "start_time": "2020-07-05T08:18:19.967115Z"
    }
   },
   "outputs": [],
   "source": [
    "### METHODS\n",
    "# set dictionary list tuple have predefined(build in) methods and we can see that by clicking shift+TAB"
   ]
  },
  {
   "cell_type": "code",
   "execution_count": 4,
   "metadata": {
    "ExecuteTime": {
     "end_time": "2020-07-05T08:22:55.257798Z",
     "start_time": "2020-07-05T08:22:55.244896Z"
    }
   },
   "outputs": [
    {
     "name": "stdout",
     "output_type": "stream",
     "text": [
      "Help on built-in function append:\n",
      "\n",
      "append(...) method of builtins.list instance\n",
      "    L.append(object) -> None -- append object to end\n",
      "\n"
     ]
    }
   ],
   "source": [
    "help (lst4.append)"
   ]
  },
  {
   "cell_type": "code",
   "execution_count": 5,
   "metadata": {
    "ExecuteTime": {
     "end_time": "2020-07-05T08:25:52.368439Z",
     "start_time": "2020-07-05T08:25:52.352687Z"
    }
   },
   "outputs": [],
   "source": [
    "### FUNCTIONS"
   ]
  },
  {
   "cell_type": "code",
   "execution_count": 6,
   "metadata": {
    "ExecuteTime": {
     "end_time": "2020-07-05T08:26:07.714228Z",
     "start_time": "2020-07-05T08:26:07.696250Z"
    }
   },
   "outputs": [],
   "source": [
    "# Funtion definition"
   ]
  },
  {
   "cell_type": "code",
   "execution_count": 16,
   "metadata": {
    "ExecuteTime": {
     "end_time": "2020-07-05T08:30:56.613609Z",
     "start_time": "2020-07-05T08:30:56.603644Z"
    }
   },
   "outputs": [],
   "source": [
    "def name_of_the_function(st='there is no variable passed'):\n",
    "    '''\n",
    "    this is just function for printing passing string\n",
    "    st--> this variable could be String and list ,may be tuple \n",
    "    '''\n",
    "    print(st)\n"
   ]
  },
  {
   "cell_type": "code",
   "execution_count": 17,
   "metadata": {
    "ExecuteTime": {
     "end_time": "2020-07-05T08:30:57.370653Z",
     "start_time": "2020-07-05T08:30:57.360717Z"
    }
   },
   "outputs": [
    {
     "name": "stdout",
     "output_type": "stream",
     "text": [
      "my name is Nandhagopal \n"
     ]
    }
   ],
   "source": [
    "name_of_the_function('my name is Nandhagopal ')"
   ]
  },
  {
   "cell_type": "code",
   "execution_count": 18,
   "metadata": {
    "ExecuteTime": {
     "end_time": "2020-07-05T08:30:58.157720Z",
     "start_time": "2020-07-05T08:30:58.148683Z"
    }
   },
   "outputs": [
    {
     "name": "stdout",
     "output_type": "stream",
     "text": [
      "there is no variable passed\n"
     ]
    }
   ],
   "source": [
    "name_of_the_function()"
   ]
  },
  {
   "cell_type": "code",
   "execution_count": 19,
   "metadata": {
    "ExecuteTime": {
     "end_time": "2020-07-05T08:45:55.630886Z",
     "start_time": "2020-07-05T08:45:55.618856Z"
    }
   },
   "outputs": [],
   "source": [
    "# Function with return statement"
   ]
  },
  {
   "cell_type": "code",
   "execution_count": 20,
   "metadata": {
    "ExecuteTime": {
     "end_time": "2020-07-05T08:47:45.729617Z",
     "start_time": "2020-07-05T08:47:45.712645Z"
    }
   },
   "outputs": [],
   "source": [
    "def return_funtion(n1=0,n2=0):\n",
    "\n",
    "    '''\n",
    "    this returns addtion of the given numbers\n",
    "    '''\n",
    "    return (n1+n2)"
   ]
  },
  {
   "cell_type": "code",
   "execution_count": 21,
   "metadata": {
    "ExecuteTime": {
     "end_time": "2020-07-05T08:47:55.283355Z",
     "start_time": "2020-07-05T08:47:55.267409Z"
    }
   },
   "outputs": [
    {
     "data": {
      "text/plain": [
       "3"
      ]
     },
     "execution_count": 21,
     "metadata": {},
     "output_type": "execute_result"
    }
   ],
   "source": [
    "return_funtion(1,2)"
   ]
  },
  {
   "cell_type": "code",
   "execution_count": 23,
   "metadata": {
    "ExecuteTime": {
     "end_time": "2020-07-05T08:56:02.127470Z",
     "start_time": "2020-07-05T08:56:02.112556Z"
    }
   },
   "outputs": [],
   "source": [
    "### PIG LATIN TRANSLATOR"
   ]
  },
  {
   "cell_type": "code",
   "execution_count": 44,
   "metadata": {
    "ExecuteTime": {
     "end_time": "2020-07-05T09:03:35.584140Z",
     "start_time": "2020-07-05T09:03:35.570158Z"
    }
   },
   "outputs": [],
   "source": [
    "def pig_latin(s):\n",
    "    if s[0].lower() in 'aeiou':\n",
    "        return s+'ay'\n",
    "    else:\n",
    "        return s[1:]+s[0]+'ay'"
   ]
  },
  {
   "cell_type": "code",
   "execution_count": 45,
   "metadata": {
    "ExecuteTime": {
     "end_time": "2020-07-05T09:03:36.426067Z",
     "start_time": "2020-07-05T09:03:36.420085Z"
    }
   },
   "outputs": [
    {
     "data": {
      "text/plain": [
       "'ondhunay'"
      ]
     },
     "execution_count": 45,
     "metadata": {},
     "output_type": "execute_result"
    }
   ],
   "source": [
    "pig_latin('nondhu')"
   ]
  },
  {
   "cell_type": "code",
   "execution_count": 46,
   "metadata": {
    "ExecuteTime": {
     "end_time": "2020-07-05T09:20:31.657781Z",
     "start_time": "2020-07-05T09:20:31.641825Z"
    }
   },
   "outputs": [],
   "source": [
    "### PRIME NUMBERS"
   ]
  },
  {
   "cell_type": "code",
   "execution_count": 92,
   "metadata": {
    "ExecuteTime": {
     "end_time": "2020-07-05T16:13:05.282590Z",
     "start_time": "2020-07-05T16:13:05.270663Z"
    }
   },
   "outputs": [],
   "source": [
    "# METHOD 1\n",
    "\n",
    "def is_prime_1(s):\n",
    "    for i in range(2,s):\n",
    "        if s% i==0:\n",
    "            return(f'{s} is not prime')\n",
    "        else:\n",
    "            return(f'{s} is prime')"
   ]
  },
  {
   "cell_type": "code",
   "execution_count": 93,
   "metadata": {
    "ExecuteTime": {
     "end_time": "2020-07-05T16:13:05.834213Z",
     "start_time": "2020-07-05T16:13:05.823206Z"
    }
   },
   "outputs": [
    {
     "data": {
      "text/plain": [
       "'180 is not prime'"
      ]
     },
     "execution_count": 93,
     "metadata": {},
     "output_type": "execute_result"
    }
   ],
   "source": [
    "is_prime_1(180)"
   ]
  },
  {
   "cell_type": "code",
   "execution_count": 76,
   "metadata": {
    "ExecuteTime": {
     "end_time": "2020-07-05T09:35:23.695104Z",
     "start_time": "2020-07-05T09:35:23.682124Z"
    }
   },
   "outputs": [],
   "source": [
    "# METHOD 2\n",
    "\n",
    "def is_prime_2(s):\n",
    "    if s%2==0 or s<2:\n",
    "        return (f'{s} is not prime')\n",
    "    for i in range(3, int(s**0.5)+1, 2):\n",
    "        if s%i==0:\n",
    "            return (f'{s} is not prime')\n",
    "            break\n",
    "    else:\n",
    "        return (f'{s} is prime')\n",
    "        "
   ]
  },
  {
   "cell_type": "code",
   "execution_count": 83,
   "metadata": {
    "ExecuteTime": {
     "end_time": "2020-07-05T09:36:09.982150Z",
     "start_time": "2020-07-05T09:36:09.976127Z"
    }
   },
   "outputs": [
    {
     "name": "stdout",
     "output_type": "stream",
     "text": [
      "9 is not prime\n"
     ]
    }
   ],
   "source": [
    "print(is_prime_2())"
   ]
  },
  {
   "cell_type": "markdown",
   "metadata": {},
   "source": [
    "## args and kwargs "
   ]
  },
  {
   "cell_type": "code",
   "execution_count": 8,
   "metadata": {
    "ExecuteTime": {
     "end_time": "2020-07-06T18:19:01.884658Z",
     "start_time": "2020-07-06T18:19:01.874690Z"
    }
   },
   "outputs": [],
   "source": [
    "### *args"
   ]
  },
  {
   "cell_type": "code",
   "execution_count": 12,
   "metadata": {
    "ExecuteTime": {
     "end_time": "2020-07-06T18:20:14.027710Z",
     "start_time": "2020-07-06T18:20:14.012135Z"
    }
   },
   "outputs": [],
   "source": [
    "def unknown(*args):\n",
    "    print(args)\n",
    "    print(args[0])"
   ]
  },
  {
   "cell_type": "code",
   "execution_count": 13,
   "metadata": {
    "ExecuteTime": {
     "end_time": "2020-07-06T18:20:14.731787Z",
     "start_time": "2020-07-06T18:20:14.722817Z"
    }
   },
   "outputs": [
    {
     "name": "stdout",
     "output_type": "stream",
     "text": [
      "(1, 2, 3, 4, 5)\n",
      "1\n"
     ]
    }
   ],
   "source": [
    "unknown(1,2,3,4,5)"
   ]
  },
  {
   "cell_type": "code",
   "execution_count": 14,
   "metadata": {
    "ExecuteTime": {
     "end_time": "2020-07-06T18:20:15.635693Z",
     "start_time": "2020-07-06T18:20:15.629669Z"
    }
   },
   "outputs": [
    {
     "name": "stdout",
     "output_type": "stream",
     "text": [
      "('abc', 1, 23)\n",
      "abc\n"
     ]
    }
   ],
   "source": [
    "unknown('abc',1,23)"
   ]
  },
  {
   "cell_type": "code",
   "execution_count": 15,
   "metadata": {
    "ExecuteTime": {
     "end_time": "2020-07-06T18:20:54.972744Z",
     "start_time": "2020-07-06T18:20:54.963749Z"
    }
   },
   "outputs": [],
   "source": [
    "### **kwargs"
   ]
  },
  {
   "cell_type": "code",
   "execution_count": 21,
   "metadata": {
    "ExecuteTime": {
     "end_time": "2020-07-06T18:22:28.494972Z",
     "start_time": "2020-07-06T18:22:28.481008Z"
    }
   },
   "outputs": [],
   "source": [
    "def unknown(**kwargs):\n",
    "    #print(kwargs)\n",
    "    if 'name' in kwargs:\n",
    "        print(kwargs['name'])"
   ]
  },
  {
   "cell_type": "code",
   "execution_count": 22,
   "metadata": {
    "ExecuteTime": {
     "end_time": "2020-07-06T18:22:29.115232Z",
     "start_time": "2020-07-06T18:22:29.098278Z"
    }
   },
   "outputs": [
    {
     "name": "stdout",
     "output_type": "stream",
     "text": [
      "nandhagopal\n"
     ]
    }
   ],
   "source": [
    "unknown(name='nandhagopal')"
   ]
  },
  {
   "cell_type": "code",
   "execution_count": 23,
   "metadata": {
    "ExecuteTime": {
     "end_time": "2020-07-06T18:23:31.690218Z",
     "start_time": "2020-07-06T18:23:31.672251Z"
    }
   },
   "outputs": [],
   "source": [
    "#we can use *args and **kwargs at same time but we should follow one by other "
   ]
  },
  {
   "cell_type": "code",
   "execution_count": 37,
   "metadata": {
    "ExecuteTime": {
     "end_time": "2020-07-06T18:27:31.241907Z",
     "start_time": "2020-07-06T18:27:31.225936Z"
    }
   },
   "outputs": [],
   "source": [
    "def unknown(*args,**kwargs):\n",
    "    if 'name' in kwargs:\n",
    "        print('{} is in {}'.format(args[1],kwargs['name']))"
   ]
  },
  {
   "cell_type": "code",
   "execution_count": 38,
   "metadata": {
    "ExecuteTime": {
     "end_time": "2020-07-06T18:27:31.704175Z",
     "start_time": "2020-07-06T18:27:31.699150Z"
    }
   },
   "outputs": [
    {
     "name": "stdout",
     "output_type": "stream",
     "text": [
      "23 is in Nandhagopal\n"
     ]
    }
   ],
   "source": [
    "unknown(1,23,32,name='Nandhagopal')"
   ]
  },
  {
   "cell_type": "markdown",
   "metadata": {},
   "source": [
    "##  Lambda, Map and Filter"
   ]
  },
  {
   "cell_type": "code",
   "execution_count": 39,
   "metadata": {
    "ExecuteTime": {
     "end_time": "2020-07-06T18:28:37.943688Z",
     "start_time": "2020-07-06T18:28:37.930723Z"
    }
   },
   "outputs": [],
   "source": [
    "### MAP"
   ]
  },
  {
   "cell_type": "code",
   "execution_count": 40,
   "metadata": {
    "ExecuteTime": {
     "end_time": "2020-07-06T18:30:30.665969Z",
     "start_time": "2020-07-06T18:30:30.658965Z"
    }
   },
   "outputs": [],
   "source": [
    "lst1=[1,2,3,4,5]"
   ]
  },
  {
   "cell_type": "code",
   "execution_count": 41,
   "metadata": {
    "ExecuteTime": {
     "end_time": "2020-07-06T18:31:32.726509Z",
     "start_time": "2020-07-06T18:31:32.720503Z"
    }
   },
   "outputs": [],
   "source": [
    "def sq(a):\n",
    "    return a**2"
   ]
  },
  {
   "cell_type": "code",
   "execution_count": 42,
   "metadata": {
    "ExecuteTime": {
     "end_time": "2020-07-06T18:33:09.352058Z",
     "start_time": "2020-07-06T18:33:09.338038Z"
    }
   },
   "outputs": [
    {
     "data": {
      "text/plain": [
       "'\\nIF we want call the function for every value in list or (anyother). we can use map to done it in one step\\n'"
      ]
     },
     "execution_count": 42,
     "metadata": {},
     "output_type": "execute_result"
    }
   ],
   "source": [
    "'''\n",
    "IF we want call the function for every value in list or (anyother). we can use map to done it in one step\n",
    "'''"
   ]
  },
  {
   "cell_type": "code",
   "execution_count": 43,
   "metadata": {
    "ExecuteTime": {
     "end_time": "2020-07-06T18:33:31.498355Z",
     "start_time": "2020-07-06T18:33:31.484377Z"
    }
   },
   "outputs": [
    {
     "data": {
      "text/plain": [
       "[1, 4, 9, 16, 25]"
      ]
     },
     "execution_count": 43,
     "metadata": {},
     "output_type": "execute_result"
    }
   ],
   "source": [
    "list(map(sq,lst1))"
   ]
  },
  {
   "cell_type": "code",
   "execution_count": 44,
   "metadata": {
    "ExecuteTime": {
     "end_time": "2020-07-06T18:34:02.564252Z",
     "start_time": "2020-07-06T18:34:02.552246Z"
    }
   },
   "outputs": [
    {
     "name": "stdout",
     "output_type": "stream",
     "text": [
      "1\n",
      "4\n",
      "9\n",
      "16\n",
      "25\n"
     ]
    }
   ],
   "source": [
    "for i in map(sq,lst1):\n",
    "    print(i)"
   ]
  },
  {
   "cell_type": "code",
   "execution_count": 45,
   "metadata": {
    "ExecuteTime": {
     "end_time": "2020-07-06T18:34:21.718418Z",
     "start_time": "2020-07-06T18:34:21.709420Z"
    }
   },
   "outputs": [],
   "source": [
    "### FILTER"
   ]
  },
  {
   "cell_type": "code",
   "execution_count": 50,
   "metadata": {
    "ExecuteTime": {
     "end_time": "2020-07-06T18:37:37.686147Z",
     "start_time": "2020-07-06T18:37:37.674222Z"
    }
   },
   "outputs": [],
   "source": [
    "def even(a):\n",
    "    if a%2==0:\n",
    "        return True"
   ]
  },
  {
   "cell_type": "code",
   "execution_count": 51,
   "metadata": {
    "ExecuteTime": {
     "end_time": "2020-07-06T18:37:38.090238Z",
     "start_time": "2020-07-06T18:37:38.075220Z"
    }
   },
   "outputs": [],
   "source": [
    "lst=range(0,20,2)"
   ]
  },
  {
   "cell_type": "code",
   "execution_count": 52,
   "metadata": {
    "ExecuteTime": {
     "end_time": "2020-07-06T18:37:38.355830Z",
     "start_time": "2020-07-06T18:37:38.346795Z"
    }
   },
   "outputs": [
    {
     "data": {
      "text/plain": [
       "'\\nFILTER is like map and the only differece is, it returns the value which is get TRUE from Function \\n'"
      ]
     },
     "execution_count": 52,
     "metadata": {},
     "output_type": "execute_result"
    }
   ],
   "source": [
    "'''\n",
    "FILTER is like map and the only differece is, it returns the value which is get TRUE from Function \n",
    "'''"
   ]
  },
  {
   "cell_type": "code",
   "execution_count": 53,
   "metadata": {
    "ExecuteTime": {
     "end_time": "2020-07-06T18:37:39.032795Z",
     "start_time": "2020-07-06T18:37:39.024824Z"
    }
   },
   "outputs": [
    {
     "data": {
      "text/plain": [
       "[0, 2, 4, 6, 8, 10, 12, 14, 16, 18]"
      ]
     },
     "execution_count": 53,
     "metadata": {},
     "output_type": "execute_result"
    }
   ],
   "source": [
    "list(filter(even,lst))"
   ]
  },
  {
   "cell_type": "code",
   "execution_count": 54,
   "metadata": {
    "ExecuteTime": {
     "end_time": "2020-07-06T18:38:00.402173Z",
     "start_time": "2020-07-06T18:38:00.385201Z"
    }
   },
   "outputs": [],
   "source": [
    "### LAMBDA FUNCTION "
   ]
  },
  {
   "cell_type": "code",
   "execution_count": 57,
   "metadata": {
    "ExecuteTime": {
     "end_time": "2020-07-06T19:20:08.829742Z",
     "start_time": "2020-07-06T19:20:08.819770Z"
    }
   },
   "outputs": [
    {
     "data": {
      "text/plain": [
       "'\\nlambda b: b+1\\n'"
      ]
     },
     "execution_count": 57,
     "metadata": {},
     "output_type": "execute_result"
    }
   ],
   "source": [
    "def a(b):\n",
    "    return b+1\n",
    "\n",
    "'''\n",
    "lambda b: b+1\n",
    "'''"
   ]
  },
  {
   "cell_type": "code",
   "execution_count": 56,
   "metadata": {
    "ExecuteTime": {
     "end_time": "2020-07-06T19:19:11.666361Z",
     "start_time": "2020-07-06T19:19:11.651336Z"
    }
   },
   "outputs": [
    {
     "data": {
      "text/plain": [
       "[1, 3, 5, 7, 9, 11, 13, 15, 17, 19]"
      ]
     },
     "execution_count": 56,
     "metadata": {},
     "output_type": "execute_result"
    }
   ],
   "source": [
    "# normal function\n",
    "\n",
    "\n",
    "list(map(a,lst))"
   ]
  },
  {
   "cell_type": "code",
   "execution_count": 60,
   "metadata": {
    "ExecuteTime": {
     "end_time": "2020-07-06T19:26:39.289749Z",
     "start_time": "2020-07-06T19:26:39.279738Z"
    }
   },
   "outputs": [
    {
     "data": {
      "text/plain": [
       "[1, 3, 5, 7, 9, 11, 13, 15, 17, 19]"
      ]
     },
     "execution_count": 60,
     "metadata": {},
     "output_type": "execute_result"
    }
   ],
   "source": [
    "# LAMBDA FUNCTION - we dont need to define the function(mostly lambda function prefered when function used for single time)\n",
    "\n",
    "list (map(lambda b:b+1 ,lst))"
   ]
  },
  {
   "cell_type": "code",
   "execution_count": 62,
   "metadata": {
    "ExecuteTime": {
     "end_time": "2020-07-06T19:27:30.987277Z",
     "start_time": "2020-07-06T19:27:30.980297Z"
    }
   },
   "outputs": [],
   "source": [
    "# Lambda different usage\n",
    "\n",
    "s=lambda n:n**0.5"
   ]
  },
  {
   "cell_type": "code",
   "execution_count": 64,
   "metadata": {
    "ExecuteTime": {
     "end_time": "2020-07-06T19:28:09.332063Z",
     "start_time": "2020-07-06T19:28:09.325083Z"
    }
   },
   "outputs": [
    {
     "data": {
      "text/plain": [
       "3.0"
      ]
     },
     "execution_count": 64,
     "metadata": {},
     "output_type": "execute_result"
    }
   ],
   "source": [
    "s(9)"
   ]
  },
  {
   "cell_type": "code",
   "execution_count": 67,
   "metadata": {
    "ExecuteTime": {
     "end_time": "2020-07-06T19:30:00.592775Z",
     "start_time": "2020-07-06T19:30:00.576819Z"
    }
   },
   "outputs": [
    {
     "data": {
      "text/plain": [
       "13"
      ]
     },
     "execution_count": 67,
     "metadata": {},
     "output_type": "execute_result"
    }
   ],
   "source": [
    "# two variable lambda function\n",
    "\n",
    "a=lambda x,y:x+y\n",
    "a(10,3)"
   ]
  },
  {
   "cell_type": "markdown",
   "metadata": {},
   "source": [
    "## LEGB Rule"
   ]
  },
  {
   "cell_type": "markdown",
   "metadata": {},
   "source": [
    "This idea of scope in your code is very important to understand in order to properly assign and call variable names. \n",
    "\n",
    "In simple terms, the idea of scope can be described by 3 general rules:\n",
    "\n",
    "1. Name assignments will create or change local names by default.\n",
    "2. Name references search (at most) four scopes, these are:\n",
    "    * local\n",
    "    * enclosing functions\n",
    "    * global\n",
    "    * built-in\n",
    "3. Names declared in global and nonlocal statements map assigned names to enclosing module and function scopes.\n",
    "\n",
    "\n",
    "The statement in #2 above can be defined by the LEGB rule.\n",
    "\n",
    "**LEGB Rule:**\n",
    "\n",
    "L: Local — Names assigned in any way within a function (def or lambda), and not declared global in that function.\n",
    "\n",
    "E: Enclosing function locals — Names in the local scope of any and all enclosing functions (def or lambda), from inner to outer.\n",
    "\n",
    "G: Global (module) — Names assigned at the top-level of a module file, or declared global in a def within the file.\n",
    "\n",
    "B: Built-in (Python) — Names preassigned in the built-in names module : open, range, SyntaxError,..."
   ]
  },
  {
   "cell_type": "code",
   "execution_count": 68,
   "metadata": {
    "ExecuteTime": {
     "end_time": "2020-07-06T21:45:58.328274Z",
     "start_time": "2020-07-06T21:45:58.324283Z"
    }
   },
   "outputs": [],
   "source": [
    "### EXAMPLE FOR LEGB RULE"
   ]
  },
  {
   "cell_type": "code",
   "execution_count": 79,
   "metadata": {
    "ExecuteTime": {
     "end_time": "2020-07-06T21:52:02.887679Z",
     "start_time": "2020-07-06T21:52:02.870662Z"
    }
   },
   "outputs": [
    {
     "name": "stdout",
     "output_type": "stream",
     "text": [
      "I am enclosing variable\n",
      "i am local variable\n"
     ]
    }
   ],
   "source": [
    "x='i am global variable'\n",
    "def a():\n",
    "    x='I am enclosing variable'\n",
    "    \n",
    "    def b():\n",
    "        x='i am local variable'\n",
    "        print(x)\n",
    "    print(x)\n",
    "    b()\n",
    "a()\n",
    "     \n"
   ]
  },
  {
   "cell_type": "code",
   "execution_count": 80,
   "metadata": {
    "ExecuteTime": {
     "end_time": "2020-07-06T21:59:45.572163Z",
     "start_time": "2020-07-06T21:59:45.556215Z"
    }
   },
   "outputs": [],
   "source": [
    "### global keyword"
   ]
  },
  {
   "cell_type": "code",
   "execution_count": 83,
   "metadata": {
    "ExecuteTime": {
     "end_time": "2020-07-06T22:01:24.696361Z",
     "start_time": "2020-07-06T22:01:24.690378Z"
    }
   },
   "outputs": [
    {
     "name": "stdout",
     "output_type": "stream",
     "text": [
      "I am enclosing variable\n",
      "i am local variable\n"
     ]
    }
   ],
   "source": [
    "x='i am global variable'\n",
    "def a():\n",
    "    global x   # global keyword helps to make changes in global variable inside function\n",
    "    x='I am enclosing variable'\n",
    "    \n",
    "    def b():\n",
    "        x='i am local variable'\n",
    "        print(x)\n",
    "    print(x)\n",
    "    b()\n",
    "a()"
   ]
  },
  {
   "cell_type": "code",
   "execution_count": 84,
   "metadata": {
    "ExecuteTime": {
     "end_time": "2020-07-06T22:01:25.307287Z",
     "start_time": "2020-07-06T22:01:25.290341Z"
    }
   },
   "outputs": [
    {
     "data": {
      "text/plain": [
       "'I am enclosing variable'"
      ]
     },
     "execution_count": 84,
     "metadata": {},
     "output_type": "execute_result"
    }
   ],
   "source": [
    "x"
   ]
  },
  {
   "cell_type": "markdown",
   "metadata": {},
   "source": [
    "# Object Oriented Programming\n"
   ]
  },
  {
   "cell_type": "code",
   "execution_count": 1,
   "metadata": {
    "ExecuteTime": {
     "end_time": "2020-07-16T14:14:43.486161Z",
     "start_time": "2020-07-16T14:14:43.476190Z"
    }
   },
   "outputs": [],
   "source": [
    "class Sample():\n",
    "    dad=True\n",
    "    def __init__(self,one):\n",
    "        self.one=one\n",
    "    def core(self,two):\n",
    "        print(f'this is {two} and {self.one}')"
   ]
  },
  {
   "cell_type": "code",
   "execution_count": 2,
   "metadata": {
    "ExecuteTime": {
     "end_time": "2020-07-16T14:14:43.977184Z",
     "start_time": "2020-07-16T14:14:43.959235Z"
    }
   },
   "outputs": [],
   "source": [
    "sam=Sample('data')"
   ]
  },
  {
   "cell_type": "code",
   "execution_count": 3,
   "metadata": {
    "ExecuteTime": {
     "end_time": "2020-07-16T14:14:44.369090Z",
     "start_time": "2020-07-16T14:14:44.364103Z"
    }
   },
   "outputs": [
    {
     "name": "stdout",
     "output_type": "stream",
     "text": [
      "this is 4 and data\n"
     ]
    }
   ],
   "source": [
    "sam.core(4)"
   ]
  },
  {
   "cell_type": "code",
   "execution_count": null,
   "metadata": {},
   "outputs": [],
   "source": []
  },
  {
   "cell_type": "code",
   "execution_count": null,
   "metadata": {},
   "outputs": [],
   "source": []
  },
  {
   "cell_type": "code",
   "execution_count": null,
   "metadata": {},
   "outputs": [],
   "source": []
  }
 ],
 "metadata": {
  "kernelspec": {
   "display_name": "Python 3 (ipykernel)",
   "language": "python",
   "name": "python3"
  },
  "language_info": {
   "codemirror_mode": {
    "name": "ipython",
    "version": 3
   },
   "file_extension": ".py",
   "mimetype": "text/x-python",
   "name": "python",
   "nbconvert_exporter": "python",
   "pygments_lexer": "ipython3",
   "version": "3.13.1"
  },
  "toc": {
   "base_numbering": 1,
   "nav_menu": {},
   "number_sections": true,
   "sideBar": true,
   "skip_h1_title": false,
   "title_cell": "Table of Contents",
   "title_sidebar": "Contents",
   "toc_cell": false,
   "toc_position": {
    "height": "calc(100% - 180px)",
    "left": "10px",
    "top": "150px",
    "width": "232.648px"
   },
   "toc_section_display": true,
   "toc_window_display": true
  },
  "varInspector": {
   "cols": {
    "lenName": 16,
    "lenType": 16,
    "lenVar": 40
   },
   "kernels_config": {
    "python": {
     "delete_cmd_postfix": "",
     "delete_cmd_prefix": "del ",
     "library": "var_list.py",
     "varRefreshCmd": "print(var_dic_list())"
    },
    "r": {
     "delete_cmd_postfix": ") ",
     "delete_cmd_prefix": "rm(",
     "library": "var_list.r",
     "varRefreshCmd": "cat(var_dic_list()) "
    }
   },
   "position": {
    "height": "394.4px",
    "left": "1161.6px",
    "right": "20px",
    "top": "120px",
    "width": "354.4px"
   },
   "types_to_exclude": [
    "module",
    "function",
    "builtin_function_or_method",
    "instance",
    "_Feature"
   ],
   "window_display": false
  }
 },
 "nbformat": 4,
 "nbformat_minor": 4
}

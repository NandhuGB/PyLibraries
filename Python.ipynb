{
 "cells": [
  {
   "cell_type": "markdown",
   "id": "3bb2fbf2-024c-4338-a265-cb767093d54e",
   "metadata": {},
   "source": [
    "### **First Python Program**"
   ]
  },
  {
   "cell_type": "code",
   "execution_count": 1,
   "id": "6312bf90-a652-42b9-a9ad-9b0b4c5c7693",
   "metadata": {},
   "outputs": [
    {
     "name": "stdout",
     "output_type": "stream",
     "text": [
      "Hello World\n"
     ]
    }
   ],
   "source": [
    "print(\"Hello World\")"
   ]
  },
  {
   "cell_type": "code",
   "execution_count": 2,
   "id": "b341c895-0ced-4a59-91ba-745e627f0ebb",
   "metadata": {},
   "outputs": [
    {
     "name": "stdout",
     "output_type": "stream",
     "text": [
      "Hello World\n"
     ]
    }
   ],
   "source": [
    "print('Hello World')"
   ]
  },
  {
   "cell_type": "code",
   "execution_count": 8,
   "id": "2aa41aab-2ec8-4a0b-b55b-7684874d99f3",
   "metadata": {},
   "outputs": [
    {
     "name": "stdout",
     "output_type": "stream",
     "text": [
      "hello world\n",
      "new line\n"
     ]
    }
   ],
   "source": [
    "print(\"hello\", 'world', end =\"\\n\")  #end has default value new line carriage return\n",
    "print(\"new line\")"
   ]
  },
  {
   "cell_type": "code",
   "execution_count": 7,
   "id": "0e93bf4c-3674-42cb-8588-dc449a32e339",
   "metadata": {},
   "outputs": [
    {
     "name": "stdout",
     "output_type": "stream",
     "text": [
      "hello world\tnew line\n"
     ]
    }
   ],
   "source": [
    "print(\"hello\", 'world', end =\"\\t\") # but we can change it\n",
    "print(\"new line\")"
   ]
  },
  {
   "cell_type": "markdown",
   "id": "bb53a816-576d-46bc-a21d-dac2d097a73d",
   "metadata": {},
   "source": [
    "### **Variables**"
   ]
  },
  {
   "cell_type": "code",
   "execution_count": 79,
   "id": "227837e3-17e6-48c1-a307-13775520028d",
   "metadata": {},
   "outputs": [],
   "source": [
    "age = 12"
   ]
  },
  {
   "cell_type": "code",
   "execution_count": 4,
   "id": "f99f7f2b-8fc0-4090-80d9-5e2cd5588f91",
   "metadata": {},
   "outputs": [],
   "source": [
    "name = \"nandhu\""
   ]
  },
  {
   "cell_type": "code",
   "execution_count": 5,
   "id": "e267a247-43ed-40b5-af59-46d8c3020eab",
   "metadata": {},
   "outputs": [],
   "source": [
    "surname = 'Gopal'"
   ]
  },
  {
   "cell_type": "code",
   "execution_count": 6,
   "id": "9bc2daec-1c32-4ecf-ac2c-5db3640ad9a6",
   "metadata": {},
   "outputs": [],
   "source": [
    "price = 12.23"
   ]
  },
  {
   "cell_type": "code",
   "execution_count": 7,
   "id": "3def1f9a-13c5-47f1-abc3-958d39209b1f",
   "metadata": {},
   "outputs": [],
   "source": [
    "first_name = \"Nandhagopal\"   # snake case is best practice for variable name, no special character or starting with a number"
   ]
  },
  {
   "cell_type": "code",
   "execution_count": 10,
   "id": "e1eff626-0e17-4511-b3f6-59f7ad24e896",
   "metadata": {},
   "outputs": [],
   "source": [
    "is_online = False "
   ]
  },
  {
   "cell_type": "code",
   "execution_count": 11,
   "id": "ce1471f9-499f-4e3d-9619-3e1b76605f4e",
   "metadata": {},
   "outputs": [],
   "source": [
    "patient_name = \"John Smith\""
   ]
  },
  {
   "cell_type": "code",
   "execution_count": 12,
   "id": "745af35a-2a1f-4ae7-9c14-bc83995a3d71",
   "metadata": {},
   "outputs": [],
   "source": [
    "patient_age = 20"
   ]
  },
  {
   "cell_type": "code",
   "execution_count": 13,
   "id": "21d660ba-3598-4acc-84b3-ff788aeac0e6",
   "metadata": {},
   "outputs": [],
   "source": [
    "is_new_patient = True"
   ]
  },
  {
   "cell_type": "markdown",
   "id": "5b0d1b30-4d6e-4069-a3fc-a4f331d6dd92",
   "metadata": {},
   "source": [
    "### **User Input**"
   ]
  },
  {
   "cell_type": "code",
   "execution_count": 18,
   "id": "1915d489-ce9f-438d-b663-33c0308283e8",
   "metadata": {},
   "outputs": [
    {
     "name": "stdin",
     "output_type": "stream",
     "text": [
      "What is your name? Nila\n"
     ]
    }
   ],
   "source": [
    "name = input(\"What is your name?\")"
   ]
  },
  {
   "cell_type": "code",
   "execution_count": 20,
   "id": "8f69a613-6ac1-41bd-8b13-4dc302c84418",
   "metadata": {},
   "outputs": [
    {
     "name": "stdout",
     "output_type": "stream",
     "text": [
      "Hello Nila\n"
     ]
    }
   ],
   "source": [
    "print(\"Hello \" +name)"
   ]
  },
  {
   "cell_type": "markdown",
   "id": "abf97c3e-a4cd-4b68-b19c-0ccd1cc1f7af",
   "metadata": {},
   "source": [
    "### **Type Conversion**"
   ]
  },
  {
   "cell_type": "code",
   "execution_count": 27,
   "id": "d595f7d5-9744-4731-b020-5bb6dfb5b000",
   "metadata": {
    "scrolled": true
   },
   "outputs": [
    {
     "name": "stdin",
     "output_type": "stream",
     "text": [
      "what year did you born? 1997\n"
     ]
    }
   ],
   "source": [
    "birth_year = input(\"what year did you born?\")"
   ]
  },
  {
   "cell_type": "code",
   "execution_count": 28,
   "id": "c80210af-1fb1-4ce1-a9b5-67098d4dde86",
   "metadata": {},
   "outputs": [],
   "source": [
    "birth_year_int = int(birth_year)"
   ]
  },
  {
   "cell_type": "code",
   "execution_count": 30,
   "id": "a9754f9d-5071-44fe-81d4-ae09f78fb231",
   "metadata": {},
   "outputs": [],
   "source": [
    "user_age = 2023 - birth_year_int"
   ]
  },
  {
   "cell_type": "code",
   "execution_count": 32,
   "id": "b0d8b072-42c5-4833-bd96-a0946aba8539",
   "metadata": {},
   "outputs": [
    {
     "name": "stdout",
     "output_type": "stream",
     "text": [
      "The user 26 years old\n"
     ]
    }
   ],
   "source": [
    "print(\"The user \"+ str(user_age) + \" years old\")"
   ]
  },
  {
   "cell_type": "code",
   "execution_count": 33,
   "id": "e1f85213-639a-4b9b-b6df-40329749573f",
   "metadata": {},
   "outputs": [],
   "source": [
    "# int() float() str() bool()"
   ]
  },
  {
   "cell_type": "code",
   "execution_count": 34,
   "id": "1cb9315d-5af0-4e85-9bdf-f9ee80ee62f9",
   "metadata": {},
   "outputs": [
    {
     "name": "stdin",
     "output_type": "stream",
     "text": [
      "enter the first number 12\n"
     ]
    }
   ],
   "source": [
    "first = float(input(\"enter the first number\"))"
   ]
  },
  {
   "cell_type": "code",
   "execution_count": 35,
   "id": "4b43971d-23fb-4ea6-855a-333537ff0624",
   "metadata": {},
   "outputs": [
    {
     "name": "stdin",
     "output_type": "stream",
     "text": [
      "Enter the second number 18.1\n"
     ]
    }
   ],
   "source": [
    "second = float(input(\"Enter the second number\"))"
   ]
  },
  {
   "cell_type": "code",
   "execution_count": 38,
   "id": "88cda6e3-2a1c-4b70-9872-0884e0b1f1a8",
   "metadata": {},
   "outputs": [
    {
     "name": "stdout",
     "output_type": "stream",
     "text": [
      "the sum of the two given numbers is 30.1\n"
     ]
    }
   ],
   "source": [
    "print(f\"the sum of the two given numbers is {first + second}\")     # this  f is print formatter "
   ]
  },
  {
   "cell_type": "markdown",
   "id": "9365e265-b2ef-42b8-a1b4-19d1448f3b4c",
   "metadata": {},
   "source": [
    "### **Strings**"
   ]
  },
  {
   "cell_type": "code",
   "execution_count": 50,
   "id": "e561e978-6f90-4b77-993c-fed618bf71df",
   "metadata": {},
   "outputs": [],
   "source": [
    "course = \"python for beginners\" # string is object in python"
   ]
  },
  {
   "cell_type": "code",
   "execution_count": 51,
   "id": "09d03f80-c7ba-426c-9817-a6dbdb2cec26",
   "metadata": {},
   "outputs": [
    {
     "data": {
      "text/plain": [
       "'Python for beginners'"
      ]
     },
     "execution_count": 51,
     "metadata": {},
     "output_type": "execute_result"
    }
   ],
   "source": [
    "course.capitalize()"
   ]
  },
  {
   "cell_type": "code",
   "execution_count": 52,
   "id": "b11a541a-50e7-4c02-b226-bbd0fe4e52eb",
   "metadata": {},
   "outputs": [
    {
     "data": {
      "text/plain": [
       "'PYTHON FOR BEGINNERS'"
      ]
     },
     "execution_count": 52,
     "metadata": {},
     "output_type": "execute_result"
    }
   ],
   "source": [
    "course.upper()"
   ]
  },
  {
   "cell_type": "code",
   "execution_count": 53,
   "id": "5959275e-81fe-4fb4-b4e1-9facc3a599c9",
   "metadata": {},
   "outputs": [
    {
     "data": {
      "text/plain": [
       "'python for beginners'"
      ]
     },
     "execution_count": 53,
     "metadata": {},
     "output_type": "execute_result"
    }
   ],
   "source": [
    "course"
   ]
  },
  {
   "cell_type": "code",
   "execution_count": 54,
   "id": "8ed1564a-a6b5-44b8-9800-487ffcc51514",
   "metadata": {},
   "outputs": [
    {
     "data": {
      "text/plain": [
       "1"
      ]
     },
     "execution_count": 54,
     "metadata": {},
     "output_type": "execute_result"
    }
   ],
   "source": [
    "course.find(\"y\")"
   ]
  },
  {
   "cell_type": "code",
   "execution_count": 55,
   "id": "1c5c06cc-eec3-4fed-89d7-2879ddc169dd",
   "metadata": {},
   "outputs": [
    {
     "data": {
      "text/plain": [
       "'python 4 beginners'"
      ]
     },
     "execution_count": 55,
     "metadata": {},
     "output_type": "execute_result"
    }
   ],
   "source": [
    "course.replace(\"for\", \"4\")"
   ]
  },
  {
   "cell_type": "code",
   "execution_count": 56,
   "id": "a12ef880-67ce-4de2-b5de-c67a696574a6",
   "metadata": {},
   "outputs": [
    {
     "name": "stdout",
     "output_type": "stream",
     "text": [
      "True\n"
     ]
    }
   ],
   "source": [
    "print(\"python\" in course)"
   ]
  },
  {
   "cell_type": "markdown",
   "id": "0dcd7cbc-813c-4d55-871d-df71ada29823",
   "metadata": {},
   "source": [
    "### **Arithmetic Operations**"
   ]
  },
  {
   "cell_type": "code",
   "execution_count": 80,
   "id": "18901a2a-ac42-43f5-bb5c-0d4ef8d53572",
   "metadata": {},
   "outputs": [
    {
     "data": {
      "text/plain": [
       "13"
      ]
     },
     "execution_count": 80,
     "metadata": {},
     "output_type": "execute_result"
    }
   ],
   "source": [
    "10 + 3  # data type should match   "
   ]
  },
  {
   "cell_type": "code",
   "execution_count": 58,
   "id": "0999eee4-4693-44bb-b64e-6fd43d3a0c74",
   "metadata": {},
   "outputs": [
    {
     "data": {
      "text/plain": [
       "7"
      ]
     },
     "execution_count": 58,
     "metadata": {},
     "output_type": "execute_result"
    }
   ],
   "source": [
    "10 - 3"
   ]
  },
  {
   "cell_type": "code",
   "execution_count": 59,
   "id": "72ab9921-7fd9-4f61-b620-97283a1d6423",
   "metadata": {},
   "outputs": [
    {
     "data": {
      "text/plain": [
       "20"
      ]
     },
     "execution_count": 59,
     "metadata": {},
     "output_type": "execute_result"
    }
   ],
   "source": [
    "10 * 2"
   ]
  },
  {
   "cell_type": "code",
   "execution_count": 66,
   "id": "8f64b718-33c6-448b-b7a9-b896a383e70b",
   "metadata": {},
   "outputs": [
    {
     "data": {
      "text/plain": [
       "5.5"
      ]
     },
     "execution_count": 66,
     "metadata": {},
     "output_type": "execute_result"
    }
   ],
   "source": [
    "11 / 2"
   ]
  },
  {
   "cell_type": "code",
   "execution_count": 67,
   "id": "80cf00e9-26c9-4d9e-aa87-69726fbe1eb2",
   "metadata": {},
   "outputs": [
    {
     "data": {
      "text/plain": [
       "5"
      ]
     },
     "execution_count": 67,
     "metadata": {},
     "output_type": "execute_result"
    }
   ],
   "source": [
    "11 // 2"
   ]
  },
  {
   "cell_type": "code",
   "execution_count": 68,
   "id": "15fb1fb8-0ebb-4cdc-81b2-5adf36560d58",
   "metadata": {},
   "outputs": [
    {
     "data": {
      "text/plain": [
       "1"
      ]
     },
     "execution_count": 68,
     "metadata": {},
     "output_type": "execute_result"
    }
   ],
   "source": [
    "3 % 2"
   ]
  },
  {
   "cell_type": "code",
   "execution_count": 71,
   "id": "0c6a957d-ce9d-462e-9e15-caeeef1ef3a8",
   "metadata": {},
   "outputs": [
    {
     "name": "stdout",
     "output_type": "stream",
     "text": [
      "6\n"
     ]
    }
   ],
   "source": [
    "x = 3\n",
    "x = x + 3 \n",
    "print(x)"
   ]
  },
  {
   "cell_type": "code",
   "execution_count": 72,
   "id": "fb3f8953-ff2c-4fa4-856f-b474bedde85e",
   "metadata": {},
   "outputs": [
    {
     "name": "stdout",
     "output_type": "stream",
     "text": [
      "6\n"
     ]
    }
   ],
   "source": [
    "x = 3\n",
    "x += 3\n",
    "print(x)"
   ]
  },
  {
   "cell_type": "markdown",
   "id": "bfb202e2-a6eb-490c-b9ff-9101af046c64",
   "metadata": {},
   "source": [
    "### **Operator Precedence**"
   ]
  },
  {
   "cell_type": "markdown",
   "id": "b1fd3f21-cd86-482d-98bc-835a746ece65",
   "metadata": {},
   "source": [
    "\n",
    "#### **Arithmetic Operators**: \n",
    "These are evaluated first. The order of precedence is as follows:\n",
    "\n",
    "1. Exponentiation **\n",
    "2. Multiplication and division **(*, /, //, %)**\n",
    "3. Addition and subtraction **(+, -)**\n",
    "4. Relational Operators: These are evaluated next. They compare values and return a Boolean result. Examples include **(<, >, <=, >=, ==, and !=)**.\n",
    "5. Logical Operators: These are evaluated last. They combine Boolean values. The logical operators are **and**, **or**, and **not**."
   ]
  },
  {
   "cell_type": "markdown",
   "id": "899276ba-8fc4-4e49-bb29-9315c0ba6b1b",
   "metadata": {},
   "source": [
    "##### **Logical operator**"
   ]
  },
  {
   "cell_type": "code",
   "execution_count": 75,
   "id": "ef75119f-c6f2-4855-927d-05be18f84eb1",
   "metadata": {},
   "outputs": [
    {
     "name": "stdout",
     "output_type": "stream",
     "text": [
      "True\n"
     ]
    }
   ],
   "source": [
    "price = 25\n",
    "\n",
    "print( 10 < price and price < 30 )   # True when both operants are true"
   ]
  },
  {
   "cell_type": "code",
   "execution_count": 76,
   "id": "92a510b8-574a-4231-9295-624dc80a270c",
   "metadata": {},
   "outputs": [
    {
     "name": "stdout",
     "output_type": "stream",
     "text": [
      "True\n"
     ]
    }
   ],
   "source": [
    "price  = 5\n",
    "\n",
    "print ( 10 < price or price < 30)"
   ]
  },
  {
   "cell_type": "code",
   "execution_count": 78,
   "id": "a0d65cf4-33a6-44c8-813b-5634d0514c0b",
   "metadata": {},
   "outputs": [
    {
     "name": "stdout",
     "output_type": "stream",
     "text": [
      "False\n"
     ]
    }
   ],
   "source": [
    "its_true = True\n",
    "\n",
    "print ( not its_true)"
   ]
  },
  {
   "cell_type": "markdown",
   "id": "d2d84473-a71f-45a8-a37f-fd22861f6b09",
   "metadata": {},
   "source": [
    "### **If- else**"
   ]
  },
  {
   "cell_type": "code",
   "execution_count": 85,
   "id": "047bd140-d97c-417d-b4c5-1e561bc83a65",
   "metadata": {},
   "outputs": [
    {
     "name": "stdout",
     "output_type": "stream",
     "text": [
      "its hot day\n",
      "Done\n"
     ]
    }
   ],
   "source": [
    "temperature =  35\n",
    "\n",
    "if temperature > 30:\n",
    "    print(\"its hot day\")\n",
    "\n",
    "print(\"Done\")\n",
    "\n",
    "# indentation is important in python"
   ]
  },
  {
   "cell_type": "code",
   "execution_count": 89,
   "id": "8ddbfd02-3a6b-4fc1-853e-722c015cbc0e",
   "metadata": {},
   "outputs": [
    {
     "name": "stdout",
     "output_type": "stream",
     "text": [
      "its normal day\n"
     ]
    }
   ],
   "source": [
    "temperature =  20\n",
    "\n",
    "if temperature > 30:\n",
    "    print(\"its hot day\")\n",
    "elif temperature <= 20:\n",
    "    print(\"its normal day\")\n",
    "elif temperature <= 10:\n",
    "    print(\"its cold day\")\n",
    "else:\n",
    "    print(\"there is no data\")"
   ]
  },
  {
   "cell_type": "code",
   "execution_count": 94,
   "id": "d1cf9118-a342-4f2b-933d-ee23863101ac",
   "metadata": {},
   "outputs": [
    {
     "name": "stdin",
     "output_type": "stream",
     "text": [
      "Enter your weight:  76\n",
      "is it in (K)g or (L)bs:  k\n"
     ]
    },
    {
     "name": "stdout",
     "output_type": "stream",
     "text": [
      "Your weight in lbs : 167.5513192568 Lbs\n"
     ]
    }
   ],
   "source": [
    " # Exercise \n",
    "\n",
    "weight = float(input(\"Enter your weight: \"))\n",
    "scale = input(\"is it in (K)g or (L)bs: \") ## 12 lbs  = 1 kg\n",
    "\n",
    "if scale.upper() == \"K\":\n",
    "    print(f\"Your weight in lbs : { 2.2046226218  * weight} Lbs\")\n",
    "elif scale.upper() == \"L\":\n",
    "    print(f\"Your weight in kg : {weight //  2.2046226218 } Kg\")\n",
    "else:\n",
    "    print(\"Invalid metrics\")\n"
   ]
  },
  {
   "cell_type": "markdown",
   "id": "84bc53f5-9d15-47f3-8153-ac3b8514b806",
   "metadata": {},
   "source": [
    "### **While**"
   ]
  },
  {
   "cell_type": "code",
   "execution_count": 98,
   "id": "9c26f32f-5c0f-4ea2-9c06-bab9e1a0ea52",
   "metadata": {},
   "outputs": [
    {
     "name": "stdout",
     "output_type": "stream",
     "text": [
      "*\n",
      "**\n",
      "***\n",
      "****\n",
      "*****\n"
     ]
    }
   ],
   "source": [
    "i = 1\n",
    "\n",
    "while i <= 5:\n",
    "    print(i * \"*\")\n",
    "    i+=1\n",
    "    \n",
    "    "
   ]
  },
  {
   "cell_type": "markdown",
   "id": "ebea50f0-7725-41d8-9b80-247ca45fbb19",
   "metadata": {},
   "source": [
    "### **Lists**"
   ]
  },
  {
   "cell_type": "code",
   "execution_count": 99,
   "id": "a0da0ddc-1907-4df6-9134-87a5860ebafc",
   "metadata": {},
   "outputs": [],
   "source": [
    "list_name = [\"nandhu\",\"Naruto\",\"Hinata\",\"Kakashi\",\"Tsunade\"]"
   ]
  },
  {
   "cell_type": "code",
   "execution_count": 100,
   "id": "83bb0d12-c37c-4b67-b8ad-4cd0e416f6c4",
   "metadata": {},
   "outputs": [
    {
     "data": {
      "text/plain": [
       "'nandhu'"
      ]
     },
     "execution_count": 100,
     "metadata": {},
     "output_type": "execute_result"
    }
   ],
   "source": [
    "list_name[0]"
   ]
  },
  {
   "cell_type": "code",
   "execution_count": 101,
   "id": "968a8da8-4154-4b9e-bed9-0625e5ece29a",
   "metadata": {},
   "outputs": [
    {
     "data": {
      "text/plain": [
       "'Tsunade'"
      ]
     },
     "execution_count": 101,
     "metadata": {},
     "output_type": "execute_result"
    }
   ],
   "source": [
    "list_name[-1]"
   ]
  },
  {
   "cell_type": "code",
   "execution_count": 102,
   "id": "4d36e32a-d462-4d7b-b3e0-284481b883da",
   "metadata": {},
   "outputs": [
    {
     "data": {
      "text/plain": [
       "['nandhu', 'Naruto', 'Hinata']"
      ]
     },
     "execution_count": 102,
     "metadata": {},
     "output_type": "execute_result"
    }
   ],
   "source": [
    "list_name[0:3]"
   ]
  },
  {
   "cell_type": "code",
   "execution_count": 103,
   "id": "db67510d-feb8-4fbf-9684-31eec8b796b9",
   "metadata": {},
   "outputs": [],
   "source": [
    "list_name[0] = \"Nandhu\""
   ]
  },
  {
   "cell_type": "code",
   "execution_count": 104,
   "id": "750d4b2a-3277-4363-84d0-2c32343caf42",
   "metadata": {},
   "outputs": [
    {
     "name": "stdout",
     "output_type": "stream",
     "text": [
      "['Nandhu', 'Naruto', 'Hinata', 'Kakashi', 'Tsunade']\n"
     ]
    }
   ],
   "source": [
    "print(list_name)"
   ]
  },
  {
   "cell_type": "code",
   "execution_count": 105,
   "id": "f6cdc468-4a46-4482-9ff0-0615f15e887c",
   "metadata": {},
   "outputs": [],
   "source": [
    "list_name.append(\"Sasuke\")"
   ]
  },
  {
   "cell_type": "code",
   "execution_count": 106,
   "id": "9f21184d-fcd0-44aa-8d06-8a0d3e1b660c",
   "metadata": {},
   "outputs": [
    {
     "name": "stdout",
     "output_type": "stream",
     "text": [
      "['Nandhu', 'Naruto', 'Hinata', 'Kakashi', 'Tsunade', 'Sasuke']\n"
     ]
    }
   ],
   "source": [
    "print(list_name)"
   ]
  },
  {
   "cell_type": "code",
   "execution_count": 107,
   "id": "0fbbbfb9-4bde-40ce-bcd2-981c43c9642b",
   "metadata": {},
   "outputs": [],
   "source": [
    "list_name.insert(0,\"Sakura\")"
   ]
  },
  {
   "cell_type": "code",
   "execution_count": 108,
   "id": "bd248615-47ac-41c5-90d3-98770e2876ce",
   "metadata": {},
   "outputs": [
    {
     "name": "stdout",
     "output_type": "stream",
     "text": [
      "['Sakura', 'Nandhu', 'Naruto', 'Hinata', 'Kakashi', 'Tsunade', 'Sasuke']\n"
     ]
    }
   ],
   "source": [
    "print(list_name)"
   ]
  },
  {
   "cell_type": "code",
   "execution_count": 110,
   "id": "2055a986-eb22-48ee-bb15-0bf990eaef52",
   "metadata": {},
   "outputs": [],
   "source": [
    "list_name.remove(\"Nandhu\")"
   ]
  },
  {
   "cell_type": "code",
   "execution_count": 111,
   "id": "ace4a8f8-6dd5-4c1d-82f1-45d4acb62c2a",
   "metadata": {},
   "outputs": [
    {
     "name": "stdout",
     "output_type": "stream",
     "text": [
      "['Sakura', 'Naruto', 'Hinata', 'Kakashi', 'Tsunade', 'Sasuke']\n"
     ]
    }
   ],
   "source": [
    "print(list_name)"
   ]
  },
  {
   "cell_type": "code",
   "execution_count": 112,
   "id": "79bb006f-8e84-4431-9356-a59198fe41e4",
   "metadata": {},
   "outputs": [],
   "source": [
    "list_name.clear()"
   ]
  },
  {
   "cell_type": "code",
   "execution_count": 113,
   "id": "fc90af79-6649-400f-a2ab-a71c519e6016",
   "metadata": {},
   "outputs": [
    {
     "name": "stdout",
     "output_type": "stream",
     "text": [
      "[]\n"
     ]
    }
   ],
   "source": [
    "print(list_name)"
   ]
  },
  {
   "cell_type": "code",
   "execution_count": 114,
   "id": "39e25b56-791b-42a2-84fa-02289c70203c",
   "metadata": {},
   "outputs": [],
   "source": [
    "list_name = [ 1, 2,3,4 ,5 ]"
   ]
  },
  {
   "cell_type": "code",
   "execution_count": 115,
   "id": "9d3d1680-1965-4728-99a0-1012ed38b659",
   "metadata": {},
   "outputs": [
    {
     "data": {
      "text/plain": [
       "5"
      ]
     },
     "execution_count": 115,
     "metadata": {},
     "output_type": "execute_result"
    }
   ],
   "source": [
    "len(list_name)"
   ]
  },
  {
   "cell_type": "markdown",
   "id": "86034eaa-06ed-43af-a9c7-c29ea4caf265",
   "metadata": {},
   "source": [
    "### **For-Loop**"
   ]
  },
  {
   "cell_type": "code",
   "execution_count": 116,
   "id": "095de82a-ff89-4f84-8fc6-7fcadd662005",
   "metadata": {},
   "outputs": [],
   "source": [
    "list_name = [1,2,3,4,5]"
   ]
  },
  {
   "cell_type": "code",
   "execution_count": 117,
   "id": "b6eed3cf-cd47-4897-9e6f-c30d309937a6",
   "metadata": {},
   "outputs": [
    {
     "name": "stdout",
     "output_type": "stream",
     "text": [
      "1\n",
      "2\n",
      "3\n",
      "4\n",
      "5\n"
     ]
    }
   ],
   "source": [
    "for item in list_name:\n",
    "    print(item)"
   ]
  },
  {
   "cell_type": "code",
   "execution_count": 118,
   "id": "b0d10f23-6d0d-4bd4-be11-9d4223a694d4",
   "metadata": {},
   "outputs": [
    {
     "name": "stdout",
     "output_type": "stream",
     "text": [
      "1\n",
      "2\n",
      "3\n",
      "4\n",
      "5\n"
     ]
    }
   ],
   "source": [
    "# using while loop\n",
    "\n",
    "i = 0 \n",
    "while i < len(list_name):\n",
    "    print(list_name[i])\n",
    "    i = i + 1\n",
    "    "
   ]
  },
  {
   "cell_type": "code",
   "execution_count": 120,
   "id": "93eccbd8-5d54-410e-a07e-3749c325478f",
   "metadata": {},
   "outputs": [
    {
     "name": "stdout",
     "output_type": "stream",
     "text": [
      "1\n",
      "2\n",
      "3\n",
      "4\n",
      "5\n"
     ]
    }
   ],
   "source": [
    "for index in range(0, len(list_name)):   ## range(0,5)--> 0,1,2,3,4  which is equals to range(5)\n",
    "    print(list_name[index])"
   ]
  },
  {
   "cell_type": "code",
   "execution_count": 122,
   "id": "3a3d0ebb-c872-4b56-8e8f-28647fa78757",
   "metadata": {},
   "outputs": [
    {
     "name": "stdout",
     "output_type": "stream",
     "text": [
      "0\n",
      "2\n",
      "4\n",
      "6\n",
      "8\n"
     ]
    }
   ],
   "source": [
    "for item in range(0,10,2):\n",
    "    print(item)"
   ]
  },
  {
   "cell_type": "markdown",
   "id": "2260c861-bd94-4c30-80a7-de5ef50de4fb",
   "metadata": {},
   "source": [
    "### **Tuples**"
   ]
  },
  {
   "cell_type": "code",
   "execution_count": 129,
   "id": "764eaf81-491e-474f-8ec5-1977b82e98ad",
   "metadata": {},
   "outputs": [],
   "source": [
    "tuple_name = (1,2,3,4,5)  # tuples are immutable"
   ]
  },
  {
   "cell_type": "code",
   "execution_count": 127,
   "id": "a140bc9c-5fca-4275-be05-f7f0b38ad09b",
   "metadata": {},
   "outputs": [
    {
     "data": {
      "text/plain": [
       "1"
      ]
     },
     "execution_count": 127,
     "metadata": {},
     "output_type": "execute_result"
    }
   ],
   "source": [
    "tuple_name.count(3)"
   ]
  },
  {
   "cell_type": "code",
   "execution_count": 128,
   "id": "28bb74b8-ffe4-4ced-9a40-42e04ef1fdb7",
   "metadata": {},
   "outputs": [
    {
     "data": {
      "text/plain": [
       "1"
      ]
     },
     "execution_count": 128,
     "metadata": {},
     "output_type": "execute_result"
    }
   ],
   "source": [
    "tuple_name.index(2)"
   ]
  },
  {
   "cell_type": "code",
   "execution_count": null,
   "id": "bd0113bb-63e4-4a0b-92ec-2ae525f496dc",
   "metadata": {},
   "outputs": [],
   "source": []
  }
 ],
 "metadata": {
  "kernelspec": {
   "display_name": "Python 3 (ipykernel)",
   "language": "python",
   "name": "python3"
  },
  "language_info": {
   "codemirror_mode": {
    "name": "ipython",
    "version": 3
   },
   "file_extension": ".py",
   "mimetype": "text/x-python",
   "name": "python",
   "nbconvert_exporter": "python",
   "pygments_lexer": "ipython3",
   "version": "3.11.7"
  }
 },
 "nbformat": 4,
 "nbformat_minor": 5
}
